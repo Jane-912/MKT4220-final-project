{
 "cells": [
  {
   "cell_type": "code",
   "execution_count": 1,
   "id": "718d9e99",
   "metadata": {},
   "outputs": [],
   "source": [
    "import pandas as pd"
   ]
  },
  {
   "cell_type": "code",
   "execution_count": 2,
   "id": "fef5b37b",
   "metadata": {},
   "outputs": [
    {
     "data": {
      "text/plain": [
       "(265, 20)"
      ]
     },
     "execution_count": 2,
     "metadata": {},
     "output_type": "execute_result"
    }
   ],
   "source": [
    "df1 = pd.read_excel('lipstick_all.xls')\n",
    " \n",
    " \n",
    "df1.shape[0],df1.shape[1]"
   ]
  },
  {
   "cell_type": "code",
   "execution_count": 3,
   "id": "bfcd9282",
   "metadata": {},
   "outputs": [
    {
     "data": {
      "text/plain": [
       "(106, 20)"
      ]
     },
     "execution_count": 3,
     "metadata": {},
     "output_type": "execute_result"
    }
   ],
   "source": [
    "df2 = pd.read_excel('foundation_all.xls')\n",
    " \n",
    " \n",
    "df2.shape[0],df2.shape[1]"
   ]
  },
  {
   "cell_type": "code",
   "execution_count": 5,
   "id": "01703f4a",
   "metadata": {},
   "outputs": [
    {
     "data": {
      "text/plain": [
       "(57, 11)"
      ]
     },
     "execution_count": 5,
     "metadata": {},
     "output_type": "execute_result"
    }
   ],
   "source": [
    "df_test1 = pd.read_excel('test_lipstick1.xlsx')\n",
    " \n",
    " \n",
    "df_test1.shape[0],df_test1.shape[1]"
   ]
  },
  {
   "cell_type": "code",
   "execution_count": 7,
   "id": "6537b2c3",
   "metadata": {},
   "outputs": [
    {
     "data": {
      "text/plain": [
       "(77, 11)"
      ]
     },
     "execution_count": 7,
     "metadata": {},
     "output_type": "execute_result"
    }
   ],
   "source": [
    "df_test2 = pd.read_excel('test_foundation1.xls')\n",
    " \n",
    " \n",
    "df_test2.shape[0],df_test2.shape[1]"
   ]
  },
  {
   "cell_type": "markdown",
   "id": "10d3f7a8",
   "metadata": {},
   "source": [
    "# deal with description"
   ]
  },
  {
   "cell_type": "code",
   "execution_count": 8,
   "id": "e3def6ec",
   "metadata": {},
   "outputs": [],
   "source": [
    "df1.insert(loc=20, column='description_exist', value=1)  \n",
    "df1[\"description\"].fillna(0, inplace = True)\n",
    "for i in range(265):\n",
    "     if df1[\"description\"][i] == 0:\n",
    "        df1.loc[i,\"description_exist\"] = 0"
   ]
  },
  {
   "cell_type": "code",
   "execution_count": 9,
   "id": "2a1f34f4",
   "metadata": {},
   "outputs": [],
   "source": [
    "df2.insert(loc=20, column='description_exist', value=1)  \n",
    "df2[\"description\"].fillna(0, inplace = True)\n",
    "for i in range(106):\n",
    "     if df2[\"description\"][i] == 0:\n",
    "        df2.loc[i,\"description_exist\"] = 0"
   ]
  },
  {
   "cell_type": "markdown",
   "id": "8bf76d87",
   "metadata": {},
   "source": [
    "# deal with timestamp"
   ]
  },
  {
   "cell_type": "code",
   "execution_count": 8,
   "id": "b62bed64",
   "metadata": {},
   "outputs": [],
   "source": [
    "import time"
   ]
  },
  {
   "cell_type": "code",
   "execution_count": 10,
   "id": "492e9346",
   "metadata": {},
   "outputs": [],
   "source": [
    "df1.sort_values(by='date',axis=0,ascending=True, inplace=True)\n",
    "date_list = [i for i in range(265)]\n",
    "df1.insert(loc=21, column='date_tuple', value=date_list)"
   ]
  },
  {
   "cell_type": "code",
   "execution_count": 11,
   "id": "6fc1136e",
   "metadata": {},
   "outputs": [],
   "source": [
    "df2.sort_values(by='date',axis=0,ascending=True, inplace=True)\n",
    "date_list = [i for i in range(106)]\n",
    "df2.insert(loc=21, column='date_tuple', value=date_list)"
   ]
  },
  {
   "cell_type": "code",
   "execution_count": 12,
   "id": "e77e9ae2",
   "metadata": {},
   "outputs": [],
   "source": [
    "df_test1.sort_values(by='time',axis=0,ascending=True, inplace=True)\n",
    "date_list = [i for i in range(57)]\n",
    "df_test1.insert(loc=10, column='date_tuple', value=date_list)"
   ]
  },
  {
   "cell_type": "code",
   "execution_count": 13,
   "id": "33b6ddd7",
   "metadata": {},
   "outputs": [],
   "source": [
    "df_test2.sort_values(by='time',axis=0,ascending=True, inplace=True)\n",
    "date_list = [i for i in range(77)]\n",
    "df_test2.insert(loc=10, column='date_tuple', value=date_list)"
   ]
  },
  {
   "cell_type": "markdown",
   "id": "fec32c99",
   "metadata": {},
   "source": [
    "# Poisson"
   ]
  },
  {
   "cell_type": "code",
   "execution_count": 14,
   "id": "44c894a4",
   "metadata": {},
   "outputs": [],
   "source": [
    "import statsmodels # pip install statsmodels\n",
    "import statsmodels.api as sm"
   ]
  },
  {
   "cell_type": "markdown",
   "id": "daaa6413",
   "metadata": {},
   "source": [
    "Lipstick"
   ]
  },
  {
   "cell_type": "code",
   "execution_count": 19,
   "id": "3a2983e4",
   "metadata": {
    "scrolled": false
   },
   "outputs": [
    {
     "name": "stdout",
     "output_type": "stream",
     "text": [
      "                 Generalized Linear Model Regression Results                  \n",
      "==============================================================================\n",
      "Dep. Variable:              favorites   No. Observations:                  265\n",
      "Model:                            GLM   Df Residuals:                      259\n",
      "Model Family:                 Poisson   Df Model:                            5\n",
      "Link Function:                    Log   Scale:                          1.0000\n",
      "Method:                          IRLS   Log-Likelihood:                -40.430\n",
      "Date:                Thu, 08 Dec 2022   Deviance:                       35.727\n",
      "Time:                        16:55:10   Pearson chi2:                     95.3\n",
      "No. Iterations:                     6   Pseudo R-squ. (CS):           -0.01085\n",
      "Covariance Type:            nonrobust                                         \n",
      "=====================================================================================\n",
      "                        coef    std err          z      P>|z|      [0.025      0.975]\n",
      "-------------------------------------------------------------------------------------\n",
      "tags                 -0.0040      0.024     -0.165      0.869      -0.051       0.043\n",
      "quality           -5.006e-05      0.000     -0.258      0.796      -0.000       0.000\n",
      "colorful             -0.0456      0.015     -3.068      0.002      -0.075      -0.016\n",
      "face                 -0.0040      0.635     -0.006      0.995      -1.249       1.241\n",
      "description_exist    -0.4290      0.711     -0.604      0.546      -1.822       0.964\n",
      "date_tuple           -0.0094      0.004     -2.574      0.010      -0.017      -0.002\n",
      "=====================================================================================\n"
     ]
    }
   ],
   "source": [
    "X = df1[['tags','quality','colorful','face',\"description_exist\",\"date_tuple\"]]\n",
    "Y = (df1['favorites']-df1['favorites'].min())/(df1['favorites'].max()-df1['favorites'].min())\n",
    "poisson_training_results = sm.GLM(Y, X, family=sm.families.Poisson()).fit()\n",
    "print(poisson_training_results.summary())"
   ]
  },
  {
   "cell_type": "code",
   "execution_count": 20,
   "id": "0ce92600",
   "metadata": {
    "scrolled": false
   },
   "outputs": [
    {
     "name": "stdout",
     "output_type": "stream",
     "text": [
      "        mean   mean_se  mean_ci_lower  mean_ci_upper\n",
      "53  0.104198  0.082459       0.022093       0.491439\n",
      "46  0.220160  0.162329       0.051895       0.934002\n",
      "27  0.133131  0.100947       0.030120       0.588444\n",
      "28  0.039406  0.038941       0.005681       0.273346\n",
      "3   0.035865  0.036185       0.004965       0.259102\n",
      "50  0.026525  0.027757       0.003411       0.206246\n",
      "56  0.052567  0.046323       0.009346       0.295667\n",
      "29  0.040717  0.037716       0.006627       0.250177\n",
      "4   0.073675  0.060538       0.014720       0.368758\n",
      "48  0.105467  0.080419       0.023663       0.470072\n",
      "25  0.104021  0.075093       0.025272       0.428156\n",
      "30  0.050689  0.044721       0.008993       0.285694\n",
      "0   0.031371  0.030053       0.004798       0.205107\n",
      "5   0.098816  0.072815       0.023313       0.418850\n",
      "31  0.041811  0.037695       0.007143       0.244736\n",
      "6   0.078594  0.061832       0.016816       0.367329\n",
      "32  0.078221  0.057300       0.018612       0.328746\n",
      "1   0.037570  0.032057       0.007056       0.200052\n",
      "7   0.045330  0.038386       0.008621       0.238345\n",
      "49  0.037250  0.033225       0.006485       0.213967\n",
      "8   0.040635  0.033837       0.007945       0.207825\n",
      "33  0.066369  0.052828       0.013945       0.315861\n",
      "9   0.081462  0.056591       0.020875       0.317893\n",
      "34  0.072041  0.054835       0.016206       0.320243\n",
      "10  0.040807  0.034969       0.007609       0.218860\n",
      "11  0.087363  0.060457       0.022505       0.339140\n",
      "35  0.089512  0.067580       0.020382       0.393114\n",
      "12  0.161889  0.111527       0.041958       0.624626\n",
      "13  0.073047  0.052310       0.017949       0.297275\n",
      "26  0.092132  0.063699       0.023763       0.357209\n",
      "36  0.077837  0.053173       0.020403       0.296943\n",
      "14  0.087491  0.055804       0.025064       0.305409\n",
      "37  0.072229  0.052285       0.017480       0.298453\n",
      "15  0.051885  0.037975       0.012360       0.217793\n",
      "52  0.080829  0.058661       0.019490       0.335212\n",
      "16  0.066237  0.044821       0.017583       0.249513\n",
      "54  0.028072  0.024707       0.005001       0.157562\n",
      "17  0.078278  0.057882       0.018375       0.333471\n",
      "18  0.097468  0.062623       0.027667       0.343366\n",
      "19  0.112040  0.076965       0.029151       0.430625\n",
      "20  0.057322  0.044074       0.012701       0.258698\n",
      "38  0.049825  0.035827       0.012173       0.203941\n",
      "39  0.025816  0.022615       0.004637       0.143729\n",
      "21  0.102826  0.070411       0.026868       0.393526\n",
      "47  0.062883  0.045686       0.015140       0.261187\n",
      "40  0.016054  0.016608       0.002113       0.121950\n",
      "55  0.117697  0.081395       0.030347       0.456482\n",
      "22  0.027501  0.023515       0.005147       0.146950\n",
      "41  0.053937  0.043007       0.011303       0.257395\n",
      "43  0.040301  0.033193       0.008022       0.202480\n",
      "42  0.075431  0.047495       0.021958       0.259123\n",
      "51  0.039168  0.031850       0.007957       0.192798\n",
      "44  0.026083  0.022650       0.004756       0.143061\n",
      "2   0.026844  0.023299       0.004899       0.147105\n",
      "45  0.029866  0.026053       0.005403       0.165084\n",
      "23  0.025745  0.022399       0.004678       0.141670\n",
      "24  0.020278  0.018024       0.003552       0.115776\n"
     ]
    }
   ],
   "source": [
    "X_test = df_test1[['tag','quality','colorful','face','Description','date_tuple']]\n",
    "Y_test = (df_test1[\"like\"]-df_test1['like'].min())/(df_test1['like'].max()-df_test1['like'].min())\n",
    "poisson_predictions = poisson_training_results.get_prediction(X_test)\n",
    "#summary_frame() returns a pandas DataFrame\n",
    "predictions_summary_frame = poisson_predictions.summary_frame()\n",
    "print(predictions_summary_frame)"
   ]
  },
  {
   "cell_type": "code",
   "execution_count": 21,
   "id": "e95707c3",
   "metadata": {},
   "outputs": [],
   "source": [
    "predicted_counts = predictions_summary_frame['mean']\n",
    "actual_counts = Y_test"
   ]
  },
  {
   "cell_type": "code",
   "execution_count": 17,
   "id": "09a5a13d",
   "metadata": {},
   "outputs": [],
   "source": [
    "predictions_summary_frame['rank'] = predictions_summary_frame[\"mean\"].rank(axis=0,method='min',ascending=True)\n",
    "df_test1[\"rank\"] = df_test1[\"like\"].rank(axis=0,method='min',ascending=True)"
   ]
  },
  {
   "cell_type": "code",
   "execution_count": 29,
   "id": "4ad9af4c",
   "metadata": {},
   "outputs": [],
   "source": [
    "predictions_summary_frame['rank'] = predictions_summary_frame[\"mean\"].rank(axis=0,method='min',ascending=True)\n",
    "df_test1[\"rank\"] = Y_test.rank(axis=0,method='min',ascending=True)"
   ]
  },
  {
   "cell_type": "code",
   "execution_count": 30,
   "id": "ba40f0a1",
   "metadata": {},
   "outputs": [
    {
     "name": "stdout",
     "output_type": "stream",
     "text": [
      "32898.0\n"
     ]
    }
   ],
   "source": [
    "delta = predictions_summary_frame['rank'] - df_test1[\"rank\"]\n",
    "change = delta**2\n",
    "print(change.sum())"
   ]
  },
  {
   "cell_type": "code",
   "execution_count": 31,
   "id": "5fed263e",
   "metadata": {
    "collapsed": true
   },
   "outputs": [
    {
     "name": "stdout",
     "output_type": "stream",
     "text": [
      "53     7.0\n",
      "46    42.0\n",
      "27    47.0\n",
      "28   -11.0\n",
      "3    -29.0\n",
      "50    -4.0\n",
      "56    23.0\n",
      "29   -29.0\n",
      "4      4.0\n",
      "48    13.0\n",
      "25    25.0\n",
      "30     2.0\n",
      "0    -32.0\n",
      "5     35.0\n",
      "31    -7.0\n",
      "6     16.0\n",
      "32    27.0\n",
      "1    -43.0\n",
      "7    -33.0\n",
      "49   -24.0\n",
      "8    -38.0\n",
      "33    -4.0\n",
      "9    -11.0\n",
      "34    27.0\n",
      "10     1.0\n",
      "11     9.0\n",
      "35     3.0\n",
      "12    44.0\n",
      "13    30.0\n",
      "26    30.0\n",
      "36   -10.0\n",
      "14   -10.0\n",
      "37    19.0\n",
      "15   -27.0\n",
      "52     5.0\n",
      "16     4.0\n",
      "54   -12.0\n",
      "17    37.0\n",
      "18    27.0\n",
      "19    36.0\n",
      "20   -22.0\n",
      "38    14.0\n",
      "39   -36.0\n",
      "21    -2.0\n",
      "47   -20.0\n",
      "40   -37.0\n",
      "55     8.0\n",
      "22     1.0\n",
      "41     4.0\n",
      "43   -12.0\n",
      "42    18.0\n",
      "51     9.0\n",
      "44   -28.0\n",
      "2    -38.0\n",
      "45   -20.0\n",
      "23     2.0\n",
      "24   -30.0\n",
      "Name: rank, dtype: float64\n"
     ]
    }
   ],
   "source": [
    "print(delta)"
   ]
  },
  {
   "cell_type": "code",
   "execution_count": 32,
   "id": "6b960c59",
   "metadata": {},
   "outputs": [
    {
     "name": "stdout",
     "output_type": "stream",
     "text": [
      "-2.553063651338985 0.010677998035961233\n"
     ]
    }
   ],
   "source": [
    "import scipy.stats as ss\n",
    "\n",
    "data1 = Y_test.values.tolist()\n",
    "data2 = predictions_summary_frame['mean'].values.tolist()\n",
    "\n",
    "stat, p = ss.ranksums(data1, data2)\n",
    "print(stat,p)"
   ]
  },
  {
   "cell_type": "code",
   "execution_count": 33,
   "id": "9c9322ac",
   "metadata": {},
   "outputs": [],
   "source": [
    "from matplotlib import pyplot as plt"
   ]
  },
  {
   "cell_type": "code",
   "execution_count": 34,
   "id": "e27f00b3",
   "metadata": {
    "scrolled": true
   },
   "outputs": [
    {
     "data": {
      "image/png": "[encoded data removed]",
      "text/plain": [
       "<Figure size 432x288 with 1 Axes>"
      ]
     },
     "metadata": {
      "needs_background": "light"
     },
     "output_type": "display_data"
    }
   ],
   "source": [
    "fig = plt.figure()\n",
    "fig.suptitle('Predicted versus actual')\n",
    "predicted = plt.plot(df_test1.index, predictions_summary_frame[\"rank\"], 'go', label='Predicted counts', alpha=0.5)\n",
    "actual = plt.plot(df_test1.index, df_test1[\"rank\"], 'ro', label='Actual counts', alpha=0.5)\n",
    "plt.show()"
   ]
  },
  {
   "cell_type": "code",
   "execution_count": 36,
   "id": "09fc2a06",
   "metadata": {},
   "outputs": [
    {
     "data": {
      "image/png": "[encoded data removed]",
      "text/plain": [
       "<Figure size 432x288 with 1 Axes>"
      ]
     },
     "metadata": {
      "needs_background": "light"
     },
     "output_type": "display_data"
    }
   ],
   "source": [
    "fig = plt.figure()\n",
    "fig.suptitle('Predicted versus actual')\n",
    "predicted = plt.plot(df_test1.index, predictions_summary_frame[\"mean\"], 'go', label='Predicted counts', alpha=0.5)\n",
    "actual = plt.plot(df_test1.index, Y_test, 'ro', label='Actual counts', alpha=0.5)\n",
    "plt.show()"
   ]
  },
  {
   "cell_type": "markdown",
   "id": "33d65ea9",
   "metadata": {},
   "source": [
    "Foundation"
   ]
  },
  {
   "cell_type": "code",
   "execution_count": 37,
   "id": "44ad2fbe",
   "metadata": {},
   "outputs": [
    {
     "name": "stdout",
     "output_type": "stream",
     "text": [
      "                 Generalized Linear Model Regression Results                  \n",
      "==============================================================================\n",
      "Dep. Variable:              favorites   No. Observations:                  106\n",
      "Model:                            GLM   Df Residuals:                      100\n",
      "Model Family:                 Poisson   Df Model:                            5\n",
      "Link Function:                    Log   Scale:                          1.0000\n",
      "Method:                          IRLS   Log-Likelihood:                -11.421\n",
      "Date:                Thu, 08 Dec 2022   Deviance:                       11.361\n",
      "Time:                        17:38:05   Pearson chi2:                     22.7\n",
      "No. Iterations:                     7   Pseudo R-squ. (CS):            0.04632\n",
      "Covariance Type:            nonrobust                                         \n",
      "=====================================================================================\n",
      "                        coef    std err          z      P>|z|      [0.025      0.975]\n",
      "-------------------------------------------------------------------------------------\n",
      "tags                  0.0133      0.031      0.431      0.667      -0.047       0.074\n",
      "quality               0.0007      0.001      1.371      0.170      -0.000       0.002\n",
      "colorful             -0.0431      0.029     -1.503      0.133      -0.099       0.013\n",
      "face                 -0.4146      1.305     -0.318      0.751      -2.972       2.143\n",
      "description_exist     0.1646      0.924      0.178      0.859      -1.647       1.976\n",
      "date_tuple           -0.0935      0.051     -1.836      0.066      -0.193       0.006\n",
      "=====================================================================================\n"
     ]
    }
   ],
   "source": [
    "X = df2[['tags','quality','colorful','face',\"description_exist\",\"date_tuple\"]]\n",
    "Y = (df2['favorites']-df2['favorites'].min())/(df2['favorites'].max()-df2['favorites'].min())\n",
    "poisson_training_results = sm.GLM(Y, X, family=sm.families.Poisson()).fit()\n",
    "print(poisson_training_results.summary())"
   ]
  },
  {
   "cell_type": "code",
   "execution_count": 38,
   "id": "8b4c7a13",
   "metadata": {},
   "outputs": [
    {
     "name": "stdout",
     "output_type": "stream",
     "text": [
      "        mean   mean_se  mean_ci_lower  mean_ci_upper\n",
      "76  0.546848  0.421493   1.207226e-01       2.477110\n",
      "32  0.686467  0.472803   1.779736e-01       2.647789\n",
      "33  0.088131  0.114596   6.891454e-03       1.127054\n",
      "74  0.387617  0.371441   5.925453e-02       2.535615\n",
      "0   0.287555  0.207079   7.010353e-02       1.179514\n",
      "..       ...       ...            ...            ...\n",
      "30  0.000555  0.001953   5.611324e-07       0.548946\n",
      "59  0.000402  0.001432   3.704804e-07       0.435121\n",
      "64  0.000266  0.000952   2.360838e-07       0.298801\n",
      "31  0.000224  0.000747   3.193495e-07       0.156469\n",
      "60  0.001570  0.006828   3.121697e-07       7.896830\n",
      "\n",
      "[77 rows x 4 columns]\n"
     ]
    }
   ],
   "source": [
    "X_test = df_test2[['tag','quality','colorful','face','Description','date_tuple']]\n",
    "Y_test = (df_test2[\"like\"]-df_test2['like'].min())/(df_test2['like'].max()-df_test2['like'].min())\n",
    "poisson_predictions = poisson_training_results.get_prediction(X_test)\n",
    "predictions_summary_frame = poisson_predictions.summary_frame()\n",
    "print(predictions_summary_frame)"
   ]
  },
  {
   "cell_type": "code",
   "execution_count": 39,
   "id": "779fa4cb",
   "metadata": {},
   "outputs": [
    {
     "name": "stdout",
     "output_type": "stream",
     "text": [
      "2.9613040914970745 0.0030633931339710003\n"
     ]
    }
   ],
   "source": [
    "import scipy.stats as ss\n",
    "\n",
    "data1 = Y_test.values.tolist()\n",
    "data2 = predictions_summary_frame['mean'].values.tolist()\n",
    "\n",
    "stat, p = ss.ranksums(data1, data2)\n",
    "print(stat,p)"
   ]
  },
  {
   "cell_type": "code",
   "execution_count": 40,
   "id": "91563cb3",
   "metadata": {},
   "outputs": [],
   "source": [
    "predicted_counts = predictions_summary_frame['mean']\n",
    "actual_counts = Y_test"
   ]
  },
  {
   "cell_type": "code",
   "execution_count": 41,
   "id": "a398616c",
   "metadata": {},
   "outputs": [],
   "source": [
    "predictions_summary_frame['rank'] = predictions_summary_frame[\"mean\"].rank(axis=0,method='min',ascending=True)\n",
    "df_test2[\"rank\"] = Y_test.rank(axis=0,method='min',ascending=True)"
   ]
  },
  {
   "cell_type": "code",
   "execution_count": 42,
   "id": "57010466",
   "metadata": {},
   "outputs": [
    {
     "name": "stdout",
     "output_type": "stream",
     "text": [
      "30935.0\n"
     ]
    }
   ],
   "source": [
    "delta = predictions_summary_frame['rank'] - df_test2[\"rank\"]\n",
    "change = delta**2\n",
    "print(change.sum())"
   ]
  },
  {
   "cell_type": "code",
   "execution_count": 43,
   "id": "0106e2d6",
   "metadata": {
    "scrolled": true
   },
   "outputs": [
    {
     "data": {
      "image/png": "[encoded data removed]",
      "text/plain": [
       "<Figure size 432x288 with 1 Axes>"
      ]
     },
     "metadata": {
      "needs_background": "light"
     },
     "output_type": "display_data"
    }
   ],
   "source": [
    "fig = plt.figure()\n",
    "fig.suptitle('Predicted versus actual')\n",
    "predicted = plt.plot(df_test2.index, predictions_summary_frame[\"rank\"], 'go', label='Predicted counts', alpha=0.5)\n",
    "actual = plt.plot(df_test2.index, df_test2[\"rank\"], 'ro', label='Actual counts', alpha=0.5)\n",
    "plt.show()"
   ]
  },
  {
   "cell_type": "code",
   "execution_count": 44,
   "id": "1bb7dc88",
   "metadata": {},
   "outputs": [
    {
     "data": {
      "image/png": "[encoded data removed]",
      "text/plain": [
       "<Figure size 432x288 with 1 Axes>"
      ]
     },
     "metadata": {
      "needs_background": "light"
     },
     "output_type": "display_data"
    }
   ],
   "source": [
    "fig = plt.figure()\n",
    "fig.suptitle('Predicted versus actual')\n",
    "predicted = plt.plot(df_test2.index, predictions_summary_frame[\"mean\"], 'go', label='Predicted counts', alpha=0.5)\n",
    "actual = plt.plot(df_test2.index, Y_test, 'ro', label='Actual counts', alpha=0.5)\n",
    "plt.show()"
   ]
  }
 ],
 "metadata": {
  "kernelspec": {
   "display_name": "Python 3 (ipykernel)",
   "language": "python",
   "name": "python3"
  },
  "language_info": {
   "codemirror_mode": {
    "name": "ipython",
    "version": 3
   },
   "file_extension": ".py",
   "mimetype": "text/x-python",
   "name": "python",
   "nbconvert_exporter": "python",
   "pygments_lexer": "ipython3",
   "version": "3.9.7"
  }
 },
 "nbformat": 4,
 "nbformat_minor": 5
}
