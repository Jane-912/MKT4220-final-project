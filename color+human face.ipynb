{
 "cells": [
  {
   "cell_type": "markdown",
   "id": "2ae8e89d",
   "metadata": {},
   "source": [
    "# foundation_lancome"
   ]
  },
  {
   "cell_type": "code",
   "execution_count": null,
   "id": "1d6b6a8e",
   "metadata": {},
   "outputs": [],
   "source": [
    "df_1 = pd.read_csv(\"G:/MKT/train code/+quality+keywords/estee lauder makeup.csv\")\n",
    "\n",
    "df_1.insert(loc=len(df_1.columns), column='colorful', value=color_list)\n",
    "\n",
    "df_1.to_csv(\"G:/MKT/train code/estee lauder makeup.csv\",encoding = 'utf-8')"
   ]
  },
  {
   "cell_type": "code",
   "execution_count": 92,
   "id": "a82c131c",
   "metadata": {},
   "outputs": [
    {
     "name": "stdout",
     "output_type": "stream",
     "text": [
      "['G:/MKT/train code/Flick/foundation_lancome\\\\foundationlancome0000000.jpg', 'G:/MKT/train code/Flick/foundation_lancome\\\\foundationlancome0000001.jpg', 'G:/MKT/train code/Flick/foundation_lancome\\\\foundationlancome0000002.jpg', 'G:/MKT/train code/Flick/foundation_lancome\\\\foundationlancome0000003.jpg', 'G:/MKT/train code/Flick/foundation_lancome\\\\foundationlancome0000004.jpg', 'G:/MKT/train code/Flick/foundation_lancome\\\\foundationlancome0000005.jpg', 'G:/MKT/train code/Flick/foundation_lancome\\\\foundationlancome0000006.jpg', 'G:/MKT/train code/Flick/foundation_lancome\\\\foundationlancome0000007.jpg', 'G:/MKT/train code/Flick/foundation_lancome\\\\foundationlancome0000008.jpg', 'G:/MKT/train code/Flick/foundation_lancome\\\\foundationlancome0000009.jpg', 'G:/MKT/train code/Flick/foundation_lancome\\\\foundationlancome0000010.jpg', 'G:/MKT/train code/Flick/foundation_lancome\\\\foundationlancome0000011.jpg', 'G:/MKT/train code/Flick/foundation_lancome\\\\foundationlancome0000012.jpg', 'G:/MKT/train code/Flick/foundation_lancome\\\\foundationlancome0000013.jpg', 'G:/MKT/train code/Flick/foundation_lancome\\\\foundationlancome0000014.jpg', 'G:/MKT/train code/Flick/foundation_lancome\\\\foundationlancome0000015.jpg', 'G:/MKT/train code/Flick/foundation_lancome\\\\foundationlancome0000016.jpg', 'G:/MKT/train code/Flick/foundation_lancome\\\\foundationlancome0000017.jpg', 'G:/MKT/train code/Flick/foundation_lancome\\\\foundationlancome0000018.jpg', 'G:/MKT/train code/Flick/foundation_lancome\\\\foundationlancome0000019.jpg', 'G:/MKT/train code/Flick/foundation_lancome\\\\foundationlancome0000020.jpg']\n"
     ]
    }
   ],
   "source": [
    "import os\n",
    "\n",
    "def traverse_dir_files(root_dir, ext=None):\n",
    "#\"\"\"\n",
    "#列出文件夹中的文件, 深度遍历\n",
    "#:param root_dir: 根目录\n",
    "#:param ext: 后缀名\n",
    "#:param is_sorted: 是否排序，耗时较长\n",
    "#:return: [文件路径列表, 文件名称列表]\n",
    "#\"\"\"\n",
    "    paths_list = []\n",
    "    full_list = []\n",
    "    for parent, _, fileNames in os.walk(root_dir):\n",
    "        for name in fileNames:\n",
    "            if name.startswith('.') :  # 去除隐藏文件\n",
    "                continue\n",
    "            if ext:  # 根据后缀名搜索\n",
    "                if name.endswith(tuple(ext)):\n",
    "                    paths_list.append(parent)\n",
    "                    full_list.append(os.path.join(parent, name))\n",
    "            else:\n",
    "                paths_list.append(parent)\n",
    "                full_list.append(os.path.join(parent, name))\n",
    "    return paths_list,full_list\n",
    "\n",
    "p_list,f_list = traverse_dir_files('G:/MKT/train code/Flick/foundation_lancome','.jpg')\n",
    "\n",
    "print(f_list)"
   ]
  },
  {
   "cell_type": "code",
   "execution_count": 93,
   "id": "baa43d74",
   "metadata": {},
   "outputs": [
    {
     "name": "stdout",
     "output_type": "stream",
     "text": [
      "[45.00075291127288, 31.881072909410427, 59.98745185365511, 46.355575280181306, 23.11604381320483, 42.75219470676907, 9.78377901923333, 50.89685582231932, 42.90560019939137, 53.18124762918933, 25.81339989216223, 21.448717158620727, 42.76676219178214, 27.916232691589116, 46.8204224370152, 25.326940807058904, 21.324092114125172, 13.736828856479466, 9.463441616393375, 21.20885314341449, 36.64287496940231]\n"
     ]
    }
   ],
   "source": [
    "import cv2\n",
    "import numpy as np\n",
    "\n",
    "def image_colorfulness(image):\n",
    "    #将图片分为B,G,R三部分（注意，这里得到的R、G、B为向量而不是标量）\n",
    "    (B, G, R) = cv2.split(image.astype(\"float\"))\n",
    " \n",
    "    #rg = R - G\n",
    "    rg = np.absolute(R - G)\n",
    " \n",
    "    #yb = 0.5 * (R + G) - B\n",
    "    yb = np.absolute(0.5 * (R + G) - B)\n",
    " \n",
    "    #计算rg和yb的平均值和标准差\n",
    "    (rbMean, rbStd) = (np.mean(rg), np.std(rg))\n",
    "    (ybMean, ybStd) = (np.mean(yb), np.std(yb))\n",
    " \n",
    "    #计算rgyb的标准差和平均值\n",
    "    stdRoot = np.sqrt((rbStd ** 2) + (ybStd ** 2))\n",
    "    meanRoot = np.sqrt((rbMean ** 2) + (ybMean ** 2))\n",
    " \n",
    "    # 返回颜色丰富度C\n",
    "    return stdRoot + (0.3 * meanRoot)\n",
    "color = []\n",
    "for i in range(len(f_list)):\n",
    "    image = cv2.imread(f_list[i])  \n",
    "    color.append(image_colorfulness(image))\n",
    "print(color)"
   ]
  },
  {
   "cell_type": "code",
   "execution_count": 94,
   "id": "daa3aad6",
   "metadata": {},
   "outputs": [],
   "source": [
    "import pandas as pd\n",
    "df_1 = pd.read_csv(\"G:/MKT/train code/+quality+keywords/lancome foundation.csv\")\n",
    "\n",
    "df_1.insert(loc=len(df_1.columns), column='colorful', value=color)\n",
    "\n",
    "df_1.to_csv(\"G:/MKT/train code/lancome foundation.csv\",encoding = 'utf-8')"
   ]
  },
  {
   "cell_type": "code",
   "execution_count": 95,
   "id": "c53a11c0",
   "metadata": {},
   "outputs": [
    {
     "name": "stdout",
     "output_type": "stream",
     "text": [
      "[1, 1, 1, 1, 1, 1, 1, 1, 1, 1, 1, 1, 1, 1, 1, 0, 1, 0, 0, 0, 0]\n"
     ]
    }
   ],
   "source": [
    "import cv2\n",
    "import matplotlib.pyplot as plt # 用于绘制图像\n",
    "\n",
    "face_cascade = cv2.CascadeClassifier(r'C:/Users/wsy/Documents/WeChat Files/wxid_0kkdf1pnvtqf22/FileStorage/File/2022-11/haarcascade_frontalface_default.xml')\n",
    "# 读取输入图像\n",
    "l = []\n",
    "for i in range(len(f_list)):\n",
    "    img = cv2.imread(f_list[i])\n",
    "    # 检测人脸\n",
    "    faces = face_cascade.detectMultiScale(image = img, scaleFactor = 1.1, minNeighbors = 5)\n",
    "        # 显示图像中检测到的人脸数量\n",
    "    if(len(faces) < 1):\n",
    "        l.append(0)\n",
    "    else:\n",
    "        l.append(1)\n",
    "print(l)"
   ]
  },
  {
   "cell_type": "code",
   "execution_count": 96,
   "id": "7c0711a7",
   "metadata": {},
   "outputs": [],
   "source": [
    "import pandas as pd\n",
    "df_1 = pd.read_csv(\"G:/MKT/train code/lancome foundation.csv\")\n",
    "\n",
    "df_1.insert(loc=len(df_1.columns), column='face', value=l)\n",
    "\n",
    "df_1.to_csv(\"G:/MKT/train code/latest training data/lancome foundation.csv\",encoding = 'utf-8')"
   ]
  },
  {
   "cell_type": "markdown",
   "id": "bbcbc9df",
   "metadata": {},
   "source": [
    "# foundation_armani"
   ]
  },
  {
   "cell_type": "code",
   "execution_count": 97,
   "id": "16fa1852",
   "metadata": {},
   "outputs": [
    {
     "name": "stdout",
     "output_type": "stream",
     "text": [
      "['G:/MKT/train code/Flick/foundation_armani\\\\foundationarmani0000000.jpg', 'G:/MKT/train code/Flick/foundation_armani\\\\foundationarmani0000001.jpg', 'G:/MKT/train code/Flick/foundation_armani\\\\foundationarmani0000002.jpg', 'G:/MKT/train code/Flick/foundation_armani\\\\foundationarmani0000005.jpg', 'G:/MKT/train code/Flick/foundation_armani\\\\foundationarmani0000006.jpg', 'G:/MKT/train code/Flick/foundation_armani\\\\foundationarmani0000007.jpg']\n"
     ]
    }
   ],
   "source": [
    "import os\n",
    "\n",
    "def traverse_dir_files(root_dir, ext=None):\n",
    "#\"\"\"\n",
    "#列出文件夹中的文件, 深度遍历\n",
    "#:param root_dir: 根目录\n",
    "#:param ext: 后缀名\n",
    "#:param is_sorted: 是否排序，耗时较长\n",
    "#:return: [文件路径列表, 文件名称列表]\n",
    "#\"\"\"\n",
    "    paths_list = []\n",
    "    full_list = []\n",
    "    for parent, _, fileNames in os.walk(root_dir):\n",
    "        for name in fileNames:\n",
    "            if name.startswith('.') :  # 去除隐藏文件\n",
    "                continue\n",
    "            if ext:  # 根据后缀名搜索\n",
    "                if name.endswith(tuple(ext)):\n",
    "                    paths_list.append(parent)\n",
    "                    full_list.append(os.path.join(parent, name))\n",
    "            else:\n",
    "                paths_list.append(parent)\n",
    "                full_list.append(os.path.join(parent, name))\n",
    "    return paths_list,full_list\n",
    "\n",
    "p_list,f1_list = traverse_dir_files('G:/MKT/train code/Flick/foundation_armani','.jpg')\n",
    "\n",
    "print(f1_list)"
   ]
  },
  {
   "cell_type": "code",
   "execution_count": 98,
   "id": "bfd4b924",
   "metadata": {},
   "outputs": [
    {
     "name": "stdout",
     "output_type": "stream",
     "text": [
      "[39.82593601510396, 41.23763413945806, 49.35608230864426, 30.571642573992747, 38.24004716713988, 12.297644180403687]\n"
     ]
    }
   ],
   "source": [
    "import cv2\n",
    "import numpy as np\n",
    "color1 = []\n",
    "def image_colorfulness(image):\n",
    "    #将图片分为B,G,R三部分（注意，这里得到的R、G、B为向量而不是标量）\n",
    "    (B, G, R) = cv2.split(image.astype(\"float\"))\n",
    " \n",
    "    #rg = R - G\n",
    "    rg = np.absolute(R - G)\n",
    " \n",
    "    #yb = 0.5 * (R + G) - B\n",
    "    yb = np.absolute(0.5 * (R + G) - B)\n",
    " \n",
    "    #计算rg和yb的平均值和标准差\n",
    "    (rbMean, rbStd) = (np.mean(rg), np.std(rg))\n",
    "    (ybMean, ybStd) = (np.mean(yb), np.std(yb))\n",
    " \n",
    "    #计算rgyb的标准差和平均值\n",
    "    stdRoot = np.sqrt((rbStd ** 2) + (ybStd ** 2))\n",
    "    meanRoot = np.sqrt((rbMean ** 2) + (ybMean ** 2))\n",
    " \n",
    "    # 返回颜色丰富度C\n",
    "    return stdRoot + (0.3 * meanRoot)\n",
    "for i in range(len(f1_list)):\n",
    "    image = cv2.imread(f1_list[i])  \n",
    "    color1.append(image_colorfulness(image))\n",
    "print(color1)"
   ]
  },
  {
   "cell_type": "code",
   "execution_count": 99,
   "id": "1e9edbaa",
   "metadata": {},
   "outputs": [],
   "source": [
    "import pandas as pd\n",
    "df_1 = pd.read_csv(\"G:/MKT/train code/+quality+keywords/armani foundation.csv\")\n",
    "\n",
    "df_1.insert(loc=len(df_1.columns), column='colorful', value=color1)\n",
    "\n",
    "df_1.to_csv(\"G:/MKT/train code/armani foundation.csv\",encoding = 'utf-8')"
   ]
  },
  {
   "cell_type": "code",
   "execution_count": 100,
   "id": "04001926",
   "metadata": {},
   "outputs": [
    {
     "name": "stdout",
     "output_type": "stream",
     "text": [
      "[1, 1, 0, 1, 1, 0]\n"
     ]
    }
   ],
   "source": [
    "import cv2\n",
    "import matplotlib.pyplot as plt # 用于绘制图像\n",
    "face_cascade = cv2.CascadeClassifier(r'C:/Users/wsy/Documents/WeChat Files/wxid_0kkdf1pnvtqf22/FileStorage/File/2022-11/haarcascade_frontalface_default.xml')\n",
    "# 读取输入图像\n",
    "l = []\n",
    "for i in range(len(f1_list)):\n",
    "    img = cv2.imread(f1_list[i])\n",
    "    # 检测人脸\n",
    "    faces = face_cascade.detectMultiScale(image = img, scaleFactor = 1.1, minNeighbors = 5)\n",
    "        # 显示图像中检测到的人脸数量\n",
    "    if(len(faces) < 1):\n",
    "        l.append(0)\n",
    "    else:\n",
    "        l.append(1)\n",
    "print(l)"
   ]
  },
  {
   "cell_type": "code",
   "execution_count": 101,
   "id": "ea70cad6",
   "metadata": {},
   "outputs": [],
   "source": [
    "import pandas as pd\n",
    "df_1 = pd.read_csv(\"G:/MKT/train code/armani foundation.csv\")\n",
    "\n",
    "df_1.insert(loc=len(df_1.columns), column='face', value=l)\n",
    "\n",
    "df_1.to_csv(\"G:/MKT/train code/latest training data/armani foundation.csv\",encoding = 'utf-8')"
   ]
  },
  {
   "cell_type": "markdown",
   "id": "653b2207",
   "metadata": {},
   "source": [
    "# foundation_canmake"
   ]
  },
  {
   "cell_type": "code",
   "execution_count": 102,
   "id": "a554237c",
   "metadata": {},
   "outputs": [
    {
     "name": "stdout",
     "output_type": "stream",
     "text": [
      "['G:/MKT/train code/Flick/foundation_canmake\\\\canmake foundation0000000.jpg', 'G:/MKT/train code/Flick/foundation_canmake\\\\canmake foundation0000001.jpg']\n"
     ]
    }
   ],
   "source": [
    "import os\n",
    "\n",
    "def traverse_dir_files(root_dir, ext=None):\n",
    "#\"\"\"\n",
    "#列出文件夹中的文件, 深度遍历\n",
    "#:param root_dir: 根目录\n",
    "#:param ext: 后缀名\n",
    "#:param is_sorted: 是否排序，耗时较长\n",
    "#:return: [文件路径列表, 文件名称列表]\n",
    "#\"\"\"\n",
    "    paths_list = []\n",
    "    full_list = []\n",
    "    for parent, _, fileNames in os.walk(root_dir):\n",
    "        for name in fileNames:\n",
    "            if name.startswith('.') :  # 去除隐藏文件\n",
    "                continue\n",
    "            if ext:  # 根据后缀名搜索\n",
    "                if name.endswith(tuple(ext)):\n",
    "                    paths_list.append(parent)\n",
    "                    full_list.append(os.path.join(parent, name))\n",
    "            else:\n",
    "                paths_list.append(parent)\n",
    "                full_list.append(os.path.join(parent, name))\n",
    "    return paths_list,full_list\n",
    "\n",
    "p_list,f2_list = traverse_dir_files('G:/MKT/train code/Flick/foundation_canmake','.jpg')\n",
    "\n",
    "print(f2_list)"
   ]
  },
  {
   "cell_type": "code",
   "execution_count": 103,
   "id": "167b71dc",
   "metadata": {},
   "outputs": [
    {
     "name": "stdout",
     "output_type": "stream",
     "text": [
      "[21.468093458231216, 39.4602153063927]\n"
     ]
    }
   ],
   "source": [
    "import cv2\n",
    "import numpy as np\n",
    "\n",
    "def image_colorfulness(image):\n",
    "    #将图片分为B,G,R三部分（注意，这里得到的R、G、B为向量而不是标量）\n",
    "    (B, G, R) = cv2.split(image.astype(\"float\"))\n",
    " \n",
    "    #rg = R - G\n",
    "    rg = np.absolute(R - G)\n",
    " \n",
    "    #yb = 0.5 * (R + G) - B\n",
    "    yb = np.absolute(0.5 * (R + G) - B)\n",
    " \n",
    "    #计算rg和yb的平均值和标准差\n",
    "    (rbMean, rbStd) = (np.mean(rg), np.std(rg))\n",
    "    (ybMean, ybStd) = (np.mean(yb), np.std(yb))\n",
    " \n",
    "    #计算rgyb的标准差和平均值\n",
    "    stdRoot = np.sqrt((rbStd ** 2) + (ybStd ** 2))\n",
    "    meanRoot = np.sqrt((rbMean ** 2) + (ybMean ** 2))\n",
    " \n",
    "    # 返回颜色丰富度C\n",
    "    return stdRoot + (0.3 * meanRoot)\n",
    "color2 = []\n",
    "for i in range(len(f2_list)):\n",
    "    image = cv2.imread(f2_list[i])  \n",
    "    color2.append(image_colorfulness(image))\n",
    "print(color2)"
   ]
  },
  {
   "cell_type": "code",
   "execution_count": 104,
   "id": "0e6fc822",
   "metadata": {},
   "outputs": [],
   "source": [
    "import pandas as pd\n",
    "df_1 = pd.read_csv(\"G:/MKT/train code/+quality+keywords/canmake foundation.csv\")\n",
    "\n",
    "df_1.insert(loc=len(df_1.columns), column='colorful', value=color2)\n",
    "\n",
    "df_1.to_csv(\"G:/MKT/train code/canmake foundation.csv\",encoding = 'utf-8')"
   ]
  },
  {
   "cell_type": "code",
   "execution_count": 105,
   "id": "25b07e44",
   "metadata": {},
   "outputs": [
    {
     "name": "stdout",
     "output_type": "stream",
     "text": [
      "[0, 0]\n"
     ]
    }
   ],
   "source": [
    "import cv2\n",
    "import matplotlib.pyplot as plt # 用于绘制图像\n",
    "face_cascade = cv2.CascadeClassifier(r'C:/Users/wsy/Documents/WeChat Files/wxid_0kkdf1pnvtqf22/FileStorage/File/2022-11/haarcascade_frontalface_default.xml')\n",
    "# 读取输入图像\n",
    "l = []\n",
    "for i in range(len(f2_list)):\n",
    "    img = cv2.imread(f2_list[i])\n",
    "    # 检测人脸\n",
    "    faces = face_cascade.detectMultiScale(image = img, scaleFactor = 1.1, minNeighbors = 5)\n",
    "        # 显示图像中检测到的人脸数量\n",
    "    if(len(faces) < 1):\n",
    "        l.append(0)\n",
    "    else:\n",
    "        l.append(1)\n",
    "print(l)"
   ]
  },
  {
   "cell_type": "code",
   "execution_count": 106,
   "id": "bfa30991",
   "metadata": {},
   "outputs": [],
   "source": [
    "import pandas as pd\n",
    "df_1 = pd.read_csv(\"G:/MKT/train code/canmake foundation.csv\")\n",
    "\n",
    "df_1.insert(loc=len(df_1.columns), column='face', value=l)\n",
    "\n",
    "df_1.to_csv(\"G:/MKT/train code/latest training data/canmake foundation.csv\",encoding = 'utf-8')"
   ]
  },
  {
   "cell_type": "markdown",
   "id": "903bd0b5",
   "metadata": {},
   "source": [
    "# foundation_estee lauder"
   ]
  },
  {
   "cell_type": "code",
   "execution_count": 107,
   "id": "eeb90793",
   "metadata": {},
   "outputs": [
    {
     "name": "stdout",
     "output_type": "stream",
     "text": [
      "['G:/MKT/train code/Flick/foundation_estee lauder\\\\foundationestee lauder0000000.jpg', 'G:/MKT/train code/Flick/foundation_estee lauder\\\\foundationestee lauder0000001.jpg', 'G:/MKT/train code/Flick/foundation_estee lauder\\\\foundationestee lauder0000002.jpg', 'G:/MKT/train code/Flick/foundation_estee lauder\\\\foundationestee lauder0000003.jpg', 'G:/MKT/train code/Flick/foundation_estee lauder\\\\foundationestee lauder0000004.jpg', 'G:/MKT/train code/Flick/foundation_estee lauder\\\\foundationestee lauder0000005.jpg', 'G:/MKT/train code/Flick/foundation_estee lauder\\\\foundationestee lauder0000006.jpg', 'G:/MKT/train code/Flick/foundation_estee lauder\\\\foundationestee lauder0000007.jpg', 'G:/MKT/train code/Flick/foundation_estee lauder\\\\foundationestee lauder0000008.jpg', 'G:/MKT/train code/Flick/foundation_estee lauder\\\\foundationestee lauder0000009.jpg', 'G:/MKT/train code/Flick/foundation_estee lauder\\\\foundationestee lauder0000010.jpg', 'G:/MKT/train code/Flick/foundation_estee lauder\\\\foundationestee lauder0000011.jpg', 'G:/MKT/train code/Flick/foundation_estee lauder\\\\foundationestee lauder0000012.jpg', 'G:/MKT/train code/Flick/foundation_estee lauder\\\\foundationestee lauder0000013.jpg', 'G:/MKT/train code/Flick/foundation_estee lauder\\\\foundationestee lauder0000014.jpg', 'G:/MKT/train code/Flick/foundation_estee lauder\\\\foundationestee lauder0000015.jpg', 'G:/MKT/train code/Flick/foundation_estee lauder\\\\foundationestee lauder0000017.jpg', 'G:/MKT/train code/Flick/foundation_estee lauder\\\\foundationestee lauder0000019.jpg', 'G:/MKT/train code/Flick/foundation_estee lauder\\\\foundationestee lauder0000021.jpg', 'G:/MKT/train code/Flick/foundation_estee lauder\\\\foundationestee lauder0000022.jpg', 'G:/MKT/train code/Flick/foundation_estee lauder\\\\foundationestee lauder0000024.jpg', 'G:/MKT/train code/Flick/foundation_estee lauder\\\\foundationestee lauder0000025.jpg', 'G:/MKT/train code/Flick/foundation_estee lauder\\\\foundationestee lauder0000026.jpg', 'G:/MKT/train code/Flick/foundation_estee lauder\\\\foundationestee lauder0000027.jpg', 'G:/MKT/train code/Flick/foundation_estee lauder\\\\foundationestee lauder0000028.jpg', 'G:/MKT/train code/Flick/foundation_estee lauder\\\\foundationestee lauder0000029.jpg', 'G:/MKT/train code/Flick/foundation_estee lauder\\\\foundationestee lauder0000037.jpg', 'G:/MKT/train code/Flick/foundation_estee lauder\\\\foundationestee lauder0000040.jpg', 'G:/MKT/train code/Flick/foundation_estee lauder\\\\foundationestee lauder0000041.jpg', 'G:/MKT/train code/Flick/foundation_estee lauder\\\\foundationestee lauder0000042.jpg', 'G:/MKT/train code/Flick/foundation_estee lauder\\\\foundationestee lauder0000043.jpg', 'G:/MKT/train code/Flick/foundation_estee lauder\\\\foundationestee lauder0000044.jpg', 'G:/MKT/train code/Flick/foundation_estee lauder\\\\foundationestee lauder0000045.jpg', 'G:/MKT/train code/Flick/foundation_estee lauder\\\\foundationestee lauder0000046.jpg', 'G:/MKT/train code/Flick/foundation_estee lauder\\\\foundationestee lauder0000047.jpg', 'G:/MKT/train code/Flick/foundation_estee lauder\\\\foundationestee lauder0000048.jpg', 'G:/MKT/train code/Flick/foundation_estee lauder\\\\foundationestee lauder0000049.jpg', 'G:/MKT/train code/Flick/foundation_estee lauder\\\\foundationestee lauder0000050.jpg', 'G:/MKT/train code/Flick/foundation_estee lauder\\\\foundationestee lauder0000051.jpg', 'G:/MKT/train code/Flick/foundation_estee lauder\\\\foundationestee lauder0000052.jpg', 'G:/MKT/train code/Flick/foundation_estee lauder\\\\foundationestee lauder0000075.jpg', 'G:/MKT/train code/Flick/foundation_estee lauder\\\\foundationestee lauder0000076.jpg', 'G:/MKT/train code/Flick/foundation_estee lauder\\\\foundationestee lauder0000086.jpg', 'G:/MKT/train code/Flick/foundation_estee lauder\\\\foundationestee lauder0000087.jpg', 'G:/MKT/train code/Flick/foundation_estee lauder\\\\foundationestee lauder0000088.jpg', 'G:/MKT/train code/Flick/foundation_estee lauder\\\\foundationestee lauder0000089.jpg', 'G:/MKT/train code/Flick/foundation_estee lauder\\\\foundationestee lauder0000090.jpg', 'G:/MKT/train code/Flick/foundation_estee lauder\\\\foundationestee lauder0000091.jpg', 'G:/MKT/train code/Flick/foundation_estee lauder\\\\foundationestee lauder0000116.jpg', 'G:/MKT/train code/Flick/foundation_estee lauder\\\\foundationestee lauder0000117.jpg', 'G:/MKT/train code/Flick/foundation_estee lauder\\\\foundationestee lauder0000118.jpg', 'G:/MKT/train code/Flick/foundation_estee lauder\\\\foundationestee lauder0000119.jpg', 'G:/MKT/train code/Flick/foundation_estee lauder\\\\foundationestee lauder0000120.jpg', 'G:/MKT/train code/Flick/foundation_estee lauder\\\\foundationestee lauder0000121.jpg', 'G:/MKT/train code/Flick/foundation_estee lauder\\\\foundationestee lauder0000122.jpg']\n"
     ]
    }
   ],
   "source": [
    "import os\n",
    "\n",
    "def traverse_dir_files(root_dir, ext=None):\n",
    "#\"\"\"\n",
    "#列出文件夹中的文件, 深度遍历\n",
    "#:param root_dir: 根目录\n",
    "#:param ext: 后缀名\n",
    "#:param is_sorted: 是否排序，耗时较长\n",
    "#:return: [文件路径列表, 文件名称列表]\n",
    "#\"\"\"\n",
    "    paths_list = []\n",
    "    full_list = []\n",
    "    for parent, _, fileNames in os.walk(root_dir):\n",
    "        for name in fileNames:\n",
    "            if name.startswith('.') :  # 去除隐藏文件\n",
    "                continue\n",
    "            if ext:  # 根据后缀名搜索\n",
    "                if name.endswith(tuple(ext)):\n",
    "                    paths_list.append(parent)\n",
    "                    full_list.append(os.path.join(parent, name))\n",
    "            else:\n",
    "                paths_list.append(parent)\n",
    "                full_list.append(os.path.join(parent, name))\n",
    "    return paths_list,full_list\n",
    "\n",
    "p_list,f3_list = traverse_dir_files('G:/MKT/train code/Flick/foundation_estee lauder','.jpg')\n",
    "\n",
    "print(f3_list)"
   ]
  },
  {
   "cell_type": "code",
   "execution_count": 108,
   "id": "5734b117",
   "metadata": {},
   "outputs": [
    {
     "name": "stdout",
     "output_type": "stream",
     "text": [
      "[35.13566443491156, 58.51921353589751, 23.15280931097282, 78.25032484819847, 87.38356440642724, 68.87457300744833, 29.67254635729875, 71.9906802183733, 57.09974341445661, 27.889755728137754, 73.70502011455443, 40.65260241288227, 28.960641540941644, 15.982682146861478, 37.45849402356902, 53.98449845797553, 38.37704396927384, 52.17406605313248, 0.0, 31.32113642830499, 31.223205453357558, 0.0, 9.645916384704702, 12.413949772026449, 27.93220989871844, 39.41673972806777, 67.5329224437944, 45.8155670582508, 31.57041229878988, 44.54736621911291, 63.28035330906154, 78.53981644578903, 41.870107137352335, 40.37244523105212, 46.87794781703427, 50.20611447462215, 44.83043932850746, 49.56901342314991, 67.61420270780471, 41.136949548751396, 83.54409265297025, 84.69900747804476, 90.75912784100224, 57.003081540052015, 43.623869052609066, 68.7234453758359, 54.26018758744807, 69.43562637197239, 33.28229225111505, 53.18124762918933, 25.81339989216223, 33.84942091195437, 32.8514102112004, 112.07217203446324, 89.19296124669181]\n"
     ]
    }
   ],
   "source": [
    "import cv2\n",
    "import numpy as np\n",
    "\n",
    "def image_colorfulness(image):\n",
    "    #将图片分为B,G,R三部分（注意，这里得到的R、G、B为向量而不是标量）\n",
    "    (B, G, R) = cv2.split(image.astype(\"float\"))\n",
    " \n",
    "    #rg = R - G\n",
    "    rg = np.absolute(R - G)\n",
    " \n",
    "    #yb = 0.5 * (R + G) - B\n",
    "    yb = np.absolute(0.5 * (R + G) - B)\n",
    " \n",
    "    #计算rg和yb的平均值和标准差\n",
    "    (rbMean, rbStd) = (np.mean(rg), np.std(rg))\n",
    "    (ybMean, ybStd) = (np.mean(yb), np.std(yb))\n",
    " \n",
    "    #计算rgyb的标准差和平均值\n",
    "    stdRoot = np.sqrt((rbStd ** 2) + (ybStd ** 2))\n",
    "    meanRoot = np.sqrt((rbMean ** 2) + (ybMean ** 2))\n",
    " \n",
    "    # 返回颜色丰富度C\n",
    "    return stdRoot + (0.3 * meanRoot)\n",
    "color3 = []\n",
    "for i in range(len(f3_list)):\n",
    "    image = cv2.imread(f3_list[i])  \n",
    "    color3.append(image_colorfulness(image))\n",
    "print(color3)"
   ]
  },
  {
   "cell_type": "code",
   "execution_count": 109,
   "id": "bcee5bf1",
   "metadata": {},
   "outputs": [],
   "source": [
    "import pandas as pd\n",
    "df_1 = pd.read_csv(\"G:/MKT/train code/+quality+keywords/estee lauder foundation.csv\")\n",
    "\n",
    "df_1.insert(loc=len(df_1.columns), column='colorful', value=color3)\n",
    "\n",
    "df_1.to_csv(\"G:/MKT/train code/estee lauder foundation.csv\",encoding = 'utf-8')"
   ]
  },
  {
   "cell_type": "code",
   "execution_count": 110,
   "id": "eab3167b",
   "metadata": {},
   "outputs": [
    {
     "name": "stdout",
     "output_type": "stream",
     "text": [
      "[1, 0, 1, 1, 0, 0, 0, 0, 0, 0, 0, 1, 1, 0, 1, 1, 1, 0, 1, 1, 0, 0, 0, 0, 1, 0, 1, 0, 0, 1, 1, 1, 1, 0, 1, 1, 1, 0, 0, 0, 0, 0, 1, 1, 0, 1, 0, 0, 0, 1, 1, 0, 0, 1, 1]\n"
     ]
    }
   ],
   "source": [
    "import cv2\n",
    "import matplotlib.pyplot as plt # 用于绘制图像\n",
    "face_cascade = cv2.CascadeClassifier(r'C:/Users/wsy/Documents/WeChat Files/wxid_0kkdf1pnvtqf22/FileStorage/File/2022-11/haarcascade_frontalface_default.xml')\n",
    "# 读取输入图像\n",
    "l = []\n",
    "for i in range(len(f3_list)):\n",
    "    img = cv2.imread(f3_list[i])\n",
    "    # 检测人脸\n",
    "    faces = face_cascade.detectMultiScale(image = img, scaleFactor = 1.1, minNeighbors = 5)\n",
    "        # 显示图像中检测到的人脸数量\n",
    "    if(len(faces) < 1):\n",
    "        l.append(0)\n",
    "    else:\n",
    "        l.append(1)\n",
    "print(l)"
   ]
  },
  {
   "cell_type": "code",
   "execution_count": 111,
   "id": "9663c58e",
   "metadata": {},
   "outputs": [],
   "source": [
    "import pandas as pd\n",
    "df_1 = pd.read_csv(\"G:/MKT/train code/estee lauder foundation.csv\")\n",
    "\n",
    "df_1.insert(loc=len(df_1.columns), column='face', value=l)\n",
    "\n",
    "df_1.to_csv(\"G:/MKT/train code/latest training data/estee lauder foundation.csv\",encoding = 'utf-8')"
   ]
  },
  {
   "cell_type": "markdown",
   "id": "fda0d680",
   "metadata": {},
   "source": [
    "# lipstick_armani"
   ]
  },
  {
   "cell_type": "code",
   "execution_count": 112,
   "id": "d56f2166",
   "metadata": {},
   "outputs": [
    {
     "name": "stdout",
     "output_type": "stream",
     "text": [
      "['G:/MKT/train code/Flick/lipstick_armani\\\\lipstickarmani0000000.jpg', 'G:/MKT/train code/Flick/lipstick_armani\\\\lipstickarmani0000001.jpg', 'G:/MKT/train code/Flick/lipstick_armani\\\\lipstickarmani0000003.jpg', 'G:/MKT/train code/Flick/lipstick_armani\\\\lipstickarmani0000004.jpg', 'G:/MKT/train code/Flick/lipstick_armani\\\\lipstickarmani0000008.jpg', 'G:/MKT/train code/Flick/lipstick_armani\\\\lipstickarmani0000009.jpg', 'G:/MKT/train code/Flick/lipstick_armani\\\\lipstickarmani0000010.jpg', 'G:/MKT/train code/Flick/lipstick_armani\\\\lipstickarmani0000011.jpg', 'G:/MKT/train code/Flick/lipstick_armani\\\\lipstickarmani0000012.jpg', 'G:/MKT/train code/Flick/lipstick_armani\\\\lipstickarmani0000013.jpg', 'G:/MKT/train code/Flick/lipstick_armani\\\\lipstickarmani0000014.jpg', 'G:/MKT/train code/Flick/lipstick_armani\\\\lipstickarmani0000015.jpg', 'G:/MKT/train code/Flick/lipstick_armani\\\\lipstickarmani0000016.jpg', 'G:/MKT/train code/Flick/lipstick_armani\\\\lipstickarmani0000017.jpg', 'G:/MKT/train code/Flick/lipstick_armani\\\\lipstickarmani0000018.jpg', 'G:/MKT/train code/Flick/lipstick_armani\\\\lipstickarmani0000019.jpg', 'G:/MKT/train code/Flick/lipstick_armani\\\\lipstickarmani0000020.jpg', 'G:/MKT/train code/Flick/lipstick_armani\\\\lipstickarmani0000021.jpg']\n"
     ]
    }
   ],
   "source": [
    "import os\n",
    "\n",
    "def traverse_dir_files(root_dir, ext=None):\n",
    "#\"\"\"\n",
    "#列出文件夹中的文件, 深度遍历\n",
    "#:param root_dir: 根目录\n",
    "#:param ext: 后缀名\n",
    "#:param is_sorted: 是否排序，耗时较长\n",
    "#:return: [文件路径列表, 文件名称列表]\n",
    "#\"\"\"\n",
    "    paths_list = []\n",
    "    full_list = []\n",
    "    for parent, _, fileNames in os.walk(root_dir):\n",
    "        for name in fileNames:\n",
    "            if name.startswith('.') :  # 去除隐藏文件\n",
    "                continue\n",
    "            if ext:  # 根据后缀名搜索\n",
    "                if name.endswith(tuple(ext)):\n",
    "                    paths_list.append(parent)\n",
    "                    full_list.append(os.path.join(parent, name))\n",
    "            else:\n",
    "                paths_list.append(parent)\n",
    "                full_list.append(os.path.join(parent, name))\n",
    "    return paths_list,full_list\n",
    "\n",
    "p_list,f4_list = traverse_dir_files('G:/MKT/train code/Flick/lipstick_armani','.jpg')\n",
    "\n",
    "print(f4_list)"
   ]
  },
  {
   "cell_type": "code",
   "execution_count": 113,
   "id": "25196b0c",
   "metadata": {},
   "outputs": [
    {
     "name": "stdout",
     "output_type": "stream",
     "text": [
      "[40.381863890156964, 0.0, 36.27051958165954, 69.9489486577029, 52.89348711934295, 64.10042815731136, 23.909705726883466, 6.959443898780805, 37.21411080972871, 48.68934940166445, 72.60729324372801, 67.00562721512001, 80.74610282404589, 29.341420154085508, 50.282987632181964, 24.206672886763407, 41.999710177497676, 51.387952148754245]\n"
     ]
    }
   ],
   "source": [
    "import cv2\n",
    "import numpy as np\n",
    "\n",
    "def image_colorfulness(image):\n",
    "    #将图片分为B,G,R三部分（注意，这里得到的R、G、B为向量而不是标量）\n",
    "    (B, G, R) = cv2.split(image.astype(\"float\"))\n",
    " \n",
    "    #rg = R - G\n",
    "    rg = np.absolute(R - G)\n",
    " \n",
    "    #yb = 0.5 * (R + G) - B\n",
    "    yb = np.absolute(0.5 * (R + G) - B)\n",
    " \n",
    "    #计算rg和yb的平均值和标准差\n",
    "    (rbMean, rbStd) = (np.mean(rg), np.std(rg))\n",
    "    (ybMean, ybStd) = (np.mean(yb), np.std(yb))\n",
    " \n",
    "    #计算rgyb的标准差和平均值\n",
    "    stdRoot = np.sqrt((rbStd ** 2) + (ybStd ** 2))\n",
    "    meanRoot = np.sqrt((rbMean ** 2) + (ybMean ** 2))\n",
    " \n",
    "    # 返回颜色丰富度C\n",
    "    return stdRoot + (0.3 * meanRoot)\n",
    "color4 = []\n",
    "for i in range(len(f4_list)):\n",
    "    image = cv2.imread(f4_list[i])  \n",
    "    color4.append(image_colorfulness(image))\n",
    "print(color4)"
   ]
  },
  {
   "cell_type": "code",
   "execution_count": 114,
   "id": "524fe1e0",
   "metadata": {},
   "outputs": [],
   "source": [
    "import pandas as pd\n",
    "df_1 = pd.read_csv(\"G:/MKT/train code/+quality+keywords/armani lipstick.csv\")\n",
    "\n",
    "df_1.insert(loc=len(df_1.columns), column='colorful', value=color4)\n",
    "\n",
    "df_1.to_csv(\"G:/MKT/train code/armani lipstick.csv\",encoding = 'utf-8')"
   ]
  },
  {
   "cell_type": "code",
   "execution_count": 115,
   "id": "b9007914",
   "metadata": {},
   "outputs": [
    {
     "name": "stdout",
     "output_type": "stream",
     "text": [
      "[0, 1, 1, 1, 0, 1, 0, 0, 0, 1, 0, 0, 0, 1, 0, 0, 0, 1]\n"
     ]
    }
   ],
   "source": [
    "import cv2\n",
    "import matplotlib.pyplot as plt # 用于绘制图像\n",
    "face_cascade = cv2.CascadeClassifier(r'C:/Users/wsy/Documents/WeChat Files/wxid_0kkdf1pnvtqf22/FileStorage/File/2022-11/haarcascade_frontalface_default.xml')\n",
    "# 读取输入图像\n",
    "l = []\n",
    "for i in range(len(f4_list)):\n",
    "    img = cv2.imread(f4_list[i])\n",
    "    # 检测人脸\n",
    "    faces = face_cascade.detectMultiScale(image = img, scaleFactor = 1.1, minNeighbors = 5)\n",
    "        # 显示图像中检测到的人脸数量\n",
    "    if(len(faces) < 1):\n",
    "        l.append(0)\n",
    "    else:\n",
    "        l.append(1)\n",
    "print(l)"
   ]
  },
  {
   "cell_type": "code",
   "execution_count": 116,
   "id": "85605d77",
   "metadata": {},
   "outputs": [],
   "source": [
    "import pandas as pd\n",
    "df_1 = pd.read_csv(\"G:/MKT/train code/armani lipstick.csv\")\n",
    "\n",
    "df_1.insert(loc=len(df_1.columns), column='face', value=l)\n",
    "\n",
    "df_1.to_csv(\"G:/MKT/train code/latest training data/armani lipstick.csv\",encoding = 'utf-8')"
   ]
  },
  {
   "cell_type": "markdown",
   "id": "13b6fb75",
   "metadata": {},
   "source": [
    "# lipstick_canmake"
   ]
  },
  {
   "cell_type": "code",
   "execution_count": 117,
   "id": "0e647f2f",
   "metadata": {},
   "outputs": [
    {
     "name": "stdout",
     "output_type": "stream",
     "text": [
      "['G:/MKT/train code/Flick/lipstick_canmake\\\\lipstickcanmake0000000.jpg', 'G:/MKT/train code/Flick/lipstick_canmake\\\\lipstickcanmake0000001.jpg', 'G:/MKT/train code/Flick/lipstick_canmake\\\\lipstickcanmake0000002.jpg', 'G:/MKT/train code/Flick/lipstick_canmake\\\\lipstickcanmake0000003.jpg', 'G:/MKT/train code/Flick/lipstick_canmake\\\\lipstickcanmake0000004.jpg', 'G:/MKT/train code/Flick/lipstick_canmake\\\\lipstickcanmake0000005.jpg', 'G:/MKT/train code/Flick/lipstick_canmake\\\\lipstickcanmake0000006.jpg', 'G:/MKT/train code/Flick/lipstick_canmake\\\\lipstickcanmake0000007.jpg', 'G:/MKT/train code/Flick/lipstick_canmake\\\\lipstickcanmake0000008.jpg', 'G:/MKT/train code/Flick/lipstick_canmake\\\\lipstickcanmake0000009.jpg', 'G:/MKT/train code/Flick/lipstick_canmake\\\\lipstickcanmake0000010.jpg', 'G:/MKT/train code/Flick/lipstick_canmake\\\\lipstickcanmake0000011.jpg']\n"
     ]
    }
   ],
   "source": [
    "import os\n",
    "\n",
    "def traverse_dir_files(root_dir, ext=None):\n",
    "#\"\"\"\n",
    "#列出文件夹中的文件, 深度遍历\n",
    "#:param root_dir: 根目录\n",
    "#:param ext: 后缀名\n",
    "#:param is_sorted: 是否排序，耗时较长\n",
    "#:return: [文件路径列表, 文件名称列表]\n",
    "#\"\"\"\n",
    "    paths_list = []\n",
    "    full_list = []\n",
    "    for parent, _, fileNames in os.walk(root_dir):\n",
    "        for name in fileNames:\n",
    "            if name.startswith('.') :  # 去除隐藏文件\n",
    "                continue\n",
    "            if ext:  # 根据后缀名搜索\n",
    "                if name.endswith(tuple(ext)):\n",
    "                    paths_list.append(parent)\n",
    "                    full_list.append(os.path.join(parent, name))\n",
    "            else:\n",
    "                paths_list.append(parent)\n",
    "                full_list.append(os.path.join(parent, name))\n",
    "    return paths_list,full_list\n",
    "\n",
    "p_list,f6_list = traverse_dir_files('G:/MKT/train code/Flick/lipstick_canmake','.jpg')\n",
    "\n",
    "print(f6_list)"
   ]
  },
  {
   "cell_type": "code",
   "execution_count": 118,
   "id": "7d4d06d6",
   "metadata": {},
   "outputs": [
    {
     "name": "stdout",
     "output_type": "stream",
     "text": [
      "[29.43888937822251, 30.1089469995106, 25.804895801956647, 26.2586838748511, 34.051202721010114, 30.57945952961201, 35.46869179756041, 22.029810394073458, 32.95464704521875, 29.738730438886805, 32.27603189025494, 35.652192949431225]\n"
     ]
    }
   ],
   "source": [
    "import cv2\n",
    "import numpy as np\n",
    "\n",
    "def image_colorfulness(image):\n",
    "    #将图片分为B,G,R三部分（注意，这里得到的R、G、B为向量而不是标量）\n",
    "    (B, G, R) = cv2.split(image.astype(\"float\"))\n",
    " \n",
    "    #rg = R - G\n",
    "    rg = np.absolute(R - G)\n",
    " \n",
    "    #yb = 0.5 * (R + G) - B\n",
    "    yb = np.absolute(0.5 * (R + G) - B)\n",
    " \n",
    "    #计算rg和yb的平均值和标准差\n",
    "    (rbMean, rbStd) = (np.mean(rg), np.std(rg))\n",
    "    (ybMean, ybStd) = (np.mean(yb), np.std(yb))\n",
    " \n",
    "    #计算rgyb的标准差和平均值\n",
    "    stdRoot = np.sqrt((rbStd ** 2) + (ybStd ** 2))\n",
    "    meanRoot = np.sqrt((rbMean ** 2) + (ybMean ** 2))\n",
    " \n",
    "    # 返回颜色丰富度C\n",
    "    return stdRoot + (0.3 * meanRoot)\n",
    "color6 = []\n",
    "for i in range(len(f6_list)):\n",
    "    image = cv2.imread(f6_list[i])  \n",
    "    color6.append(image_colorfulness(image))\n",
    "print(color6)"
   ]
  },
  {
   "cell_type": "code",
   "execution_count": 119,
   "id": "42240879",
   "metadata": {},
   "outputs": [],
   "source": [
    "import pandas as pd\n",
    "df_1 = pd.read_csv(\"G:/MKT/train code/+quality+keywords/canmake lipstick.csv\")\n",
    "\n",
    "df_1.insert(loc=len(df_1.columns), column='colorful', value=color6)\n",
    "\n",
    "df_1.to_csv(\"G:/MKT/train code/canmake lipstick.csv\",encoding = 'utf-8')"
   ]
  },
  {
   "cell_type": "code",
   "execution_count": 120,
   "id": "88236427",
   "metadata": {},
   "outputs": [
    {
     "name": "stdout",
     "output_type": "stream",
     "text": [
      "[0, 0, 1, 1, 0, 0, 0, 0, 1, 0, 1, 0]\n"
     ]
    }
   ],
   "source": [
    "import cv2\n",
    "import matplotlib.pyplot as plt # 用于绘制图像\n",
    "face_cascade = cv2.CascadeClassifier(r'C:/Users/wsy/Documents/WeChat Files/wxid_0kkdf1pnvtqf22/FileStorage/File/2022-11/haarcascade_frontalface_default.xml')\n",
    "# 读取输入图像\n",
    "l = []\n",
    "for i in range(len(f6_list)):\n",
    "    img = cv2.imread(f6_list[i])\n",
    "    # 检测人脸\n",
    "    faces = face_cascade.detectMultiScale(image = img, scaleFactor = 1.1, minNeighbors = 5)\n",
    "        # 显示图像中检测到的人脸数量\n",
    "    if(len(faces) < 1):\n",
    "        l.append(0)\n",
    "    else:\n",
    "        l.append(1)\n",
    "print(l)"
   ]
  },
  {
   "cell_type": "code",
   "execution_count": 121,
   "id": "e216a13e",
   "metadata": {},
   "outputs": [],
   "source": [
    "import pandas as pd\n",
    "df_1 = pd.read_csv(\"G:/MKT/train code/canmake lipstick.csv\")\n",
    "\n",
    "df_1.insert(loc=len(df_1.columns), column='face', value=l)\n",
    "\n",
    "df_1.to_csv(\"G:/MKT/train code/latest training data/canmake lipstick.csv\",encoding = 'utf-8')"
   ]
  },
  {
   "cell_type": "markdown",
   "id": "a139caa7",
   "metadata": {},
   "source": [
    "# lipstick_estee lauder"
   ]
  },
  {
   "cell_type": "code",
   "execution_count": 122,
   "id": "79c44479",
   "metadata": {},
   "outputs": [
    {
     "name": "stdout",
     "output_type": "stream",
     "text": [
      "['G:/MKT/train code/Flick/lipstick_estee lauder\\\\lipstickestee lauder0000000.jpg', 'G:/MKT/train code/Flick/lipstick_estee lauder\\\\lipstickestee lauder0000001.jpg', 'G:/MKT/train code/Flick/lipstick_estee lauder\\\\lipstickestee lauder0000002.jpg', 'G:/MKT/train code/Flick/lipstick_estee lauder\\\\lipstickestee lauder0000003.jpg', 'G:/MKT/train code/Flick/lipstick_estee lauder\\\\lipstickestee lauder0000004.jpg', 'G:/MKT/train code/Flick/lipstick_estee lauder\\\\lipstickestee lauder0000006.jpg', 'G:/MKT/train code/Flick/lipstick_estee lauder\\\\lipstickestee lauder0000007.jpg', 'G:/MKT/train code/Flick/lipstick_estee lauder\\\\lipstickestee lauder0000008.jpg', 'G:/MKT/train code/Flick/lipstick_estee lauder\\\\lipstickestee lauder0000009.jpg', 'G:/MKT/train code/Flick/lipstick_estee lauder\\\\lipstickestee lauder0000010.jpg', 'G:/MKT/train code/Flick/lipstick_estee lauder\\\\lipstickestee lauder0000011.jpg', 'G:/MKT/train code/Flick/lipstick_estee lauder\\\\lipstickestee lauder0000012.jpg', 'G:/MKT/train code/Flick/lipstick_estee lauder\\\\lipstickestee lauder0000013.jpg', 'G:/MKT/train code/Flick/lipstick_estee lauder\\\\lipstickestee lauder0000014.jpg', 'G:/MKT/train code/Flick/lipstick_estee lauder\\\\lipstickestee lauder0000015.jpg', 'G:/MKT/train code/Flick/lipstick_estee lauder\\\\lipstickestee lauder0000016.jpg', 'G:/MKT/train code/Flick/lipstick_estee lauder\\\\lipstickestee lauder0000017.jpg', 'G:/MKT/train code/Flick/lipstick_estee lauder\\\\lipstickestee lauder0000018.jpg', 'G:/MKT/train code/Flick/lipstick_estee lauder\\\\lipstickestee lauder0000019.jpg', 'G:/MKT/train code/Flick/lipstick_estee lauder\\\\lipstickestee lauder0000020.jpg', 'G:/MKT/train code/Flick/lipstick_estee lauder\\\\lipstickestee lauder0000021.jpg', 'G:/MKT/train code/Flick/lipstick_estee lauder\\\\lipstickestee lauder0000022.jpg', 'G:/MKT/train code/Flick/lipstick_estee lauder\\\\lipstickestee lauder0000027.jpg', 'G:/MKT/train code/Flick/lipstick_estee lauder\\\\lipstickestee lauder0000031.jpg', 'G:/MKT/train code/Flick/lipstick_estee lauder\\\\lipstickestee lauder0000108.jpg', 'G:/MKT/train code/Flick/lipstick_estee lauder\\\\lipstickestee lauder0000109.jpg', 'G:/MKT/train code/Flick/lipstick_estee lauder\\\\lipstickestee lauder0000110.jpg', 'G:/MKT/train code/Flick/lipstick_estee lauder\\\\lipstickestee lauder0000111.jpg', 'G:/MKT/train code/Flick/lipstick_estee lauder\\\\lipstickestee lauder0000112.jpg', 'G:/MKT/train code/Flick/lipstick_estee lauder\\\\lipstickestee lauder0000113.jpg', 'G:/MKT/train code/Flick/lipstick_estee lauder\\\\lipstickestee lauder0000114.jpg', 'G:/MKT/train code/Flick/lipstick_estee lauder\\\\lipstickestee lauder0000115.jpg', 'G:/MKT/train code/Flick/lipstick_estee lauder\\\\lipstickestee lauder0000116.jpg', 'G:/MKT/train code/Flick/lipstick_estee lauder\\\\lipstickestee lauder0000117.jpg', 'G:/MKT/train code/Flick/lipstick_estee lauder\\\\lipstickestee lauder0000118.jpg', 'G:/MKT/train code/Flick/lipstick_estee lauder\\\\lipstickestee lauder0000119.jpg', 'G:/MKT/train code/Flick/lipstick_estee lauder\\\\lipstickestee lauder0000120.jpg', 'G:/MKT/train code/Flick/lipstick_estee lauder\\\\lipstickestee lauder0000121.jpg', 'G:/MKT/train code/Flick/lipstick_estee lauder\\\\lipstickestee lauder0000122.jpg', 'G:/MKT/train code/Flick/lipstick_estee lauder\\\\lipstickestee lauder0000123.jpg', 'G:/MKT/train code/Flick/lipstick_estee lauder\\\\lipstickestee lauder0000124.jpg', 'G:/MKT/train code/Flick/lipstick_estee lauder\\\\lipstickestee lauder0000125.jpg', 'G:/MKT/train code/Flick/lipstick_estee lauder\\\\lipstickestee lauder0000126.jpg', 'G:/MKT/train code/Flick/lipstick_estee lauder\\\\lipstickestee lauder0000127.jpg', 'G:/MKT/train code/Flick/lipstick_estee lauder\\\\lipstickestee lauder0000129.jpg', 'G:/MKT/train code/Flick/lipstick_estee lauder\\\\lipstickestee lauder0000130.jpg', 'G:/MKT/train code/Flick/lipstick_estee lauder\\\\lipstickestee lauder0000131.jpg', 'G:/MKT/train code/Flick/lipstick_estee lauder\\\\lipstickestee lauder0000132.jpg', 'G:/MKT/train code/Flick/lipstick_estee lauder\\\\lipstickestee lauder0000133.jpg', 'G:/MKT/train code/Flick/lipstick_estee lauder\\\\lipstickestee lauder0000134.jpg', 'G:/MKT/train code/Flick/lipstick_estee lauder\\\\lipstickestee lauder0000135.jpg', 'G:/MKT/train code/Flick/lipstick_estee lauder\\\\lipstickestee lauder0000136.jpg', 'G:/MKT/train code/Flick/lipstick_estee lauder\\\\lipstickestee lauder0000137.jpg', 'G:/MKT/train code/Flick/lipstick_estee lauder\\\\lipstickestee lauder0000138.jpg', 'G:/MKT/train code/Flick/lipstick_estee lauder\\\\lipstickestee lauder0000139.jpg', 'G:/MKT/train code/Flick/lipstick_estee lauder\\\\lipstickestee lauder0000140.jpg', 'G:/MKT/train code/Flick/lipstick_estee lauder\\\\lipstickestee lauder0000141.jpg', 'G:/MKT/train code/Flick/lipstick_estee lauder\\\\lipstickestee lauder0000142.jpg', 'G:/MKT/train code/Flick/lipstick_estee lauder\\\\lipstickestee lauder0000143.jpg', 'G:/MKT/train code/Flick/lipstick_estee lauder\\\\lipstickestee lauder0000144.jpg', 'G:/MKT/train code/Flick/lipstick_estee lauder\\\\lipstickestee lauder0000145.jpg', 'G:/MKT/train code/Flick/lipstick_estee lauder\\\\lipstickestee lauder0000146.jpg', 'G:/MKT/train code/Flick/lipstick_estee lauder\\\\lipstickestee lauder0000147.jpg', 'G:/MKT/train code/Flick/lipstick_estee lauder\\\\lipstickestee lauder0000148.jpg', 'G:/MKT/train code/Flick/lipstick_estee lauder\\\\lipstickestee lauder0000149.jpg', 'G:/MKT/train code/Flick/lipstick_estee lauder\\\\lipstickestee lauder0000150.jpg', 'G:/MKT/train code/Flick/lipstick_estee lauder\\\\lipstickestee lauder0000151.jpg', 'G:/MKT/train code/Flick/lipstick_estee lauder\\\\lipstickestee lauder0000152.jpg', 'G:/MKT/train code/Flick/lipstick_estee lauder\\\\lipstickestee lauder0000153.jpg', 'G:/MKT/train code/Flick/lipstick_estee lauder\\\\lipstickestee lauder0000154.jpg', 'G:/MKT/train code/Flick/lipstick_estee lauder\\\\lipstickestee lauder0000155.jpg', 'G:/MKT/train code/Flick/lipstick_estee lauder\\\\lipstickestee lauder0000156.jpg', 'G:/MKT/train code/Flick/lipstick_estee lauder\\\\lipstickestee lauder0000157.jpg', 'G:/MKT/train code/Flick/lipstick_estee lauder\\\\lipstickestee lauder0000158.jpg', 'G:/MKT/train code/Flick/lipstick_estee lauder\\\\lipstickestee lauder0000159.jpg', 'G:/MKT/train code/Flick/lipstick_estee lauder\\\\lipstickestee lauder0000160.jpg']\n"
     ]
    }
   ],
   "source": [
    "import os\n",
    "\n",
    "def traverse_dir_files(root_dir, ext=None):\n",
    "#\"\"\"\n",
    "#列出文件夹中的文件, 深度遍历\n",
    "#:param root_dir: 根目录\n",
    "#:param ext: 后缀名\n",
    "#:param is_sorted: 是否排序，耗时较长\n",
    "#:return: [文件路径列表, 文件名称列表]\n",
    "#\"\"\"\n",
    "    paths_list = []\n",
    "    full_list = []\n",
    "    for parent, _, fileNames in os.walk(root_dir):\n",
    "        for name in fileNames:\n",
    "            if name.startswith('.') :  # 去除隐藏文件\n",
    "                continue\n",
    "            if ext:  # 根据后缀名搜索\n",
    "                if name.endswith(tuple(ext)):\n",
    "                    paths_list.append(parent)\n",
    "                    full_list.append(os.path.join(parent, name))\n",
    "            else:\n",
    "                paths_list.append(parent)\n",
    "                full_list.append(os.path.join(parent, name))\n",
    "    return paths_list,full_list\n",
    "\n",
    "p_list,f7_list = traverse_dir_files('G:/MKT/train code/Flick/lipstick_estee lauder','.jpg')\n",
    "\n",
    "print(f7_list)"
   ]
  },
  {
   "cell_type": "code",
   "execution_count": 123,
   "id": "35bbeaef",
   "metadata": {},
   "outputs": [
    {
     "name": "stdout",
     "output_type": "stream",
     "text": [
      "[47.723052411788714, 29.986962337795582, 28.896810883107353, 50.10096912160154, 54.063878127851865, 44.68694816355438, 60.20412423664628, 17.312315991579997, 25.67305932136469, 26.145010130750162, 37.216991986678195, 38.17617972215812, 51.60876395601325, 45.888086111051436, 38.76936696183008, 30.985199614009257, 43.11010948690292, 37.45849402356902, 56.54017309710514, 39.306042581658616, 32.998633085951774, 30.703127520985497, 52.26752348551135, 67.5329224437944, 58.59921580049253, 52.60759057668254, 32.05029754193388, 51.62039700546626, 59.278919238714465, 36.52465527173052, 22.16306850672606, 46.935685757779765, 53.87791814757047, 35.032660467061646, 24.360088931428102, 22.98160023990589, 45.503254932719486, 6.157989100915241, 48.697033467351304, 31.223536848117107, 76.81089860472954, 58.69778337825223, 49.02679025936857, 32.3354127147477, 50.31946673481704, 44.97264766506667, 29.36000100855827, 53.24823983022742, 48.05637040346811, 26.12059597138741, 22.621144458698215, 48.44543033055159, 14.688977165796501, 26.27178832632276, 42.14408321212008, 53.18124762918933, 17.696300600858283, 75.2565255692237, 97.51252570697312, 32.258312914515024, 59.89620481498346, 30.39195732591974, 59.01544966092415, 25.83640015364963, 50.1284463107867, 93.99969595353124, 64.9192518790134, 53.890419651336515, 60.037196594968556, 34.57753348580127, 45.928988860350444, 58.996330394837344, 31.49441621167505, 55.713599806886194, 17.701390303606086, 52.84329589997841]\n"
     ]
    }
   ],
   "source": [
    "import cv2\n",
    "import numpy as np\n",
    "\n",
    "def image_colorfulness(image):\n",
    "    #将图片分为B,G,R三部分（注意，这里得到的R、G、B为向量而不是标量）\n",
    "    (B, G, R) = cv2.split(image.astype(\"float\"))\n",
    " \n",
    "    #rg = R - G\n",
    "    rg = np.absolute(R - G)\n",
    " \n",
    "    #yb = 0.5 * (R + G) - B\n",
    "    yb = np.absolute(0.5 * (R + G) - B)\n",
    " \n",
    "    #计算rg和yb的平均值和标准差\n",
    "    (rbMean, rbStd) = (np.mean(rg), np.std(rg))\n",
    "    (ybMean, ybStd) = (np.mean(yb), np.std(yb))\n",
    " \n",
    "    #计算rgyb的标准差和平均值\n",
    "    stdRoot = np.sqrt((rbStd ** 2) + (ybStd ** 2))\n",
    "    meanRoot = np.sqrt((rbMean ** 2) + (ybMean ** 2))\n",
    " \n",
    "    # 返回颜色丰富度C\n",
    "    return stdRoot + (0.3 * meanRoot)\n",
    "color7 = []\n",
    "for i in range(len(f7_list)):\n",
    "    image = cv2.imread(f7_list[i])  \n",
    "    color7.append(image_colorfulness(image))\n",
    "print(color7)"
   ]
  },
  {
   "cell_type": "code",
   "execution_count": 124,
   "id": "ef385e0f",
   "metadata": {},
   "outputs": [],
   "source": [
    "import pandas as pd\n",
    "df_1 = pd.read_csv(\"G:/MKT/train code/+quality+keywords/estee lauder lipstick.csv\")\n",
    "\n",
    "df_1.insert(loc=len(df_1.columns), column='colorful', value=color7)\n",
    "\n",
    "df_1.to_csv(\"G:/MKT/train code/estee lauder lipstick.csv\",encoding = 'utf-8')"
   ]
  },
  {
   "cell_type": "code",
   "execution_count": 125,
   "id": "c445ba33",
   "metadata": {},
   "outputs": [
    {
     "name": "stdout",
     "output_type": "stream",
     "text": [
      "[1, 0, 0, 0, 0, 0, 0, 0, 0, 1, 1, 1, 1, 0, 1, 0, 0, 1, 1, 0, 0, 0, 1, 1, 1, 1, 1, 0, 0, 0, 0, 0, 0, 0, 1, 0, 0, 0, 1, 1, 1, 0, 0, 0, 0, 0, 0, 1, 0, 0, 1, 0, 0, 0, 1, 1, 1, 0, 1, 1, 1, 0, 0, 1, 0, 0, 1, 1, 1, 1, 0, 1, 0, 0, 1, 0]\n"
     ]
    }
   ],
   "source": [
    "import cv2\n",
    "import matplotlib.pyplot as plt # 用于绘制图像\n",
    "face_cascade = cv2.CascadeClassifier(r'C:/Users/wsy/Documents/WeChat Files/wxid_0kkdf1pnvtqf22/FileStorage/File/2022-11/haarcascade_frontalface_default.xml')\n",
    "# 读取输入图像\n",
    "l = []\n",
    "for i in range(len(f7_list)):\n",
    "    img = cv2.imread(f7_list[i])\n",
    "    # 检测人脸\n",
    "    faces = face_cascade.detectMultiScale(image = img, scaleFactor = 1.1, minNeighbors = 5)\n",
    "        # 显示图像中检测到的人脸数量\n",
    "    if(len(faces) < 1):\n",
    "        l.append(0)\n",
    "    else:\n",
    "        l.append(1)\n",
    "print(l)"
   ]
  },
  {
   "cell_type": "code",
   "execution_count": 126,
   "id": "f66978c6",
   "metadata": {},
   "outputs": [],
   "source": [
    "import pandas as pd\n",
    "df_1 = pd.read_csv(\"G:/MKT/train code/estee lauder lipstick.csv\")\n",
    "\n",
    "df_1.insert(loc=len(df_1.columns), column='face', value=l)\n",
    "\n",
    "df_1.to_csv(\"G:/MKT/train code/latest training data/estee lauder lipstick.csv\",encoding = 'utf-8')"
   ]
  },
  {
   "cell_type": "markdown",
   "id": "ec4a7f25",
   "metadata": {},
   "source": [
    "# foundation_L' Oreal"
   ]
  },
  {
   "cell_type": "code",
   "execution_count": 127,
   "id": "4cb5ca6f",
   "metadata": {},
   "outputs": [
    {
     "name": "stdout",
     "output_type": "stream",
     "text": [
      "[\"G:/MKT/train code/Flick/foundation_L'Oreal\\\\foundationL'Oreal0000000.jpg\", \"G:/MKT/train code/Flick/foundation_L'Oreal\\\\foundationL'Oreal0000001.jpg\", \"G:/MKT/train code/Flick/foundation_L'Oreal\\\\foundationL'Oreal0000002.jpg\", \"G:/MKT/train code/Flick/foundation_L'Oreal\\\\foundationL'Oreal0000003.jpg\", \"G:/MKT/train code/Flick/foundation_L'Oreal\\\\foundationL'Oreal0000004.jpg\", \"G:/MKT/train code/Flick/foundation_L'Oreal\\\\foundationL'Oreal0000005.jpg\", \"G:/MKT/train code/Flick/foundation_L'Oreal\\\\foundationL'Oreal0000006.jpg\", \"G:/MKT/train code/Flick/foundation_L'Oreal\\\\foundationL'Oreal0000007.jpg\", \"G:/MKT/train code/Flick/foundation_L'Oreal\\\\foundationL'Oreal0000008.jpg\", \"G:/MKT/train code/Flick/foundation_L'Oreal\\\\foundationL'Oreal0000009.jpg\", \"G:/MKT/train code/Flick/foundation_L'Oreal\\\\foundationL'Oreal0000096.jpg\", \"G:/MKT/train code/Flick/foundation_L'Oreal\\\\foundationL'Oreal0000097.jpg\", \"G:/MKT/train code/Flick/foundation_L'Oreal\\\\foundationL'Oreal0000098.jpg\", \"G:/MKT/train code/Flick/foundation_L'Oreal\\\\foundationL'Oreal0000099.jpg\", \"G:/MKT/train code/Flick/foundation_L'Oreal\\\\foundationL'Oreal0000100.jpg\", \"G:/MKT/train code/Flick/foundation_L'Oreal\\\\foundationL'Oreal0000101.jpg\", \"G:/MKT/train code/Flick/foundation_L'Oreal\\\\foundationL'Oreal0000102.jpg\", \"G:/MKT/train code/Flick/foundation_L'Oreal\\\\foundationL'Oreal0000103.jpg\", \"G:/MKT/train code/Flick/foundation_L'Oreal\\\\foundationL'Oreal0000104.jpg\", \"G:/MKT/train code/Flick/foundation_L'Oreal\\\\foundationL'Oreal0000105.jpg\", \"G:/MKT/train code/Flick/foundation_L'Oreal\\\\foundationL'Oreal0000106.jpg\", \"G:/MKT/train code/Flick/foundation_L'Oreal\\\\foundationL'Oreal0000107.jpg\"]\n"
     ]
    }
   ],
   "source": [
    "import os\n",
    "\n",
    "def traverse_dir_files(root_dir, ext=None):\n",
    "#\"\"\"\n",
    "#列出文件夹中的文件, 深度遍历\n",
    "#:param root_dir: 根目录\n",
    "#:param ext: 后缀名\n",
    "#:param is_sorted: 是否排序，耗时较长\n",
    "#:return: [文件路径列表, 文件名称列表]\n",
    "#\"\"\"\n",
    "    paths_list = []\n",
    "    full_list = []\n",
    "    for parent, _, fileNames in os.walk(root_dir):\n",
    "        for name in fileNames:\n",
    "            if name.startswith('.') :  # 去除隐藏文件\n",
    "                continue\n",
    "            if ext:  # 根据后缀名搜索\n",
    "                if name.endswith(tuple(ext)):\n",
    "                    paths_list.append(parent)\n",
    "                    full_list.append(os.path.join(parent, name))\n",
    "            else:\n",
    "                paths_list.append(parent)\n",
    "                full_list.append(os.path.join(parent, name))\n",
    "    return paths_list,full_list\n",
    "\n",
    "p_list,f8_list = traverse_dir_files(\"G:/MKT/train code/Flick/foundation_L'Oreal\",'.jpg')\n",
    "\n",
    "print(f8_list)"
   ]
  },
  {
   "cell_type": "code",
   "execution_count": 128,
   "id": "efa3ccc4",
   "metadata": {},
   "outputs": [
    {
     "name": "stdout",
     "output_type": "stream",
     "text": [
      "[43.13975393469331, 23.037219670499518, 32.24231963513228, 29.511650645132494, 25.68063162642148, 34.223766747978644, 44.246678694369024, 0.0, 30.885015820123986, 38.14589431785417, 50.703618768345706, 34.63930107980296, 14.328341000538284, 77.371714960328, 66.1696625415903, 36.883552377217114, 28.67298605884498, 80.69450711968591, 73.77813750655181, 54.534110676983005, 64.20333002794486, 68.70793077702959]\n"
     ]
    }
   ],
   "source": [
    "import cv2\n",
    "import numpy as np\n",
    "\n",
    "def image_colorfulness(image):\n",
    "    #将图片分为B,G,R三部分（注意，这里得到的R、G、B为向量而不是标量）\n",
    "    (B, G, R) = cv2.split(image.astype(\"float\"))\n",
    " \n",
    "    #rg = R - G\n",
    "    rg = np.absolute(R - G)\n",
    " \n",
    "    #yb = 0.5 * (R + G) - B\n",
    "    yb = np.absolute(0.5 * (R + G) - B)\n",
    " \n",
    "    #计算rg和yb的平均值和标准差\n",
    "    (rbMean, rbStd) = (np.mean(rg), np.std(rg))\n",
    "    (ybMean, ybStd) = (np.mean(yb), np.std(yb))\n",
    " \n",
    "    #计算rgyb的标准差和平均值\n",
    "    stdRoot = np.sqrt((rbStd ** 2) + (ybStd ** 2))\n",
    "    meanRoot = np.sqrt((rbMean ** 2) + (ybMean ** 2))\n",
    " \n",
    "    # 返回颜色丰富度C\n",
    "    return stdRoot + (0.3 * meanRoot)\n",
    "color8 = []\n",
    "for i in range(len(f8_list)):\n",
    "    image = cv2.imread(f8_list[i])  \n",
    "    color8.append(image_colorfulness(image))\n",
    "print(color8)"
   ]
  },
  {
   "cell_type": "code",
   "execution_count": 129,
   "id": "e37dac97",
   "metadata": {},
   "outputs": [],
   "source": [
    "import pandas as pd\n",
    "df_1 = pd.read_csv(\"G:/MKT/train code/+quality+keywords/L'Oreal foundation.csv\")\n",
    "\n",
    "df_1.insert(loc=len(df_1.columns), column='colorful', value=color8)\n",
    "\n",
    "df_1.to_csv(\"G:/MKT/train code/L'Oreal foundation.csv\",encoding = 'utf-8')"
   ]
  },
  {
   "cell_type": "code",
   "execution_count": 130,
   "id": "919b4a74",
   "metadata": {},
   "outputs": [
    {
     "name": "stdout",
     "output_type": "stream",
     "text": [
      "[1, 0, 1, 0, 0, 1, 1, 1, 0, 1, 1, 0, 0, 0, 1, 1, 1, 1, 0, 1, 0, 1]\n"
     ]
    }
   ],
   "source": [
    "import cv2\n",
    "import matplotlib.pyplot as plt # 用于绘制图像\n",
    "face_cascade = cv2.CascadeClassifier(r'C:/Users/wsy/Documents/WeChat Files/wxid_0kkdf1pnvtqf22/FileStorage/File/2022-11/haarcascade_frontalface_default.xml')\n",
    "# 读取输入图像\n",
    "l = []\n",
    "for i in range(len(f8_list)):\n",
    "    img = cv2.imread(f8_list[i])\n",
    "    # 检测人脸\n",
    "    faces = face_cascade.detectMultiScale(image = img, scaleFactor = 1.1, minNeighbors = 5)\n",
    "        # 显示图像中检测到的人脸数量\n",
    "    if(len(faces) < 1):\n",
    "        l.append(0)\n",
    "    else:\n",
    "        l.append(1)\n",
    "print(l)"
   ]
  },
  {
   "cell_type": "code",
   "execution_count": 131,
   "id": "ae9048f8",
   "metadata": {},
   "outputs": [],
   "source": [
    "import pandas as pd\n",
    "df_1 = pd.read_csv(\"G:/MKT/train code/L'Oreal foundation.csv\")\n",
    "\n",
    "df_1.insert(loc=len(df_1.columns), column='face', value=l)\n",
    "\n",
    "df_1.to_csv(\"G:/MKT/train code/latest training data/L'Oreal foundation.csv\",encoding = 'utf-8')"
   ]
  },
  {
   "cell_type": "markdown",
   "id": "01124463",
   "metadata": {},
   "source": [
    "# lipstick_L'Oreal"
   ]
  },
  {
   "cell_type": "code",
   "execution_count": 132,
   "id": "80f29d38",
   "metadata": {},
   "outputs": [
    {
     "name": "stdout",
     "output_type": "stream",
     "text": [
      "[\"G:/MKT/train code/Flick/lipstic_L'Oreal\\\\lipstickL'Oreal0000000.jpg\", \"G:/MKT/train code/Flick/lipstic_L'Oreal\\\\lipstickL'Oreal0000001.jpg\", \"G:/MKT/train code/Flick/lipstic_L'Oreal\\\\lipstickL'Oreal0000002.jpg\", \"G:/MKT/train code/Flick/lipstic_L'Oreal\\\\lipstickL'Oreal0000003.jpg\", \"G:/MKT/train code/Flick/lipstic_L'Oreal\\\\lipstickL'Oreal0000004.jpg\", \"G:/MKT/train code/Flick/lipstic_L'Oreal\\\\lipstickL'Oreal0000005.jpg\", \"G:/MKT/train code/Flick/lipstic_L'Oreal\\\\lipstickL'Oreal0000006.jpg\", \"G:/MKT/train code/Flick/lipstic_L'Oreal\\\\lipstickL'Oreal0000007.jpg\", \"G:/MKT/train code/Flick/lipstic_L'Oreal\\\\lipstickL'Oreal0000008.jpg\", \"G:/MKT/train code/Flick/lipstic_L'Oreal\\\\lipstickL'Oreal0000009.jpg\", \"G:/MKT/train code/Flick/lipstic_L'Oreal\\\\lipstickL'Oreal0000010.jpg\", \"G:/MKT/train code/Flick/lipstic_L'Oreal\\\\lipstickL'Oreal0000011.jpg\", \"G:/MKT/train code/Flick/lipstic_L'Oreal\\\\lipstickL'Oreal0000012.jpg\", \"G:/MKT/train code/Flick/lipstic_L'Oreal\\\\lipstickL'Oreal0000013.jpg\", \"G:/MKT/train code/Flick/lipstic_L'Oreal\\\\lipstickL'Oreal0000014.jpg\", \"G:/MKT/train code/Flick/lipstic_L'Oreal\\\\lipstickL'Oreal0000015.jpg\", \"G:/MKT/train code/Flick/lipstic_L'Oreal\\\\lipstickL'Oreal0000016.jpg\", \"G:/MKT/train code/Flick/lipstic_L'Oreal\\\\lipstickL'Oreal0000017.jpg\", \"G:/MKT/train code/Flick/lipstic_L'Oreal\\\\lipstickL'Oreal0000018.jpg\", \"G:/MKT/train code/Flick/lipstic_L'Oreal\\\\lipstickL'Oreal0000019.jpg\", \"G:/MKT/train code/Flick/lipstic_L'Oreal\\\\lipstickL'Oreal0000024.jpg\", \"G:/MKT/train code/Flick/lipstic_L'Oreal\\\\lipstickL'Oreal0000025.jpg\", \"G:/MKT/train code/Flick/lipstic_L'Oreal\\\\lipstickL'Oreal0000026.jpg\", \"G:/MKT/train code/Flick/lipstic_L'Oreal\\\\lipstickL'Oreal0000027.jpg\", \"G:/MKT/train code/Flick/lipstic_L'Oreal\\\\lipstickL'Oreal0000028.jpg\", \"G:/MKT/train code/Flick/lipstic_L'Oreal\\\\lipstickL'Oreal0000029.jpg\", \"G:/MKT/train code/Flick/lipstic_L'Oreal\\\\lipstickL'Oreal0000030.jpg\", \"G:/MKT/train code/Flick/lipstic_L'Oreal\\\\lipstickL'Oreal0000031.jpg\", \"G:/MKT/train code/Flick/lipstic_L'Oreal\\\\lipstickL'Oreal0000034.jpg\", \"G:/MKT/train code/Flick/lipstic_L'Oreal\\\\lipstickL'Oreal0000035.jpg\", \"G:/MKT/train code/Flick/lipstic_L'Oreal\\\\lipstickL'Oreal0000036.jpg\", \"G:/MKT/train code/Flick/lipstic_L'Oreal\\\\lipstickL'Oreal0000038.jpg\", \"G:/MKT/train code/Flick/lipstic_L'Oreal\\\\lipstickL'Oreal0000039.jpg\", \"G:/MKT/train code/Flick/lipstic_L'Oreal\\\\lipstickL'Oreal0000040.jpg\", \"G:/MKT/train code/Flick/lipstic_L'Oreal\\\\lipstickL'Oreal0000041.jpg\", \"G:/MKT/train code/Flick/lipstic_L'Oreal\\\\lipstickL'Oreal0000042.jpg\", \"G:/MKT/train code/Flick/lipstic_L'Oreal\\\\lipstickL'Oreal0000043.jpg\", \"G:/MKT/train code/Flick/lipstic_L'Oreal\\\\lipstickL'Oreal0000044.jpg\", \"G:/MKT/train code/Flick/lipstic_L'Oreal\\\\lipstickL'Oreal0000045.jpg\", \"G:/MKT/train code/Flick/lipstic_L'Oreal\\\\lipstickL'Oreal0000046.jpg\", \"G:/MKT/train code/Flick/lipstic_L'Oreal\\\\lipstickL'Oreal0000047.jpg\", \"G:/MKT/train code/Flick/lipstic_L'Oreal\\\\lipstickL'Oreal0000048.jpg\", \"G:/MKT/train code/Flick/lipstic_L'Oreal\\\\lipstickL'Oreal0000049.jpg\", \"G:/MKT/train code/Flick/lipstic_L'Oreal\\\\lipstickL'Oreal0000050.jpg\", \"G:/MKT/train code/Flick/lipstic_L'Oreal\\\\lipstickL'Oreal0000051.jpg\", \"G:/MKT/train code/Flick/lipstic_L'Oreal\\\\lipstickL'Oreal0000052.jpg\", \"G:/MKT/train code/Flick/lipstic_L'Oreal\\\\lipstickL'Oreal0000053.jpg\", \"G:/MKT/train code/Flick/lipstic_L'Oreal\\\\lipstickL'Oreal0000054.jpg\", \"G:/MKT/train code/Flick/lipstic_L'Oreal\\\\lipstickL'Oreal0000055.jpg\", \"G:/MKT/train code/Flick/lipstic_L'Oreal\\\\lipstickL'Oreal0000056.jpg\", \"G:/MKT/train code/Flick/lipstic_L'Oreal\\\\lipstickL'Oreal0000057.jpg\", \"G:/MKT/train code/Flick/lipstic_L'Oreal\\\\lipstickL'Oreal0000058.jpg\", \"G:/MKT/train code/Flick/lipstic_L'Oreal\\\\lipstickL'Oreal0000059.jpg\", \"G:/MKT/train code/Flick/lipstic_L'Oreal\\\\lipstickL'Oreal0000060.jpg\", \"G:/MKT/train code/Flick/lipstic_L'Oreal\\\\lipstickL'Oreal0000061.jpg\", \"G:/MKT/train code/Flick/lipstic_L'Oreal\\\\lipstickL'Oreal0000062.jpg\", \"G:/MKT/train code/Flick/lipstic_L'Oreal\\\\lipstickL'Oreal0000063.jpg\", \"G:/MKT/train code/Flick/lipstic_L'Oreal\\\\lipstickL'Oreal0000064.jpg\", \"G:/MKT/train code/Flick/lipstic_L'Oreal\\\\lipstickL'Oreal0000065.jpg\", \"G:/MKT/train code/Flick/lipstic_L'Oreal\\\\lipstickL'Oreal0000066.jpg\", \"G:/MKT/train code/Flick/lipstic_L'Oreal\\\\lipstickL'Oreal0000067.jpg\", \"G:/MKT/train code/Flick/lipstic_L'Oreal\\\\lipstickL'Oreal0000068.jpg\", \"G:/MKT/train code/Flick/lipstic_L'Oreal\\\\lipstickL'Oreal0000069.jpg\", \"G:/MKT/train code/Flick/lipstic_L'Oreal\\\\lipstickL'Oreal0000070.jpg\", \"G:/MKT/train code/Flick/lipstic_L'Oreal\\\\lipstickL'Oreal0000071.jpg\", \"G:/MKT/train code/Flick/lipstic_L'Oreal\\\\lipstickL'Oreal0000073.jpg\", \"G:/MKT/train code/Flick/lipstic_L'Oreal\\\\lipstickL'Oreal0000074.jpg\", \"G:/MKT/train code/Flick/lipstic_L'Oreal\\\\lipstickL'Oreal0000076.jpg\", \"G:/MKT/train code/Flick/lipstic_L'Oreal\\\\lipstickL'Oreal0000077.jpg\", \"G:/MKT/train code/Flick/lipstic_L'Oreal\\\\lipstickL'Oreal0000164.jpg\", \"G:/MKT/train code/Flick/lipstic_L'Oreal\\\\lipstickL'Oreal0000165.jpg\", \"G:/MKT/train code/Flick/lipstic_L'Oreal\\\\lipstickL'Oreal0000166.jpg\", \"G:/MKT/train code/Flick/lipstic_L'Oreal\\\\lipstickL'Oreal0000167.jpg\", \"G:/MKT/train code/Flick/lipstic_L'Oreal\\\\lipstickL'Oreal0000168.jpg\", \"G:/MKT/train code/Flick/lipstic_L'Oreal\\\\lipstickL'Oreal0000169.jpg\", \"G:/MKT/train code/Flick/lipstic_L'Oreal\\\\lipstickL'Oreal0000170.jpg\", \"G:/MKT/train code/Flick/lipstic_L'Oreal\\\\lipstickL'Oreal0000171.jpg\", \"G:/MKT/train code/Flick/lipstic_L'Oreal\\\\lipstickL'Oreal0000172.jpg\", \"G:/MKT/train code/Flick/lipstic_L'Oreal\\\\lipstickL'Oreal0000173.jpg\", \"G:/MKT/train code/Flick/lipstic_L'Oreal\\\\lipstickL'Oreal0000174.jpg\", \"G:/MKT/train code/Flick/lipstic_L'Oreal\\\\lipstickL'Oreal0000175.jpg\", \"G:/MKT/train code/Flick/lipstic_L'Oreal\\\\lipstickL'Oreal0000176.jpg\", \"G:/MKT/train code/Flick/lipstic_L'Oreal\\\\lipstickL'Oreal0000177.jpg\", \"G:/MKT/train code/Flick/lipstic_L'Oreal\\\\lipstickL'Oreal0000178.jpg\", \"G:/MKT/train code/Flick/lipstic_L'Oreal\\\\lipstickL'Oreal0000179.jpg\", \"G:/MKT/train code/Flick/lipstic_L'Oreal\\\\lipstickL'Oreal0000180.jpg\", \"G:/MKT/train code/Flick/lipstic_L'Oreal\\\\lipstickL'Oreal0000181.jpg\", \"G:/MKT/train code/Flick/lipstic_L'Oreal\\\\lipstickL'Oreal0000182.jpg\", \"G:/MKT/train code/Flick/lipstic_L'Oreal\\\\lipstickL'Oreal0000183.jpg\", \"G:/MKT/train code/Flick/lipstic_L'Oreal\\\\lipstickL'Oreal0000184.jpg\", \"G:/MKT/train code/Flick/lipstic_L'Oreal\\\\lipstickL'Oreal0000185.jpg\", \"G:/MKT/train code/Flick/lipstic_L'Oreal\\\\lipstickL'Oreal0000186.jpg\", \"G:/MKT/train code/Flick/lipstic_L'Oreal\\\\lipstickL'Oreal0000187.jpg\", \"G:/MKT/train code/Flick/lipstic_L'Oreal\\\\lipstickL'Oreal0000188.jpg\", \"G:/MKT/train code/Flick/lipstic_L'Oreal\\\\lipstickL'Oreal0000189.jpg\", \"G:/MKT/train code/Flick/lipstic_L'Oreal\\\\lipstickL'Oreal0000190.jpg\", \"G:/MKT/train code/Flick/lipstic_L'Oreal\\\\lipstickL'Oreal0000191.jpg\", \"G:/MKT/train code/Flick/lipstic_L'Oreal\\\\lipstickL'Oreal0000192.jpg\", \"G:/MKT/train code/Flick/lipstic_L'Oreal\\\\lipstickL'Oreal0000193.jpg\", \"G:/MKT/train code/Flick/lipstic_L'Oreal\\\\lipstickL'Oreal0000194.jpg\", \"G:/MKT/train code/Flick/lipstic_L'Oreal\\\\lipstickL'Oreal0000195.jpg\", \"G:/MKT/train code/Flick/lipstic_L'Oreal\\\\lipstickL'Oreal0000196.jpg\", \"G:/MKT/train code/Flick/lipstic_L'Oreal\\\\lipstickL'Oreal0000197.jpg\", \"G:/MKT/train code/Flick/lipstic_L'Oreal\\\\lipstickL'Oreal0000198.jpg\", \"G:/MKT/train code/Flick/lipstic_L'Oreal\\\\lipstickL'Oreal0000199.jpg\", \"G:/MKT/train code/Flick/lipstic_L'Oreal\\\\lipstickL'Oreal0000200.jpg\", \"G:/MKT/train code/Flick/lipstic_L'Oreal\\\\lipstickL'Oreal0000201.jpg\", \"G:/MKT/train code/Flick/lipstic_L'Oreal\\\\lipstickL'Oreal0000202.jpg\", \"G:/MKT/train code/Flick/lipstic_L'Oreal\\\\lipstickL'Oreal0000203.jpg\", \"G:/MKT/train code/Flick/lipstic_L'Oreal\\\\lipstickL'Oreal0000204.jpg\", \"G:/MKT/train code/Flick/lipstic_L'Oreal\\\\lipstickL'Oreal0000205.jpg\", \"G:/MKT/train code/Flick/lipstic_L'Oreal\\\\lipstickL'Oreal0000206.jpg\", \"G:/MKT/train code/Flick/lipstic_L'Oreal\\\\lipstickL'Oreal0000207.jpg\", \"G:/MKT/train code/Flick/lipstic_L'Oreal\\\\lipstickL'Oreal0000208.jpg\", \"G:/MKT/train code/Flick/lipstic_L'Oreal\\\\lipstickL'Oreal0000209.jpg\", \"G:/MKT/train code/Flick/lipstic_L'Oreal\\\\lipstickL'Oreal0000210.jpg\", \"G:/MKT/train code/Flick/lipstic_L'Oreal\\\\lipstickL'Oreal0000211.jpg\", \"G:/MKT/train code/Flick/lipstic_L'Oreal\\\\lipstickL'Oreal0000212.jpg\", \"G:/MKT/train code/Flick/lipstic_L'Oreal\\\\lipstickL'Oreal0000213.jpg\", \"G:/MKT/train code/Flick/lipstic_L'Oreal\\\\lipstickL'Oreal0000214.jpg\", \"G:/MKT/train code/Flick/lipstic_L'Oreal\\\\lipstickL'Oreal0000215.jpg\", \"G:/MKT/train code/Flick/lipstic_L'Oreal\\\\lipstickL'Oreal0000216.jpg\", \"G:/MKT/train code/Flick/lipstic_L'Oreal\\\\lipstickL'Oreal0000217.jpg\", \"G:/MKT/train code/Flick/lipstic_L'Oreal\\\\lipstickL'Oreal0000218.jpg\", \"G:/MKT/train code/Flick/lipstic_L'Oreal\\\\lipstickL'Oreal0000219.jpg\", \"G:/MKT/train code/Flick/lipstic_L'Oreal\\\\lipstickL'Oreal0000220.jpg\", \"G:/MKT/train code/Flick/lipstic_L'Oreal\\\\lipstickL'Oreal0000221.jpg\", \"G:/MKT/train code/Flick/lipstic_L'Oreal\\\\lipstickL'Oreal0000222.jpg\", \"G:/MKT/train code/Flick/lipstic_L'Oreal\\\\lipstickL'Oreal0000223.jpg\", \"G:/MKT/train code/Flick/lipstic_L'Oreal\\\\lipstickL'Oreal0000224.jpg\", \"G:/MKT/train code/Flick/lipstic_L'Oreal\\\\lipstickL'Oreal0000225.jpg\", \"G:/MKT/train code/Flick/lipstic_L'Oreal\\\\lipstickL'Oreal0000226.jpg\", \"G:/MKT/train code/Flick/lipstic_L'Oreal\\\\lipstickL'Oreal0000227.jpg\", \"G:/MKT/train code/Flick/lipstic_L'Oreal\\\\lipstickL'Oreal0000228.jpg\", \"G:/MKT/train code/Flick/lipstic_L'Oreal\\\\lipstickL'Oreal0000229.jpg\", \"G:/MKT/train code/Flick/lipstic_L'Oreal\\\\lipstickL'Oreal0000230.jpg\", \"G:/MKT/train code/Flick/lipstic_L'Oreal\\\\lipstickL'Oreal0000231.jpg\", \"G:/MKT/train code/Flick/lipstic_L'Oreal\\\\lipstickL'Oreal0000232.jpg\", \"G:/MKT/train code/Flick/lipstic_L'Oreal\\\\lipstickL'Oreal0000233.jpg\", \"G:/MKT/train code/Flick/lipstic_L'Oreal\\\\lipstickL'Oreal0000234.jpg\", \"G:/MKT/train code/Flick/lipstic_L'Oreal\\\\lipstickL'Oreal0000235.jpg\", \"G:/MKT/train code/Flick/lipstic_L'Oreal\\\\lipstickL'Oreal0000236.jpg\", \"G:/MKT/train code/Flick/lipstic_L'Oreal\\\\lipstickL'Oreal0000237.jpg\", \"G:/MKT/train code/Flick/lipstic_L'Oreal\\\\lipstickL'Oreal0000238.jpg\", \"G:/MKT/train code/Flick/lipstic_L'Oreal\\\\lipstickL'Oreal0000239.jpg\", \"G:/MKT/train code/Flick/lipstic_L'Oreal\\\\lipstickL'Oreal0000240.jpg\", \"G:/MKT/train code/Flick/lipstic_L'Oreal\\\\lipstickL'Oreal0000241.jpg\", \"G:/MKT/train code/Flick/lipstic_L'Oreal\\\\lipstickL'Oreal0000242.jpg\", \"G:/MKT/train code/Flick/lipstic_L'Oreal\\\\lipstickL'Oreal0000243.jpg\", \"G:/MKT/train code/Flick/lipstic_L'Oreal\\\\lipstickL'Oreal0000244.jpg\", \"G:/MKT/train code/Flick/lipstic_L'Oreal\\\\lipstickL'Oreal0000245.jpg\", \"G:/MKT/train code/Flick/lipstic_L'Oreal\\\\lipstickL'Oreal0000246.jpg\", \"G:/MKT/train code/Flick/lipstic_L'Oreal\\\\lipstickL'Oreal0000247.jpg\", \"G:/MKT/train code/Flick/lipstic_L'Oreal\\\\lipstickL'Oreal0000248.jpg\", \"G:/MKT/train code/Flick/lipstic_L'Oreal\\\\lipstickL'Oreal0000249.jpg\", \"G:/MKT/train code/Flick/lipstic_L'Oreal\\\\lipstickL'Oreal0000250.jpg\", \"G:/MKT/train code/Flick/lipstic_L'Oreal\\\\lipstickL'Oreal0000251.jpg\", \"G:/MKT/train code/Flick/lipstic_L'Oreal\\\\lipstickL'Oreal0000252.jpg\", \"G:/MKT/train code/Flick/lipstic_L'Oreal\\\\lipstickL'Oreal0000253.jpg\"]\n"
     ]
    }
   ],
   "source": [
    "import os\n",
    "\n",
    "def traverse_dir_files(root_dir, ext=None):\n",
    "#\"\"\"\n",
    "#列出文件夹中的文件, 深度遍历\n",
    "#:param root_dir: 根目录\n",
    "#:param ext: 后缀名\n",
    "#:param is_sorted: 是否排序，耗时较长\n",
    "#:return: [文件路径列表, 文件名称列表]\n",
    "#\"\"\"\n",
    "    paths_list = []\n",
    "    full_list = []\n",
    "    for parent, _, fileNames in os.walk(root_dir):\n",
    "        for name in fileNames:\n",
    "            if name.startswith('.') :  # 去除隐藏文件\n",
    "                continue\n",
    "            if ext:  # 根据后缀名搜索\n",
    "                if name.endswith(tuple(ext)):\n",
    "                    paths_list.append(parent)\n",
    "                    full_list.append(os.path.join(parent, name))\n",
    "            else:\n",
    "                paths_list.append(parent)\n",
    "                full_list.append(os.path.join(parent, name))\n",
    "    return paths_list,full_list\n",
    "\n",
    "p_list,f9_list = traverse_dir_files(\"G:/MKT/train code/Flick/lipstic_L'Oreal\",'.jpg')\n",
    "\n",
    "print(f9_list)"
   ]
  },
  {
   "cell_type": "code",
   "execution_count": 133,
   "id": "b8dc4ada",
   "metadata": {},
   "outputs": [
    {
     "name": "stdout",
     "output_type": "stream",
     "text": [
      "[38.196816100794514, 43.819364870601795, 79.06415919939786, 10.70797017088428, 12.163502076578599, 11.191773443358876, 18.505767483131354, 14.633225579364, 53.54703981321467, 108.87607267796724, 26.55200249899238, 30.00571663320983, 41.14310502304782, 47.90032083118895, 27.774079122879773, 25.757570101878706, 32.2205975338214, 26.464178213680505, 61.353412705200576, 33.50205940473689, 12.366811546975855, 32.64527830426904, 37.6837919105221, 43.920068032267025, 68.26768251251642, 39.1386956331521, 49.02255951307856, 59.275296988393116, 67.08931386533075, 59.81761861124713, 32.816596199258775, 24.14240908457047, 46.27657511495986, 44.79794115507022, 47.94087337831593, 58.913728616475154, 15.529928192141607, 32.80367338557319, 22.245440348374967, 17.001353951431252, 19.500176742932908, 39.15211604050682, 9.910537704561644, 9.823977780494173, 8.620147493121777, 9.389624578793383, 17.969230657917795, 49.13858084145518, 33.80713128826038, 27.633174123705473, 34.728074288906804, 35.905236470896604, 34.58853811875737, 17.764154150392223, 54.131238874307805, 59.553596450725564, 50.928546370918255, 60.493013706275896, 47.92833368717005, 78.26183919464583, 66.21392373566074, 61.25727364535757, 38.700083913118746, 35.82981742424927, 85.0661166818214, 64.79579190675321, 45.36956212298723, 40.32243990956979, 65.62238531920435, 52.60759057668254, 28.34552562630577, 25.79352519741991, 94.44133796787584, 74.13827307212505, 27.367782869058857, 51.741291035703895, 50.086148113403766, 38.53193815990846, 41.635209049376776, 20.825687025521784, 22.386638461239833, 18.9915326708358, 33.16451854374805, 38.30187733880809, 32.584578891007666, 22.00452305311681, 72.87997565421288, 38.811316018895354, 29.709371247923215, 83.22258808873393, 57.59076497767439, 16.448876017298502, 20.10506198870221, 9.410260941302514, 41.912122683119634, 44.21347262981031, 21.99718010492485, 21.24552657340302, 22.574626912239488, 19.29679872520024, 33.64452053391135, 34.720943399961236, 36.71536304910902, 16.174564453947237, 34.06619776698985, 58.77501132038567, 59.286523696890825, 43.96927906920624, 48.71392623336669, 49.3561902356559, 55.7590694644715, 59.86664916994732, 58.716726686937015, 60.7595187315991, 59.90137315503035, 48.391862594536214, 49.13835629276404, 63.017194343768594, 36.883552377217114, 27.97221519969709, 80.69450711968591, 38.387583437081105, 89.56379933030324, 37.526297668858334, 35.95923434385516, 54.534110676983005, 32.51188228734659, 29.96134756470839, 93.99969595353124, 51.539429165024885, 60.750584981757996, 50.086123472234505, 64.9192518790134, 46.56020499798818, 68.70793077702959, 34.57753348580127, 33.2557784928221, 59.69261074550691, 22.199899406868074, 51.62318567978575, 46.85343249866172, 34.346031978315736, 26.67472838558003, 24.237230137969913, 39.35982476965325, 39.666599952797924, 25.680548672426042, 34.0805258386078, 25.08349560622027, 17.281017748565812, 31.669042235730984, 24.547999582721644, 33.92096533334206, 36.98447955254379, 23.991957446284143, 19.09951005170263, 96.59125497431309, 43.669892793911735, 34.66872078897007]\n"
     ]
    }
   ],
   "source": [
    "import cv2\n",
    "import numpy as np\n",
    "\n",
    "def image_colorfulness(image):\n",
    "    #将图片分为B,G,R三部分（注意，这里得到的R、G、B为向量而不是标量）\n",
    "    (B, G, R) = cv2.split(image.astype(\"float\"))\n",
    " \n",
    "    #rg = R - G\n",
    "    rg = np.absolute(R - G)\n",
    " \n",
    "    #yb = 0.5 * (R + G) - B\n",
    "    yb = np.absolute(0.5 * (R + G) - B)\n",
    " \n",
    "    #计算rg和yb的平均值和标准差\n",
    "    (rbMean, rbStd) = (np.mean(rg), np.std(rg))\n",
    "    (ybMean, ybStd) = (np.mean(yb), np.std(yb))\n",
    " \n",
    "    #计算rgyb的标准差和平均值\n",
    "    stdRoot = np.sqrt((rbStd ** 2) + (ybStd ** 2))\n",
    "    meanRoot = np.sqrt((rbMean ** 2) + (ybMean ** 2))\n",
    " \n",
    "    # 返回颜色丰富度C\n",
    "    return stdRoot + (0.3 * meanRoot)\n",
    "color9 = []\n",
    "for i in range(len(f9_list)):\n",
    "    image = cv2.imread(f9_list[i])  \n",
    "    color9.append(image_colorfulness(image))\n",
    "print(color9)"
   ]
  },
  {
   "cell_type": "code",
   "execution_count": 134,
   "id": "2bcad938",
   "metadata": {},
   "outputs": [],
   "source": [
    "import pandas as pd\n",
    "df_1 = pd.read_csv(\"G:/MKT/train code/+quality+keywords/L'Oreal lipstick.csv\")\n",
    "\n",
    "df_1.insert(loc=len(df_1.columns), column='colorful', value=color9)\n",
    "\n",
    "df_1.to_csv(\"G:/MKT/train code/L'Oreal lipstick.csv\",encoding = 'utf-8')"
   ]
  },
  {
   "cell_type": "code",
   "execution_count": 135,
   "id": "b4e792ee",
   "metadata": {},
   "outputs": [
    {
     "name": "stdout",
     "output_type": "stream",
     "text": [
      "[0, 0, 0, 0, 0, 0, 0, 0, 0, 0, 1, 1, 1, 1, 1, 1, 1, 1, 0, 0, 0, 1, 1, 0, 0, 0, 0, 0, 0, 0, 0, 0, 1, 0, 1, 1, 0, 0, 0, 1, 0, 0, 0, 0, 0, 0, 0, 0, 1, 1, 0, 0, 1, 0, 0, 0, 0, 1, 0, 0, 0, 0, 0, 1, 0, 0, 0, 1, 0, 1, 0, 0, 0, 0, 0, 0, 0, 1, 0, 1, 0, 1, 1, 0, 1, 1, 0, 1, 1, 0, 0, 1, 0, 0, 1, 0, 1, 1, 0, 1, 1, 1, 1, 1, 1, 1, 1, 1, 0, 1, 1, 1, 0, 1, 1, 0, 0, 1, 1, 0, 1, 0, 1, 1, 0, 1, 0, 0, 0, 1, 1, 0, 1, 0, 1, 1, 1, 0, 1, 0, 1, 1, 1, 1, 0, 1, 1, 1, 0, 1, 0, 1, 0, 1, 1, 1, 1, 0, 0]\n"
     ]
    }
   ],
   "source": [
    "import cv2\n",
    "import matplotlib.pyplot as plt # 用于绘制图像\n",
    "face_cascade = cv2.CascadeClassifier(r'C:/Users/wsy/Documents/WeChat Files/wxid_0kkdf1pnvtqf22/FileStorage/File/2022-11/haarcascade_frontalface_default.xml')\n",
    "# 读取输入图像\n",
    "l = []\n",
    "for i in range(len(f9_list)):\n",
    "    img = cv2.imread(f9_list[i])\n",
    "    # 检测人脸\n",
    "    faces = face_cascade.detectMultiScale(image = img, scaleFactor = 1.1, minNeighbors = 5)\n",
    "        # 显示图像中检测到的人脸数量\n",
    "    if(len(faces) < 1):\n",
    "        l.append(0)\n",
    "    else:\n",
    "        l.append(1)\n",
    "print(l)"
   ]
  },
  {
   "cell_type": "code",
   "execution_count": 136,
   "id": "098da8de",
   "metadata": {},
   "outputs": [],
   "source": [
    "import pandas as pd\n",
    "df_1 = pd.read_csv(\"G:/MKT/train code/L'Oreal lipstick.csv\")\n",
    "\n",
    "df_1.insert(loc=len(df_1.columns), column='face', value=l)\n",
    "\n",
    "df_1.to_csv(\"G:/MKT/train code/latest training data/L'Oreal lipstick.csv\",encoding = 'utf-8')"
   ]
  },
  {
   "cell_type": "markdown",
   "id": "cb54fb7e",
   "metadata": {},
   "source": [
    "# makeup_armani"
   ]
  },
  {
   "cell_type": "code",
   "execution_count": 137,
   "id": "b22fe2d8",
   "metadata": {},
   "outputs": [
    {
     "name": "stdout",
     "output_type": "stream",
     "text": [
      "['G:/MKT/train code/Flick/makeup_armani\\\\makeuparmani0000000.jpg', 'G:/MKT/train code/Flick/makeup_armani\\\\makeuparmani0000001.jpg', 'G:/MKT/train code/Flick/makeup_armani\\\\makeuparmani0000527.jpg', 'G:/MKT/train code/Flick/makeup_armani\\\\makeuparmani0000528.jpg', 'G:/MKT/train code/Flick/makeup_armani\\\\makeuparmani0000529.jpg', 'G:/MKT/train code/Flick/makeup_armani\\\\makeuparmani0000530.jpg', 'G:/MKT/train code/Flick/makeup_armani\\\\makeuparmani0000531.jpg', 'G:/MKT/train code/Flick/makeup_armani\\\\makeuparmani0000532.jpg', 'G:/MKT/train code/Flick/makeup_armani\\\\makeuparmani0000533.jpg', 'G:/MKT/train code/Flick/makeup_armani\\\\makeuparmani0000534.jpg', 'G:/MKT/train code/Flick/makeup_armani\\\\makeuparmani0000535.jpg', 'G:/MKT/train code/Flick/makeup_armani\\\\makeuparmani0000536.jpg', 'G:/MKT/train code/Flick/makeup_armani\\\\makeuparmani0000537.jpg', 'G:/MKT/train code/Flick/makeup_armani\\\\makeuparmani0000538.jpg', 'G:/MKT/train code/Flick/makeup_armani\\\\makeuparmani0000539.jpg', 'G:/MKT/train code/Flick/makeup_armani\\\\makeuparmani0000540.jpg', 'G:/MKT/train code/Flick/makeup_armani\\\\makeuparmani0000541.jpg', 'G:/MKT/train code/Flick/makeup_armani\\\\makeuparmani0000542.jpg', 'G:/MKT/train code/Flick/makeup_armani\\\\makeuparmani0000543.jpg', 'G:/MKT/train code/Flick/makeup_armani\\\\makeuparmani0000544.jpg', 'G:/MKT/train code/Flick/makeup_armani\\\\makeuparmani0000545.jpg', 'G:/MKT/train code/Flick/makeup_armani\\\\makeuparmani0000546.jpg', 'G:/MKT/train code/Flick/makeup_armani\\\\makeuparmani0000547.jpg', 'G:/MKT/train code/Flick/makeup_armani\\\\makeuparmani0000548.jpg', 'G:/MKT/train code/Flick/makeup_armani\\\\makeuparmani0000549.jpg', 'G:/MKT/train code/Flick/makeup_armani\\\\makeuparmani0000550.jpg', 'G:/MKT/train code/Flick/makeup_armani\\\\makeuparmani0000551.jpg', 'G:/MKT/train code/Flick/makeup_armani\\\\makeuparmani0000552.jpg', 'G:/MKT/train code/Flick/makeup_armani\\\\makeuparmani0000553.jpg', 'G:/MKT/train code/Flick/makeup_armani\\\\makeuparmani0000554.jpg', 'G:/MKT/train code/Flick/makeup_armani\\\\makeuparmani0000555.jpg', 'G:/MKT/train code/Flick/makeup_armani\\\\makeuparmani0000556.jpg', 'G:/MKT/train code/Flick/makeup_armani\\\\makeuparmani0000557.jpg', 'G:/MKT/train code/Flick/makeup_armani\\\\makeuparmani0000558.jpg', 'G:/MKT/train code/Flick/makeup_armani\\\\makeuparmani0000559.jpg', 'G:/MKT/train code/Flick/makeup_armani\\\\makeuparmani0000560.jpg', 'G:/MKT/train code/Flick/makeup_armani\\\\makeuparmani0000561.jpg', 'G:/MKT/train code/Flick/makeup_armani\\\\makeuparmani0000562.jpg', 'G:/MKT/train code/Flick/makeup_armani\\\\makeuparmani0000563.jpg', 'G:/MKT/train code/Flick/makeup_armani\\\\makeuparmani0000564.jpg', 'G:/MKT/train code/Flick/makeup_armani\\\\makeuparmani0000565.jpg', 'G:/MKT/train code/Flick/makeup_armani\\\\makeuparmani0000566.jpg', 'G:/MKT/train code/Flick/makeup_armani\\\\makeuparmani0000567.jpg', 'G:/MKT/train code/Flick/makeup_armani\\\\makeuparmani0000568.jpg', 'G:/MKT/train code/Flick/makeup_armani\\\\makeuparmani0000569.jpg', 'G:/MKT/train code/Flick/makeup_armani\\\\makeuparmani0000570.jpg', 'G:/MKT/train code/Flick/makeup_armani\\\\makeuparmani0000571.jpg', 'G:/MKT/train code/Flick/makeup_armani\\\\makeuparmani0000572.jpg', 'G:/MKT/train code/Flick/makeup_armani\\\\makeuparmani0000573.jpg', 'G:/MKT/train code/Flick/makeup_armani\\\\makeuparmani0000574.jpg', 'G:/MKT/train code/Flick/makeup_armani\\\\makeuparmani0000575.jpg', 'G:/MKT/train code/Flick/makeup_armani\\\\makeuparmani0000576.jpg', 'G:/MKT/train code/Flick/makeup_armani\\\\makeuparmani0000577.jpg', 'G:/MKT/train code/Flick/makeup_armani\\\\makeuparmani0000578.jpg', 'G:/MKT/train code/Flick/makeup_armani\\\\makeuparmani0000579.jpg', 'G:/MKT/train code/Flick/makeup_armani\\\\makeuparmani0000580.jpg', 'G:/MKT/train code/Flick/makeup_armani\\\\makeuparmani0000581.jpg', 'G:/MKT/train code/Flick/makeup_armani\\\\makeuparmani0000582.jpg', 'G:/MKT/train code/Flick/makeup_armani\\\\makeuparmani0000583.jpg', 'G:/MKT/train code/Flick/makeup_armani\\\\makeuparmani0000584.jpg', 'G:/MKT/train code/Flick/makeup_armani\\\\makeuparmani0000585.jpg', 'G:/MKT/train code/Flick/makeup_armani\\\\makeuparmani0000586.jpg', 'G:/MKT/train code/Flick/makeup_armani\\\\makeuparmani0000587.jpg', 'G:/MKT/train code/Flick/makeup_armani\\\\makeuparmani0000588.jpg', 'G:/MKT/train code/Flick/makeup_armani\\\\makeuparmani0000589.jpg', 'G:/MKT/train code/Flick/makeup_armani\\\\makeuparmani0000590.jpg', 'G:/MKT/train code/Flick/makeup_armani\\\\makeuparmani0000591.jpg', 'G:/MKT/train code/Flick/makeup_armani\\\\makeuparmani0000592.jpg', 'G:/MKT/train code/Flick/makeup_armani\\\\makeuparmani0000593.jpg', 'G:/MKT/train code/Flick/makeup_armani\\\\makeuparmani0000594.jpg', 'G:/MKT/train code/Flick/makeup_armani\\\\makeuparmani0000595.jpg', 'G:/MKT/train code/Flick/makeup_armani\\\\makeuparmani0000596.jpg', 'G:/MKT/train code/Flick/makeup_armani\\\\makeuparmani0000597.jpg', 'G:/MKT/train code/Flick/makeup_armani\\\\makeuparmani0000598.jpg', 'G:/MKT/train code/Flick/makeup_armani\\\\makeuparmani0000599.jpg', 'G:/MKT/train code/Flick/makeup_armani\\\\makeuparmani0000600.jpg', 'G:/MKT/train code/Flick/makeup_armani\\\\makeuparmani0000601.jpg', 'G:/MKT/train code/Flick/makeup_armani\\\\makeuparmani0000602.jpg', 'G:/MKT/train code/Flick/makeup_armani\\\\makeuparmani0000603.jpg', 'G:/MKT/train code/Flick/makeup_armani\\\\makeuparmani0000604.jpg', 'G:/MKT/train code/Flick/makeup_armani\\\\makeuparmani0000605.jpg', 'G:/MKT/train code/Flick/makeup_armani\\\\makeuparmani0000606.jpg', 'G:/MKT/train code/Flick/makeup_armani\\\\makeuparmani0000607.jpg', 'G:/MKT/train code/Flick/makeup_armani\\\\makeuparmani0000608.jpg', 'G:/MKT/train code/Flick/makeup_armani\\\\makeuparmani0000609.jpg', 'G:/MKT/train code/Flick/makeup_armani\\\\makeuparmani0000610.jpg', 'G:/MKT/train code/Flick/makeup_armani\\\\makeuparmani0000611.jpg', 'G:/MKT/train code/Flick/makeup_armani\\\\makeuparmani0000612.jpg', 'G:/MKT/train code/Flick/makeup_armani\\\\makeuparmani0000613.jpg', 'G:/MKT/train code/Flick/makeup_armani\\\\makeuparmani0000614.jpg', 'G:/MKT/train code/Flick/makeup_armani\\\\makeuparmani0000615.jpg', 'G:/MKT/train code/Flick/makeup_armani\\\\makeuparmani0000617.jpg', 'G:/MKT/train code/Flick/makeup_armani\\\\makeuparmani0000618.jpg', 'G:/MKT/train code/Flick/makeup_armani\\\\makeuparmani0000619.jpg', 'G:/MKT/train code/Flick/makeup_armani\\\\makeuparmani0000620.jpg', 'G:/MKT/train code/Flick/makeup_armani\\\\makeuparmani0000621.jpg', 'G:/MKT/train code/Flick/makeup_armani\\\\makeuparmani0000622.jpg', 'G:/MKT/train code/Flick/makeup_armani\\\\makeuparmani0000623.jpg', 'G:/MKT/train code/Flick/makeup_armani\\\\makeuparmani0000624.jpg', 'G:/MKT/train code/Flick/makeup_armani\\\\makeuparmani0000625.jpg', 'G:/MKT/train code/Flick/makeup_armani\\\\makeuparmani0000626.jpg', 'G:/MKT/train code/Flick/makeup_armani\\\\makeuparmani0000627.jpg']\n"
     ]
    }
   ],
   "source": [
    "import os\n",
    "\n",
    "def traverse_dir_files(root_dir, ext=None):\n",
    "#\"\"\"\n",
    "#列出文件夹中的文件, 深度遍历\n",
    "#:param root_dir: 根目录\n",
    "#:param ext: 后缀名\n",
    "#:param is_sorted: 是否排序，耗时较长\n",
    "#:return: [文件路径列表, 文件名称列表]\n",
    "#\"\"\"\n",
    "    paths_list = []\n",
    "    full_list = []\n",
    "    for parent, _, fileNames in os.walk(root_dir):\n",
    "        for name in fileNames:\n",
    "            if name.startswith('.') :  # 去除隐藏文件\n",
    "                continue\n",
    "            if ext:  # 根据后缀名搜索\n",
    "                if name.endswith(tuple(ext)):\n",
    "                    paths_list.append(parent)\n",
    "                    full_list.append(os.path.join(parent, name))\n",
    "            else:\n",
    "                paths_list.append(parent)\n",
    "                full_list.append(os.path.join(parent, name))\n",
    "    return paths_list,full_list\n",
    "\n",
    "p_list,f10_list = traverse_dir_files('G:/MKT/train code/Flick/makeup_armani','.jpg')\n",
    "\n",
    "print(f10_list)"
   ]
  },
  {
   "cell_type": "code",
   "execution_count": 138,
   "id": "c5ef425c",
   "metadata": {},
   "outputs": [
    {
     "name": "stdout",
     "output_type": "stream",
     "text": [
      "[33.75581231041447, 18.548122204788353, 72.60729324372801, 67.00562721512001, 80.74610282404589, 37.65687352042334, 28.579399654040934, 35.1388082946818, 28.550452409434584, 29.14919438493606, 29.199897091838203, 96.72744691979113, 35.579008051277874, 16.195193123083087, 15.70115971742865, 15.32998611696452, 18.40480708390591, 28.13146382381191, 28.70472163312469, 13.971472032640387, 0.012265127603856932, 49.42179464560125, 0.13365527622535345, 0.11987984264414533, 0.0, 41.808706034569084, 33.396592248934276, 36.16353711976413, 40.68475712593696, 18.41251909599385, 86.01661092840105, 20.221367290799137, 43.81125710966859, 54.394416371738316, 60.36328255499937, 24.206672886763407, 22.543246958410748, 12.036339222512908, 38.24004716713988, 47.08365723480125, 51.28837556092414, 51.43523142778534, 39.62480669970306, 30.79948421222705, 63.68653559880542, 30.967630567114384, 23.10506779763745, 56.78967466530714, 8.926792983202581, 5.917150668496902, 9.0772389216917, 9.84366982460188, 91.41487526630875, 69.18958845857784, 64.4819313875417, 42.60746824753969, 34.9987128651256, 28.163770272052794, 30.932582952230845, 41.4206483322698, 39.130145525713615, 64.66145557294008, 60.77615459583053, 57.21918753865497, 57.06992039498555, 44.0553960951357, 75.95539352515664, 64.55859337825538, 55.72168417021378, 49.49518296158692, 61.56266981825431, 23.909705726883466, 32.89401146153911, 43.497020702070145, 34.55247036002294, 15.581848614383556, 16.26345009011353, 7.704304775352135, 8.920835815644862, 7.100716323555663, 16.757041531564017, 18.880593067636497, 15.154639743005689, 13.199028599337517, 23.038229169674132, 19.6626654289882, 17.790850008405343, 19.14566499298055, 9.56980476277832, 17.485383961803795, 61.23053142156323, 24.88662361417483, 85.25363839769688, 93.42227999292601, 77.0796673358677, 41.49441496976921, 38.50621855603859, 39.92931128548082, 15.491267424508575, 37.456140590558455, 45.27464671937858, 53.131781199696654]\n"
     ]
    }
   ],
   "source": [
    "import cv2\n",
    "import numpy as np\n",
    "\n",
    "def image_colorfulness(image):\n",
    "    #将图片分为B,G,R三部分（注意，这里得到的R、G、B为向量而不是标量）\n",
    "    (B, G, R) = cv2.split(image.astype(\"float\"))\n",
    " \n",
    "    #rg = R - G\n",
    "    rg = np.absolute(R - G)\n",
    " \n",
    "    #yb = 0.5 * (R + G) - B\n",
    "    yb = np.absolute(0.5 * (R + G) - B)\n",
    " \n",
    "    #计算rg和yb的平均值和标准差\n",
    "    (rbMean, rbStd) = (np.mean(rg), np.std(rg))\n",
    "    (ybMean, ybStd) = (np.mean(yb), np.std(yb))\n",
    " \n",
    "    #计算rgyb的标准差和平均值\n",
    "    stdRoot = np.sqrt((rbStd ** 2) + (ybStd ** 2))\n",
    "    meanRoot = np.sqrt((rbMean ** 2) + (ybMean ** 2))\n",
    " \n",
    "    # 返回颜色丰富度C\n",
    "    return stdRoot + (0.3 * meanRoot)\n",
    "color10 = []\n",
    "for i in range(len(f10_list)):\n",
    "    image = cv2.imread(f10_list[i])  \n",
    "    color10.append(image_colorfulness(image))\n",
    "print(color10)"
   ]
  },
  {
   "cell_type": "code",
   "execution_count": 139,
   "id": "e1e392cd",
   "metadata": {},
   "outputs": [],
   "source": [
    "import pandas as pd\n",
    "df_1 = pd.read_csv(\"G:/MKT/train code/+quality+keywords/armani makeup.csv\")\n",
    "\n",
    "df_1.insert(loc=len(df_1.columns), column='colorful', value=color10)\n",
    "\n",
    "df_1.to_csv(\"G:/MKT/train code/armani makeup.csv\",encoding = 'utf-8')"
   ]
  },
  {
   "cell_type": "code",
   "execution_count": 140,
   "id": "c22f3ec5",
   "metadata": {},
   "outputs": [
    {
     "name": "stdout",
     "output_type": "stream",
     "text": [
      "[1, 0, 0, 0, 0, 1, 1, 1, 0, 1, 1, 1, 0, 0, 0, 0, 0, 0, 0, 1, 1, 0, 1, 1, 0, 0, 1, 0, 1, 1, 0, 1, 1, 0, 1, 0, 0, 0, 1, 1, 1, 1, 1, 1, 0, 1, 1, 1, 0, 0, 0, 0, 1, 1, 1, 1, 1, 0, 1, 1, 1, 1, 1, 1, 0, 1, 1, 0, 0, 1, 1, 0, 1, 1, 0, 1, 0, 0, 0, 1, 0, 1, 1, 0, 0, 1, 1, 1, 1, 1, 1, 1, 1, 1, 1, 1, 1, 0, 0, 1, 1, 1]\n"
     ]
    }
   ],
   "source": [
    "import cv2\n",
    "import matplotlib.pyplot as plt # 用于绘制图像\n",
    "face_cascade = cv2.CascadeClassifier(r'C:/Users/wsy/Documents/WeChat Files/wxid_0kkdf1pnvtqf22/FileStorage/File/2022-11/haarcascade_frontalface_default.xml')\n",
    "# 读取输入图像\n",
    "l = []\n",
    "for i in range(len(f10_list)):\n",
    "    img = cv2.imread(f10_list[i])\n",
    "    # 检测人脸\n",
    "    faces = face_cascade.detectMultiScale(image = img, scaleFactor = 1.1, minNeighbors = 5)\n",
    "        # 显示图像中检测到的人脸数量\n",
    "    if(len(faces) < 1):\n",
    "        l.append(0)\n",
    "    else:\n",
    "        l.append(1)\n",
    "print(l)"
   ]
  },
  {
   "cell_type": "code",
   "execution_count": 141,
   "id": "98b26bf5",
   "metadata": {},
   "outputs": [],
   "source": [
    "import pandas as pd\n",
    "df_1 = pd.read_csv(\"G:/MKT/train code/armani makeup.csv\")\n",
    "\n",
    "df_1.insert(loc=len(df_1.columns), column='face', value=l)\n",
    "\n",
    "df_1.to_csv(\"G:/MKT/train code/latest training data/armani makeup.csv\",encoding = 'utf-8')"
   ]
  },
  {
   "cell_type": "markdown",
   "id": "9e45740b",
   "metadata": {},
   "source": [
    "# makeup_estee lauder"
   ]
  },
  {
   "cell_type": "code",
   "execution_count": 155,
   "id": "e5e9ca0b",
   "metadata": {},
   "outputs": [
    {
     "name": "stdout",
     "output_type": "stream",
     "text": [
      "['G:/MKT/train code/Flick/makeup_estee lauder\\\\makeupestee lauder0000000.jpg', 'G:/MKT/train code/Flick/makeup_estee lauder\\\\makeupestee lauder0000001.jpg', 'G:/MKT/train code/Flick/makeup_estee lauder\\\\makeupestee lauder0000002.jpg', 'G:/MKT/train code/Flick/makeup_estee lauder\\\\makeupestee lauder0000003.jpg', 'G:/MKT/train code/Flick/makeup_estee lauder\\\\makeupestee lauder0000004.jpg', 'G:/MKT/train code/Flick/makeup_estee lauder\\\\makeupestee lauder0000005.jpg', 'G:/MKT/train code/Flick/makeup_estee lauder\\\\makeupestee lauder0000006.jpg', 'G:/MKT/train code/Flick/makeup_estee lauder\\\\makeupestee lauder0000007.jpg', 'G:/MKT/train code/Flick/makeup_estee lauder\\\\makeupestee lauder0000008.jpg', 'G:/MKT/train code/Flick/makeup_estee lauder\\\\makeupestee lauder0000009.jpg', 'G:/MKT/train code/Flick/makeup_estee lauder\\\\makeupestee lauder0000010.jpg', 'G:/MKT/train code/Flick/makeup_estee lauder\\\\makeupestee lauder0000011.jpg', 'G:/MKT/train code/Flick/makeup_estee lauder\\\\makeupestee lauder0000012.jpg', 'G:/MKT/train code/Flick/makeup_estee lauder\\\\makeupestee lauder0000013.jpg', 'G:/MKT/train code/Flick/makeup_estee lauder\\\\makeupestee lauder0000014.jpg', 'G:/MKT/train code/Flick/makeup_estee lauder\\\\makeupestee lauder0000015.jpg', 'G:/MKT/train code/Flick/makeup_estee lauder\\\\makeupestee lauder0000016.jpg', 'G:/MKT/train code/Flick/makeup_estee lauder\\\\makeupestee lauder0000017.jpg', 'G:/MKT/train code/Flick/makeup_estee lauder\\\\makeupestee lauder0000018.jpg', 'G:/MKT/train code/Flick/makeup_estee lauder\\\\makeupestee lauder0000019.jpg', 'G:/MKT/train code/Flick/makeup_estee lauder\\\\makeupestee lauder0000020.jpg', 'G:/MKT/train code/Flick/makeup_estee lauder\\\\makeupestee lauder0000021.jpg', 'G:/MKT/train code/Flick/makeup_estee lauder\\\\makeupestee lauder0000022.jpg', 'G:/MKT/train code/Flick/makeup_estee lauder\\\\makeupestee lauder0000023.jpg', 'G:/MKT/train code/Flick/makeup_estee lauder\\\\makeupestee lauder0000024.jpg', 'G:/MKT/train code/Flick/makeup_estee lauder\\\\makeupestee lauder0000035.jpg', 'G:/MKT/train code/Flick/makeup_estee lauder\\\\makeupestee lauder0000036.jpg', 'G:/MKT/train code/Flick/makeup_estee lauder\\\\makeupestee lauder0000037.jpg', 'G:/MKT/train code/Flick/makeup_estee lauder\\\\makeupestee lauder0000038.jpg', 'G:/MKT/train code/Flick/makeup_estee lauder\\\\makeupestee lauder0000039.jpg', 'G:/MKT/train code/Flick/makeup_estee lauder\\\\makeupestee lauder0000040.jpg', 'G:/MKT/train code/Flick/makeup_estee lauder\\\\makeupestee lauder0000041.jpg', 'G:/MKT/train code/Flick/makeup_estee lauder\\\\makeupestee lauder0000042.jpg', 'G:/MKT/train code/Flick/makeup_estee lauder\\\\makeupestee lauder0000043.jpg', 'G:/MKT/train code/Flick/makeup_estee lauder\\\\makeupestee lauder0000044.jpg', 'G:/MKT/train code/Flick/makeup_estee lauder\\\\makeupestee lauder0000045.jpg', 'G:/MKT/train code/Flick/makeup_estee lauder\\\\makeupestee lauder0000046.jpg', 'G:/MKT/train code/Flick/makeup_estee lauder\\\\makeupestee lauder0000047.jpg', 'G:/MKT/train code/Flick/makeup_estee lauder\\\\makeupestee lauder0000048.jpg', 'G:/MKT/train code/Flick/makeup_estee lauder\\\\makeupestee lauder0000049.jpg', 'G:/MKT/train code/Flick/makeup_estee lauder\\\\makeupestee lauder0000050.jpg', 'G:/MKT/train code/Flick/makeup_estee lauder\\\\makeupestee lauder0000051.jpg', 'G:/MKT/train code/Flick/makeup_estee lauder\\\\makeupestee lauder0000052.jpg', 'G:/MKT/train code/Flick/makeup_estee lauder\\\\makeupestee lauder0000053.jpg', 'G:/MKT/train code/Flick/makeup_estee lauder\\\\makeupestee lauder0000054.jpg', 'G:/MKT/train code/Flick/makeup_estee lauder\\\\makeupestee lauder0000055.jpg', 'G:/MKT/train code/Flick/makeup_estee lauder\\\\makeupestee lauder0000056.jpg', 'G:/MKT/train code/Flick/makeup_estee lauder\\\\makeupestee lauder0000057.jpg', 'G:/MKT/train code/Flick/makeup_estee lauder\\\\makeupestee lauder0000058.jpg', 'G:/MKT/train code/Flick/makeup_estee lauder\\\\makeupestee lauder0000059.jpg', 'G:/MKT/train code/Flick/makeup_estee lauder\\\\makeupestee lauder0000060.jpg', 'G:/MKT/train code/Flick/makeup_estee lauder\\\\makeupestee lauder0000067.jpg', 'G:/MKT/train code/Flick/makeup_estee lauder\\\\makeupestee lauder0000068.jpg', 'G:/MKT/train code/Flick/makeup_estee lauder\\\\makeupestee lauder0000069.jpg', 'G:/MKT/train code/Flick/makeup_estee lauder\\\\makeupestee lauder0000070.jpg', 'G:/MKT/train code/Flick/makeup_estee lauder\\\\makeupestee lauder0000071.jpg', 'G:/MKT/train code/Flick/makeup_estee lauder\\\\makeupestee lauder0000072.jpg', 'G:/MKT/train code/Flick/makeup_estee lauder\\\\makeupestee lauder0000073.jpg', 'G:/MKT/train code/Flick/makeup_estee lauder\\\\makeupestee lauder0000074.jpg', 'G:/MKT/train code/Flick/makeup_estee lauder\\\\makeupestee lauder0000075.jpg', 'G:/MKT/train code/Flick/makeup_estee lauder\\\\makeupestee lauder0000076.jpg', 'G:/MKT/train code/Flick/makeup_estee lauder\\\\makeupestee lauder0000077.jpg', 'G:/MKT/train code/Flick/makeup_estee lauder\\\\makeupestee lauder0000078.jpg', 'G:/MKT/train code/Flick/makeup_estee lauder\\\\makeupestee lauder0000079.jpg', 'G:/MKT/train code/Flick/makeup_estee lauder\\\\makeupestee lauder0000080.jpg', 'G:/MKT/train code/Flick/makeup_estee lauder\\\\makeupestee lauder0000081.jpg', 'G:/MKT/train code/Flick/makeup_estee lauder\\\\makeupestee lauder0000082.jpg', 'G:/MKT/train code/Flick/makeup_estee lauder\\\\makeupestee lauder0000083.jpg', 'G:/MKT/train code/Flick/makeup_estee lauder\\\\makeupestee lauder0000084.jpg', 'G:/MKT/train code/Flick/makeup_estee lauder\\\\makeupestee lauder0000153.jpg', 'G:/MKT/train code/Flick/makeup_estee lauder\\\\makeupestee lauder0000154.jpg', 'G:/MKT/train code/Flick/makeup_estee lauder\\\\makeupestee lauder0000155.jpg', 'G:/MKT/train code/Flick/makeup_estee lauder\\\\makeupestee lauder0000156.jpg', 'G:/MKT/train code/Flick/makeup_estee lauder\\\\makeupestee lauder0000157.jpg', 'G:/MKT/train code/Flick/makeup_estee lauder\\\\makeupestee lauder0000158.jpg', 'G:/MKT/train code/Flick/makeup_estee lauder\\\\makeupestee lauder0000159.jpg', 'G:/MKT/train code/Flick/makeup_estee lauder\\\\makeupestee lauder0000160.jpg', 'G:/MKT/train code/Flick/makeup_estee lauder\\\\makeupestee lauder0000161.jpg', 'G:/MKT/train code/Flick/makeup_estee lauder\\\\makeupestee lauder0000162.jpg', 'G:/MKT/train code/Flick/makeup_estee lauder\\\\makeupestee lauder0000163.jpg', 'G:/MKT/train code/Flick/makeup_estee lauder\\\\makeupestee lauder0000164.jpg', 'G:/MKT/train code/Flick/makeup_estee lauder\\\\makeupestee lauder0000165.jpg', 'G:/MKT/train code/Flick/makeup_estee lauder\\\\makeupestee lauder0000166.jpg', 'G:/MKT/train code/Flick/makeup_estee lauder\\\\makeupestee lauder0000167.jpg', 'G:/MKT/train code/Flick/makeup_estee lauder\\\\makeupestee lauder0000168.jpg', 'G:/MKT/train code/Flick/makeup_estee lauder\\\\makeupestee lauder0000169.jpg', 'G:/MKT/train code/Flick/makeup_estee lauder\\\\makeupestee lauder0000170.jpg', 'G:/MKT/train code/Flick/makeup_estee lauder\\\\makeupestee lauder0000171.jpg', 'G:/MKT/train code/Flick/makeup_estee lauder\\\\makeupestee lauder0000172.jpg', 'G:/MKT/train code/Flick/makeup_estee lauder\\\\makeupestee lauder0000173.jpg', 'G:/MKT/train code/Flick/makeup_estee lauder\\\\makeupestee lauder0000174.jpg', 'G:/MKT/train code/Flick/makeup_estee lauder\\\\makeupestee lauder0000175.jpg', 'G:/MKT/train code/Flick/makeup_estee lauder\\\\makeupestee lauder0000176.jpg', 'G:/MKT/train code/Flick/makeup_estee lauder\\\\makeupestee lauder0000177.jpg', 'G:/MKT/train code/Flick/makeup_estee lauder\\\\makeupestee lauder0000178.jpg', 'G:/MKT/train code/Flick/makeup_estee lauder\\\\makeupestee lauder0000179.jpg', 'G:/MKT/train code/Flick/makeup_estee lauder\\\\makeupestee lauder0000180.jpg', 'G:/MKT/train code/Flick/makeup_estee lauder\\\\makeupestee lauder0000181.jpg', 'G:/MKT/train code/Flick/makeup_estee lauder\\\\makeupestee lauder0000182.jpg', 'G:/MKT/train code/Flick/makeup_estee lauder\\\\makeupestee lauder0000183.jpg', 'G:/MKT/train code/Flick/makeup_estee lauder\\\\makeupestee lauder0000184.jpg', 'G:/MKT/train code/Flick/makeup_estee lauder\\\\makeupestee lauder0000185.jpg', 'G:/MKT/train code/Flick/makeup_estee lauder\\\\makeupestee lauder0000186.jpg', 'G:/MKT/train code/Flick/makeup_estee lauder\\\\makeupestee lauder0000187.jpg', 'G:/MKT/train code/Flick/makeup_estee lauder\\\\makeupestee lauder0000188.jpg', 'G:/MKT/train code/Flick/makeup_estee lauder\\\\makeupestee lauder0000189.jpg', 'G:/MKT/train code/Flick/makeup_estee lauder\\\\makeupestee lauder0000190.jpg', 'G:/MKT/train code/Flick/makeup_estee lauder\\\\makeupestee lauder0000191.jpg', 'G:/MKT/train code/Flick/makeup_estee lauder\\\\makeupestee lauder0000192.jpg', 'G:/MKT/train code/Flick/makeup_estee lauder\\\\makeupestee lauder0000193.jpg', 'G:/MKT/train code/Flick/makeup_estee lauder\\\\makeupestee lauder0000194.jpg', 'G:/MKT/train code/Flick/makeup_estee lauder\\\\makeupestee lauder0000195.jpg', 'G:/MKT/train code/Flick/makeup_estee lauder\\\\makeupestee lauder0000196.jpg', 'G:/MKT/train code/Flick/makeup_estee lauder\\\\makeupestee lauder0000197.jpg', 'G:/MKT/train code/Flick/makeup_estee lauder\\\\makeupestee lauder0000198.jpg', 'G:/MKT/train code/Flick/makeup_estee lauder\\\\makeupestee lauder0000199.jpg', 'G:/MKT/train code/Flick/makeup_estee lauder\\\\makeupestee lauder0000200.jpg', 'G:/MKT/train code/Flick/makeup_estee lauder\\\\makeupestee lauder0000201.jpg', 'G:/MKT/train code/Flick/makeup_estee lauder\\\\makeupestee lauder0000202.jpg', 'G:/MKT/train code/Flick/makeup_estee lauder\\\\makeupestee lauder0000203.jpg', 'G:/MKT/train code/Flick/makeup_estee lauder\\\\makeupestee lauder0000204.jpg', 'G:/MKT/train code/Flick/makeup_estee lauder\\\\makeupestee lauder0000205.jpg', 'G:/MKT/train code/Flick/makeup_estee lauder\\\\makeupestee lauder0000206.jpg', 'G:/MKT/train code/Flick/makeup_estee lauder\\\\makeupestee lauder0000207.jpg', 'G:/MKT/train code/Flick/makeup_estee lauder\\\\makeupestee lauder0000208.jpg', 'G:/MKT/train code/Flick/makeup_estee lauder\\\\makeupestee lauder0000209.jpg', 'G:/MKT/train code/Flick/makeup_estee lauder\\\\makeupestee lauder0000210.jpg', 'G:/MKT/train code/Flick/makeup_estee lauder\\\\makeupestee lauder0000211.jpg', 'G:/MKT/train code/Flick/makeup_estee lauder\\\\makeupestee lauder0000212.jpg', 'G:/MKT/train code/Flick/makeup_estee lauder\\\\makeupestee lauder0000213.jpg', 'G:/MKT/train code/Flick/makeup_estee lauder\\\\makeupestee lauder0000214.jpg', 'G:/MKT/train code/Flick/makeup_estee lauder\\\\makeupestee lauder0000215.jpg', 'G:/MKT/train code/Flick/makeup_estee lauder\\\\makeupestee lauder0000216.jpg', 'G:/MKT/train code/Flick/makeup_estee lauder\\\\makeupestee lauder0000217.jpg', 'G:/MKT/train code/Flick/makeup_estee lauder\\\\makeupestee lauder0000218.jpg', 'G:/MKT/train code/Flick/makeup_estee lauder\\\\makeupestee lauder0000219.jpg', 'G:/MKT/train code/Flick/makeup_estee lauder\\\\makeupestee lauder0000220.jpg', 'G:/MKT/train code/Flick/makeup_estee lauder\\\\makeupestee lauder0000221.jpg', 'G:/MKT/train code/Flick/makeup_estee lauder\\\\makeupestee lauder0000222.jpg', 'G:/MKT/train code/Flick/makeup_estee lauder\\\\makeupestee lauder0000223.jpg', 'G:/MKT/train code/Flick/makeup_estee lauder\\\\makeupestee lauder0000224.jpg', 'G:/MKT/train code/Flick/makeup_estee lauder\\\\makeupestee lauder0000225.jpg', 'G:/MKT/train code/Flick/makeup_estee lauder\\\\makeupestee lauder0000226.jpg', 'G:/MKT/train code/Flick/makeup_estee lauder\\\\makeupestee lauder0000227.jpg', 'G:/MKT/train code/Flick/makeup_estee lauder\\\\makeupestee lauder0000228.jpg', 'G:/MKT/train code/Flick/makeup_estee lauder\\\\makeupestee lauder0000229.jpg', 'G:/MKT/train code/Flick/makeup_estee lauder\\\\makeupestee lauder0000230.jpg', 'G:/MKT/train code/Flick/makeup_estee lauder\\\\makeupestee lauder0000231.jpg', 'G:/MKT/train code/Flick/makeup_estee lauder\\\\makeupestee lauder0000232.jpg', 'G:/MKT/train code/Flick/makeup_estee lauder\\\\makeupestee lauder0000233.jpg', 'G:/MKT/train code/Flick/makeup_estee lauder\\\\makeupestee lauder0000234.jpg', 'G:/MKT/train code/Flick/makeup_estee lauder\\\\makeupestee lauder0000235.jpg', 'G:/MKT/train code/Flick/makeup_estee lauder\\\\makeupestee lauder0000236.jpg', 'G:/MKT/train code/Flick/makeup_estee lauder\\\\makeupestee lauder0000237.jpg', 'G:/MKT/train code/Flick/makeup_estee lauder\\\\makeupestee lauder0000238.jpg', 'G:/MKT/train code/Flick/makeup_estee lauder\\\\makeupestee lauder0000239.jpg', 'G:/MKT/train code/Flick/makeup_estee lauder\\\\makeupestee lauder0000240.jpg', 'G:/MKT/train code/Flick/makeup_estee lauder\\\\makeupestee lauder0000241.jpg', 'G:/MKT/train code/Flick/makeup_estee lauder\\\\makeupestee lauder0000242.jpg', 'G:/MKT/train code/Flick/makeup_estee lauder\\\\makeupestee lauder0000243.jpg', 'G:/MKT/train code/Flick/makeup_estee lauder\\\\makeupestee lauder0000244.jpg', 'G:/MKT/train code/Flick/makeup_estee lauder\\\\makeupestee lauder0000245.jpg', 'G:/MKT/train code/Flick/makeup_estee lauder\\\\makeupestee lauder0000246.jpg', 'G:/MKT/train code/Flick/makeup_estee lauder\\\\makeupestee lauder0000247.jpg', 'G:/MKT/train code/Flick/makeup_estee lauder\\\\makeupestee lauder0000248.jpg', 'G:/MKT/train code/Flick/makeup_estee lauder\\\\makeupestee lauder0000249.jpg', 'G:/MKT/train code/Flick/makeup_estee lauder\\\\makeupestee lauder0000250.jpg', 'G:/MKT/train code/Flick/makeup_estee lauder\\\\makeupestee lauder0000251.jpg', 'G:/MKT/train code/Flick/makeup_estee lauder\\\\makeupestee lauder0000252.jpg', 'G:/MKT/train code/Flick/makeup_estee lauder\\\\makeupestee lauder0000253.jpg', 'G:/MKT/train code/Flick/makeup_estee lauder\\\\makeupestee lauder0000254.jpg', 'G:/MKT/train code/Flick/makeup_estee lauder\\\\makeupestee lauder0000255.jpg', 'G:/MKT/train code/Flick/makeup_estee lauder\\\\makeupestee lauder0000256.jpg', 'G:/MKT/train code/Flick/makeup_estee lauder\\\\makeupestee lauder0000257.jpg', 'G:/MKT/train code/Flick/makeup_estee lauder\\\\makeupestee lauder0000258.jpg', 'G:/MKT/train code/Flick/makeup_estee lauder\\\\makeupestee lauder0000259.jpg', 'G:/MKT/train code/Flick/makeup_estee lauder\\\\makeupestee lauder0000260.jpg', 'G:/MKT/train code/Flick/makeup_estee lauder\\\\makeupestee lauder0000261.jpg', 'G:/MKT/train code/Flick/makeup_estee lauder\\\\makeupestee lauder0000262.jpg', 'G:/MKT/train code/Flick/makeup_estee lauder\\\\makeupestee lauder0000263.jpg', 'G:/MKT/train code/Flick/makeup_estee lauder\\\\makeupestee lauder0000264.jpg', 'G:/MKT/train code/Flick/makeup_estee lauder\\\\makeupestee lauder0000265.jpg', 'G:/MKT/train code/Flick/makeup_estee lauder\\\\makeupestee lauder0000266.jpg', 'G:/MKT/train code/Flick/makeup_estee lauder\\\\makeupestee lauder0000267.jpg', 'G:/MKT/train code/Flick/makeup_estee lauder\\\\makeupestee lauder0000268.jpg', 'G:/MKT/train code/Flick/makeup_estee lauder\\\\makeupestee lauder0000269.jpg', 'G:/MKT/train code/Flick/makeup_estee lauder\\\\makeupestee lauder0000270.jpg', 'G:/MKT/train code/Flick/makeup_estee lauder\\\\makeupestee lauder0000271.jpg', 'G:/MKT/train code/Flick/makeup_estee lauder\\\\makeupestee lauder0000272.jpg', 'G:/MKT/train code/Flick/makeup_estee lauder\\\\makeupestee lauder0000273.jpg', 'G:/MKT/train code/Flick/makeup_estee lauder\\\\makeupestee lauder0000274.jpg', 'G:/MKT/train code/Flick/makeup_estee lauder\\\\makeupestee lauder0000275.jpg', 'G:/MKT/train code/Flick/makeup_estee lauder\\\\makeupestee lauder0000276.jpg', 'G:/MKT/train code/Flick/makeup_estee lauder\\\\makeupestee lauder0000277.jpg', 'G:/MKT/train code/Flick/makeup_estee lauder\\\\makeupestee lauder0000278.jpg', 'G:/MKT/train code/Flick/makeup_estee lauder\\\\makeupestee lauder0000279.jpg', 'G:/MKT/train code/Flick/makeup_estee lauder\\\\makeupestee lauder0000280.jpg', 'G:/MKT/train code/Flick/makeup_estee lauder\\\\makeupestee lauder0000281.jpg', 'G:/MKT/train code/Flick/makeup_estee lauder\\\\makeupestee lauder0000282.jpg', 'G:/MKT/train code/Flick/makeup_estee lauder\\\\makeupestee lauder0000283.jpg', 'G:/MKT/train code/Flick/makeup_estee lauder\\\\makeupestee lauder0000284.jpg', 'G:/MKT/train code/Flick/makeup_estee lauder\\\\makeupestee lauder0000285.jpg', 'G:/MKT/train code/Flick/makeup_estee lauder\\\\makeupestee lauder0000286.jpg', 'G:/MKT/train code/Flick/makeup_estee lauder\\\\makeupestee lauder0000287.jpg', 'G:/MKT/train code/Flick/makeup_estee lauder\\\\makeupestee lauder0000288.jpg', 'G:/MKT/train code/Flick/makeup_estee lauder\\\\makeupestee lauder0000289.jpg', 'G:/MKT/train code/Flick/makeup_estee lauder\\\\makeupestee lauder0000290.jpg', 'G:/MKT/train code/Flick/makeup_estee lauder\\\\makeupestee lauder0000291.jpg', 'G:/MKT/train code/Flick/makeup_estee lauder\\\\makeupestee lauder0000292.jpg', 'G:/MKT/train code/Flick/makeup_estee lauder\\\\makeupestee lauder0000293.jpg', 'G:/MKT/train code/Flick/makeup_estee lauder\\\\makeupestee lauder0000294.jpg', 'G:/MKT/train code/Flick/makeup_estee lauder\\\\makeupestee lauder0000295.jpg', 'G:/MKT/train code/Flick/makeup_estee lauder\\\\makeupestee lauder0000296.jpg', 'G:/MKT/train code/Flick/makeup_estee lauder\\\\makeupestee lauder0000297.jpg', 'G:/MKT/train code/Flick/makeup_estee lauder\\\\makeupestee lauder0000298.jpg', 'G:/MKT/train code/Flick/makeup_estee lauder\\\\makeupestee lauder0000299.jpg', 'G:/MKT/train code/Flick/makeup_estee lauder\\\\makeupestee lauder0000300.jpg', 'G:/MKT/train code/Flick/makeup_estee lauder\\\\makeupestee lauder0000301.jpg', 'G:/MKT/train code/Flick/makeup_estee lauder\\\\makeupestee lauder0000302.jpg', 'G:/MKT/train code/Flick/makeup_estee lauder\\\\makeupestee lauder0000303.jpg', 'G:/MKT/train code/Flick/makeup_estee lauder\\\\makeupestee lauder0000305.jpg', 'G:/MKT/train code/Flick/makeup_estee lauder\\\\makeupestee lauder0000306.jpg', 'G:/MKT/train code/Flick/makeup_estee lauder\\\\makeupestee lauder0000307.jpg', 'G:/MKT/train code/Flick/makeup_estee lauder\\\\makeupestee lauder0000308.jpg', 'G:/MKT/train code/Flick/makeup_estee lauder\\\\makeupestee lauder0000309.jpg', 'G:/MKT/train code/Flick/makeup_estee lauder\\\\makeupestee lauder0000310.jpg', 'G:/MKT/train code/Flick/makeup_estee lauder\\\\makeupestee lauder0000311.jpg', 'G:/MKT/train code/Flick/makeup_estee lauder\\\\makeupestee lauder0000312.jpg', 'G:/MKT/train code/Flick/makeup_estee lauder\\\\makeupestee lauder0000313.jpg', 'G:/MKT/train code/Flick/makeup_estee lauder\\\\makeupestee lauder0000314.jpg', 'G:/MKT/train code/Flick/makeup_estee lauder\\\\makeupestee lauder0000315.jpg', 'G:/MKT/train code/Flick/makeup_estee lauder\\\\makeupestee lauder0000316.jpg', 'G:/MKT/train code/Flick/makeup_estee lauder\\\\makeupestee lauder0000317.jpg', 'G:/MKT/train code/Flick/makeup_estee lauder\\\\makeupestee lauder0000318.jpg', 'G:/MKT/train code/Flick/makeup_estee lauder\\\\makeupestee lauder0000319.jpg', 'G:/MKT/train code/Flick/makeup_estee lauder\\\\makeupestee lauder0000320.jpg', 'G:/MKT/train code/Flick/makeup_estee lauder\\\\makeupestee lauder0000321.jpg', 'G:/MKT/train code/Flick/makeup_estee lauder\\\\makeupestee lauder0000322.jpg', 'G:/MKT/train code/Flick/makeup_estee lauder\\\\makeupestee lauder0000323.jpg', 'G:/MKT/train code/Flick/makeup_estee lauder\\\\makeupestee lauder0000324.jpg', 'G:/MKT/train code/Flick/makeup_estee lauder\\\\makeupestee lauder0000325.jpg', 'G:/MKT/train code/Flick/makeup_estee lauder\\\\makeupestee lauder0000326.jpg', 'G:/MKT/train code/Flick/makeup_estee lauder\\\\makeupestee lauder0000327.jpg', 'G:/MKT/train code/Flick/makeup_estee lauder\\\\makeupestee lauder0000328.jpg', 'G:/MKT/train code/Flick/makeup_estee lauder\\\\makeupestee lauder0000329.jpg', 'G:/MKT/train code/Flick/makeup_estee lauder\\\\makeupestee lauder0000330.jpg', 'G:/MKT/train code/Flick/makeup_estee lauder\\\\makeupestee lauder0000331.jpg', 'G:/MKT/train code/Flick/makeup_estee lauder\\\\makeupestee lauder0000332.jpg', 'G:/MKT/train code/Flick/makeup_estee lauder\\\\makeupestee lauder0000333.jpg', 'G:/MKT/train code/Flick/makeup_estee lauder\\\\makeupestee lauder0000334.jpg', 'G:/MKT/train code/Flick/makeup_estee lauder\\\\makeupestee lauder0000335.jpg', 'G:/MKT/train code/Flick/makeup_estee lauder\\\\makeupestee lauder0000336.jpg', 'G:/MKT/train code/Flick/makeup_estee lauder\\\\makeupestee lauder0000337.jpg', 'G:/MKT/train code/Flick/makeup_estee lauder\\\\makeupestee lauder0000338.jpg', 'G:/MKT/train code/Flick/makeup_estee lauder\\\\makeupestee lauder0000339.jpg', 'G:/MKT/train code/Flick/makeup_estee lauder\\\\makeupestee lauder0000340.jpg', 'G:/MKT/train code/Flick/makeup_estee lauder\\\\makeupestee lauder0000341.jpg', 'G:/MKT/train code/Flick/makeup_estee lauder\\\\makeupestee lauder0000342.jpg', 'G:/MKT/train code/Flick/makeup_estee lauder\\\\makeupestee lauder0000343.jpg', 'G:/MKT/train code/Flick/makeup_estee lauder\\\\makeupestee lauder0000344.jpg', 'G:/MKT/train code/Flick/makeup_estee lauder\\\\makeupestee lauder0000345.jpg', 'G:/MKT/train code/Flick/makeup_estee lauder\\\\makeupestee lauder0000346.jpg', 'G:/MKT/train code/Flick/makeup_estee lauder\\\\makeupestee lauder0000347.jpg', 'G:/MKT/train code/Flick/makeup_estee lauder\\\\makeupestee lauder0000348.jpg', 'G:/MKT/train code/Flick/makeup_estee lauder\\\\makeupestee lauder0000349.jpg', 'G:/MKT/train code/Flick/makeup_estee lauder\\\\makeupestee lauder0000350.jpg']\n"
     ]
    }
   ],
   "source": [
    "import os\n",
    "\n",
    "def traverse_dir_files(root_dir, ext=None):\n",
    "#\"\"\"\n",
    "#列出文件夹中的文件, 深度遍历\n",
    "#:param root_dir: 根目录\n",
    "#:param ext: 后缀名\n",
    "#:param is_sorted: 是否排序，耗时较长\n",
    "#:return: [文件路径列表, 文件名称列表]\n",
    "#\"\"\"\n",
    "    paths_list = []\n",
    "    full_list = []\n",
    "    for parent, _, fileNames in os.walk(root_dir):\n",
    "        for name in fileNames:\n",
    "            if name.startswith('.') :  # 去除隐藏文件\n",
    "                continue\n",
    "            if ext:  # 根据后缀名搜索\n",
    "                if name.endswith(tuple(ext)):\n",
    "                    paths_list.append(parent)\n",
    "                    full_list.append(os.path.join(parent, name))\n",
    "            else:\n",
    "                paths_list.append(parent)\n",
    "                full_list.append(os.path.join(parent, name))\n",
    "    return paths_list,full_list\n",
    "\n",
    "p_list,f12_list = traverse_dir_files('G:/MKT/train code/Flick/makeup_estee lauder','.jpg')\n",
    "\n",
    "print(f12_list)"
   ]
  },
  {
   "cell_type": "code",
   "execution_count": 156,
   "id": "c75c2c51",
   "metadata": {},
   "outputs": [
    {
     "name": "stdout",
     "output_type": "stream",
     "text": [
      "[17.552524136878812, 12.975889607735647, 22.22585534888202, 0.0, 23.868329676495094, 44.01445779933167, 28.896810883107353, 11.699615539604423, 73.68630360801409, 18.411399104794057, 52.20592464712972, 58.632796310582634, 30.551434177864092, 146.23527632244134, 28.376096166781224, 45.58738346212461, 13.873616716550012, 7.478147291203087, 49.265598555519475, 54.063878127851865, 38.56713934503319, 44.68694816355438, 60.20412423664628, 32.5062488907239, 23.15280931097282, 17.312315991579997, 25.67305932136469, 26.145010130750162, 21.792751158346434, 27.811519945058603, 38.50419332421096, 63.47478179472782, 15.982682146861478, 62.11594799233281, 13.796789309576525, 27.565459425139128, 24.119470495251147, 20.911094532889745, 22.779865315010106, 20.02978838142998, 25.627553433029846, 7.691459536452644, 47.8202613045528, 45.888086111051436, 33.88903036560356, 26.526978409820867, 36.92758210927363, 23.258625548283433, 26.888238986071975, 23.69168523822052, 24.40439126865605, 23.57441030424136, 36.99126561185098, 23.976799942688757, 38.76936696183008, 53.519587587805184, 54.32858227161549, 37.62049784994273, 108.61659123823128, 103.22905550429513, 71.18441857283663, 66.37981208366979, 54.83687155188562, 52.654310908540616, 47.85824176345454, 61.25619469929015, 41.67851532226616, 45.088351529977004, 36.58464123964359, 37.91343404681966, 37.74860006324624, 50.649443490977326, 31.609517780552984, 25.35370879306724, 55.0000172048948, 48.785754097972614, 46.73585840016071, 44.69298852891612, 34.04808757879487, 92.76204785853338, 47.898607661414026, 47.91088947848216, 30.985199614009257, 15.512345302545395, 14.106770670271011, 88.39080135709841, 24.04518616982328, 44.3901616482359, 41.55184727211832, 62.450618421572365, 32.6076864183813, 95.36959333218564, 86.52731079472066, 51.70891785014369, 32.68495031092255, 37.45849402356902, 28.20550980524897, 26.08851561370137, 21.774494670255976, 34.00828905798586, 31.153258184647132, 10.631185057404906, 71.37883279058367, 66.8753426102481, 42.85241217303394, 38.89690384072052, 83.52068419056974, 76.00583819861818, 82.14138529209217, 48.01744877603112, 53.98449845797553, 36.18742982083252, 63.470475453725385, 63.22795889356348, 35.10605833831855, 30.671075259603974, 37.23780435626285, 37.144767438564045, 42.45262373054803, 82.4307620685316, 9.645916384704702, 12.413949772026449, 27.93220989871844, 59.536111890701875, 22.81802088059828, 32.998633085951774, 52.7334523532286, 43.410256252191374, 36.00516181619777, 73.91048719620802, 50.953335258261866, 76.51719433662123, 38.5689936819974, 15.384909862095164, 23.019599065937996, 40.67425240105622, 35.032660467061646, 24.360088931428102, 22.98160023990589, 6.157989100915241, 48.697033467351304, 31.223536848117107, 76.81089860472954, 58.69778337825223, 49.02679025936857, 32.3354127147477, 37.520891372629826, 18.538927200895344, 117.78351941412635, 44.14476476635474, 41.24253737813601, 33.7036376077307, 31.87491496918254, 36.70264590921053, 24.924701482245506, 44.97264766506667, 39.40562389465216, 53.24823983022742, 48.05637040346811, 22.621144458698215, 24.028594202750156, 33.28229225111505, 11.69069881307151, 9.44559141161402, 25.061007697076235, 14.688977165796501, 26.27178832632276, 30.36931383637615, 26.895663365772144, 53.18124762918933, 29.631371934778382, 56.78000319082149, 0.0, 32.11788668299299, 42.429181186175676, 45.454591085449266, 37.077532472347194, 40.618361015105556, 35.86673737367264, 41.24597093685982, 39.0084572284464, 33.84942091195437, 75.2565255692237, 41.8383616329232, 26.862245644300348, 58.30980477422861, 59.418642201740234, 62.756926123121886, 54.71185905035402, 40.58584123602383, 20.254545902774687, 15.562981674266354, 14.932099209763177, 29.405899503439457, 20.330443135553907, 35.37386548375419, 19.274222563973648, 22.317126430343116, 17.141477834639993, 20.53356495883067, 52.13063728617081, 44.22165107011669, 54.48252041934757, 34.204465736004096, 35.272761335494515, 45.503254932719486, 31.300554497124338, 33.99572124356758, 30.935855114617873, 21.05097002053308, 36.03968279748908, 35.530647328845575, 33.69806976389558, 22.593785368751913, 18.881784831756022, 64.3373141250235, 47.895443211478224, 77.65378703360038, 64.21046225039505, 52.73913913535926, 61.49220897392194, 31.72742860145451, 44.067903764590625, 84.85322951626493, 101.93302466935687, 68.69780589184326, 50.1284463107867, 69.76233538000248, 88.2177261827618, 54.466734092363765, 14.756877869727695, 11.484129223818298, 19.645211668565132, 28.6304582248332, 49.746082269465305, 152.6913677690119, 64.82214908770051, 93.99969595353124, 40.338400514993246, 40.56409945618324, 64.9192518790134, 53.890419651336515, 40.7160092602754, 60.037196594968556, 34.57753348580127, 50.37704936856151, 45.928988860350444, 50.94650742073951, 58.996330394837344, 15.728609091801466, 36.24087863855232, 22.98536561622438, 45.949309726639015, 45.334784960744166, 29.732633217100357, 0.0, 17.701390303606086, 11.889623838925406, 45.62134262867906, 28.406098057000378, 25.096113856411783, 62.79206184208901, 42.638798877770455, 65.56984611389876, 15.66111728022837, 34.65350593860764]\n"
     ]
    }
   ],
   "source": [
    "import cv2\n",
    "import numpy as np\n",
    "\n",
    "def image_colorfulness(image):\n",
    "    #将图片分为B,G,R三部分（注意，这里得到的R、G、B为向量而不是标量）\n",
    "    (B, G, R) = cv2.split(image.astype(\"float\"))\n",
    " \n",
    "    #rg = R - G\n",
    "    rg = np.absolute(R - G)\n",
    " \n",
    "    #yb = 0.5 * (R + G) - B\n",
    "    yb = np.absolute(0.5 * (R + G) - B)\n",
    " \n",
    "    #计算rg和yb的平均值和标准差\n",
    "    (rbMean, rbStd) = (np.mean(rg), np.std(rg))\n",
    "    (ybMean, ybStd) = (np.mean(yb), np.std(yb))\n",
    " \n",
    "    #计算rgyb的标准差和平均值\n",
    "    stdRoot = np.sqrt((rbStd ** 2) + (ybStd ** 2))\n",
    "    meanRoot = np.sqrt((rbMean ** 2) + (ybMean ** 2))\n",
    " \n",
    "    # 返回颜色丰富度C\n",
    "    return stdRoot + (0.3 * meanRoot)\n",
    "color12 = []\n",
    "for i in range(len(f12_list)):\n",
    "    image = cv2.imread(f12_list[i])  \n",
    "    color12.append(image_colorfulness(image))\n",
    "print(color12)"
   ]
  },
  {
   "cell_type": "code",
   "execution_count": 157,
   "id": "7857dc9d",
   "metadata": {},
   "outputs": [],
   "source": [
    "import pandas as pd\n",
    "df_1 = pd.read_csv(\"G:/MKT/train code/+quality+keywords/estee lauder makeup.csv\")\n",
    "\n",
    "df_1.insert(loc=len(df_1.columns), column='colorful', value=color12)\n",
    "\n",
    "df_1.to_csv(\"G:/MKT/train code/estee lauder makeup.csv\",encoding = 'utf-8')"
   ]
  },
  {
   "cell_type": "code",
   "execution_count": 158,
   "id": "64412408",
   "metadata": {},
   "outputs": [
    {
     "name": "stdout",
     "output_type": "stream",
     "text": [
      "[1, 0, 0, 1, 0, 1, 0, 0, 0, 0, 0, 0, 1, 0, 0, 0, 0, 0, 0, 0, 0, 0, 0, 0, 1, 0, 0, 1, 0, 1, 1, 0, 0, 1, 1, 0, 1, 0, 1, 0, 0, 0, 0, 0, 0, 0, 1, 0, 0, 1, 1, 1, 1, 1, 1, 1, 1, 0, 1, 1, 0, 0, 0, 1, 0, 1, 0, 1, 1, 0, 0, 0, 0, 0, 1, 0, 0, 0, 0, 0, 0, 1, 0, 0, 0, 0, 1, 1, 0, 0, 0, 0, 0, 0, 1, 1, 1, 1, 1, 1, 1, 0, 1, 0, 0, 0, 0, 1, 0, 1, 1, 0, 1, 0, 1, 1, 1, 1, 1, 1, 0, 0, 1, 0, 0, 0, 0, 0, 1, 0, 0, 0, 1, 1, 1, 0, 0, 1, 0, 0, 1, 1, 1, 0, 0, 0, 0, 0, 1, 0, 1, 1, 1, 0, 0, 0, 0, 1, 0, 1, 0, 0, 0, 0, 1, 0, 0, 1, 0, 1, 1, 1, 0, 0, 1, 1, 0, 1, 0, 0, 1, 0, 0, 0, 0, 1, 0, 1, 0, 0, 0, 1, 1, 0, 0, 0, 0, 0, 1, 0, 1, 1, 0, 1, 0, 0, 0, 0, 1, 0, 0, 0, 0, 0, 0, 0, 0, 0, 0, 0, 1, 0, 0, 0, 0, 0, 0, 0, 0, 1, 1, 0, 1, 1, 0, 1, 1, 0, 1, 0, 1, 1, 0, 1, 1, 0, 0, 0, 1, 0, 0, 1, 1, 1, 1, 0, 1, 0, 0, 1, 1, 0, 0, 0, 1, 1]\n"
     ]
    }
   ],
   "source": [
    "import cv2\n",
    "import matplotlib.pyplot as plt # 用于绘制图像\n",
    "face_cascade = cv2.CascadeClassifier(r'C:/Users/wsy/Documents/WeChat Files/wxid_0kkdf1pnvtqf22/FileStorage/File/2022-11/haarcascade_frontalface_default.xml')\n",
    "# 读取输入图像\n",
    "l = []\n",
    "for i in range(len(f12_list)):\n",
    "    img = cv2.imread(f12_list[i])\n",
    "    # 检测人脸\n",
    "    faces = face_cascade.detectMultiScale(image = img, scaleFactor = 1.1, minNeighbors = 5)\n",
    "        # 显示图像中检测到的人脸数量\n",
    "    if(len(faces) < 1):\n",
    "        l.append(0)\n",
    "    else:\n",
    "        l.append(1)\n",
    "print(l)"
   ]
  },
  {
   "cell_type": "code",
   "execution_count": 159,
   "id": "b008c9b1",
   "metadata": {},
   "outputs": [],
   "source": [
    "import pandas as pd\n",
    "df_1 = pd.read_csv(\"G:/MKT/train code/estee lauder makeup.csv\")\n",
    "\n",
    "df_1.insert(loc=len(df_1.columns), column='face', value=l)\n",
    "\n",
    "df_1.to_csv(\"G:/MKT/train code/latest training data/estee lauder makeup.csv\",encoding = 'utf-8')"
   ]
  },
  {
   "cell_type": "markdown",
   "id": "58abf9f2",
   "metadata": {},
   "source": [
    "# makeup_canmake"
   ]
  },
  {
   "cell_type": "code",
   "execution_count": 148,
   "id": "0a07ffda",
   "metadata": {},
   "outputs": [
    {
     "name": "stdout",
     "output_type": "stream",
     "text": [
      "['G:/MKT/train code/Flick/makeup_canmake\\\\canmake makeup0000000.jpg', 'G:/MKT/train code/Flick/makeup_canmake\\\\canmake makeup0000001.jpg', 'G:/MKT/train code/Flick/makeup_canmake\\\\canmake makeup0000002.jpg', 'G:/MKT/train code/Flick/makeup_canmake\\\\canmake makeup0000003.jpg', 'G:/MKT/train code/Flick/makeup_canmake\\\\canmake makeup0000004.jpg', 'G:/MKT/train code/Flick/makeup_canmake\\\\canmake makeup0000007.jpg', 'G:/MKT/train code/Flick/makeup_canmake\\\\canmake makeup0000008.jpg', 'G:/MKT/train code/Flick/makeup_canmake\\\\canmake makeup0000009.jpg', 'G:/MKT/train code/Flick/makeup_canmake\\\\canmake makeup0000010.jpg', 'G:/MKT/train code/Flick/makeup_canmake\\\\canmake makeup0000011.jpg', 'G:/MKT/train code/Flick/makeup_canmake\\\\canmake makeup0000012.jpg', 'G:/MKT/train code/Flick/makeup_canmake\\\\canmake makeup0000013.jpg', 'G:/MKT/train code/Flick/makeup_canmake\\\\canmake makeup0000014.jpg', 'G:/MKT/train code/Flick/makeup_canmake\\\\canmake makeup0000015.jpg', 'G:/MKT/train code/Flick/makeup_canmake\\\\canmake makeup0000016.jpg', 'G:/MKT/train code/Flick/makeup_canmake\\\\canmake makeup0000017.jpg', 'G:/MKT/train code/Flick/makeup_canmake\\\\canmake makeup0000018.jpg', 'G:/MKT/train code/Flick/makeup_canmake\\\\canmake makeup0000019.jpg', 'G:/MKT/train code/Flick/makeup_canmake\\\\canmake makeup0000020.jpg', 'G:/MKT/train code/Flick/makeup_canmake\\\\canmake makeup0000021.jpg', 'G:/MKT/train code/Flick/makeup_canmake\\\\canmake makeup0000024.jpg', 'G:/MKT/train code/Flick/makeup_canmake\\\\canmake makeup0000025.jpg', 'G:/MKT/train code/Flick/makeup_canmake\\\\canmake makeup0000026.jpg', 'G:/MKT/train code/Flick/makeup_canmake\\\\canmake makeup0000027.jpg', 'G:/MKT/train code/Flick/makeup_canmake\\\\canmake makeup0000028.jpg', 'G:/MKT/train code/Flick/makeup_canmake\\\\canmake makeup0000029.jpg', 'G:/MKT/train code/Flick/makeup_canmake\\\\canmake makeup0000030.jpg', 'G:/MKT/train code/Flick/makeup_canmake\\\\canmake makeup0000031.jpg', 'G:/MKT/train code/Flick/makeup_canmake\\\\canmake makeup0000032.jpg', 'G:/MKT/train code/Flick/makeup_canmake\\\\canmake makeup0000033.jpg', 'G:/MKT/train code/Flick/makeup_canmake\\\\canmake makeup0000034.jpg', 'G:/MKT/train code/Flick/makeup_canmake\\\\canmake makeup0000035.jpg', 'G:/MKT/train code/Flick/makeup_canmake\\\\canmake makeup0000036.jpg', 'G:/MKT/train code/Flick/makeup_canmake\\\\canmake makeup0000037.jpg', 'G:/MKT/train code/Flick/makeup_canmake\\\\canmake makeup0000038.jpg', 'G:/MKT/train code/Flick/makeup_canmake\\\\canmake makeup0000039.jpg', 'G:/MKT/train code/Flick/makeup_canmake\\\\canmake makeup0000040.jpg', 'G:/MKT/train code/Flick/makeup_canmake\\\\canmake makeup0000041.jpg', 'G:/MKT/train code/Flick/makeup_canmake\\\\canmake makeup0000042.jpg', 'G:/MKT/train code/Flick/makeup_canmake\\\\canmake makeup0000043.jpg', 'G:/MKT/train code/Flick/makeup_canmake\\\\canmake makeup0000044.jpg', 'G:/MKT/train code/Flick/makeup_canmake\\\\canmake makeup0000045.jpg', 'G:/MKT/train code/Flick/makeup_canmake\\\\canmake makeup0000046.jpg', 'G:/MKT/train code/Flick/makeup_canmake\\\\canmake makeup0000047.jpg', 'G:/MKT/train code/Flick/makeup_canmake\\\\canmake makeup0000048.jpg', 'G:/MKT/train code/Flick/makeup_canmake\\\\canmake makeup0000049.jpg', 'G:/MKT/train code/Flick/makeup_canmake\\\\canmake makeup0000050.jpg', 'G:/MKT/train code/Flick/makeup_canmake\\\\canmake makeup0000051.jpg', 'G:/MKT/train code/Flick/makeup_canmake\\\\canmake makeup0000052.jpg', 'G:/MKT/train code/Flick/makeup_canmake\\\\canmake makeup0000053.jpg', 'G:/MKT/train code/Flick/makeup_canmake\\\\canmake makeup0000054.jpg', 'G:/MKT/train code/Flick/makeup_canmake\\\\canmake makeup0000055.jpg', 'G:/MKT/train code/Flick/makeup_canmake\\\\canmake makeup0000056.jpg', 'G:/MKT/train code/Flick/makeup_canmake\\\\canmake makeup0000057.jpg', 'G:/MKT/train code/Flick/makeup_canmake\\\\canmake makeup0000058.jpg', 'G:/MKT/train code/Flick/makeup_canmake\\\\canmake makeup0000059.jpg', 'G:/MKT/train code/Flick/makeup_canmake\\\\canmake makeup0000060.jpg', 'G:/MKT/train code/Flick/makeup_canmake\\\\canmake makeup0000061.jpg', 'G:/MKT/train code/Flick/makeup_canmake\\\\canmake makeup0000062.jpg', 'G:/MKT/train code/Flick/makeup_canmake\\\\canmake makeup0000063.jpg', 'G:/MKT/train code/Flick/makeup_canmake\\\\canmake makeup0000064.jpg', 'G:/MKT/train code/Flick/makeup_canmake\\\\canmake makeup0000065.jpg', 'G:/MKT/train code/Flick/makeup_canmake\\\\canmake makeup0000066.jpg', 'G:/MKT/train code/Flick/makeup_canmake\\\\canmake makeup0000067.jpg', 'G:/MKT/train code/Flick/makeup_canmake\\\\canmake makeup0000068.jpg', 'G:/MKT/train code/Flick/makeup_canmake\\\\canmake makeup0000069.jpg', 'G:/MKT/train code/Flick/makeup_canmake\\\\canmake makeup0000070.jpg', 'G:/MKT/train code/Flick/makeup_canmake\\\\canmake makeup0000071.jpg', 'G:/MKT/train code/Flick/makeup_canmake\\\\canmake makeup0000072.jpg', 'G:/MKT/train code/Flick/makeup_canmake\\\\canmake makeup0000073.jpg', 'G:/MKT/train code/Flick/makeup_canmake\\\\canmake makeup0000074.jpg', 'G:/MKT/train code/Flick/makeup_canmake\\\\canmake makeup0000075.jpg', 'G:/MKT/train code/Flick/makeup_canmake\\\\canmake makeup0000076.jpg', 'G:/MKT/train code/Flick/makeup_canmake\\\\canmake makeup0000077.jpg', 'G:/MKT/train code/Flick/makeup_canmake\\\\canmake makeup0000078.jpg', 'G:/MKT/train code/Flick/makeup_canmake\\\\canmake makeup0000079.jpg', 'G:/MKT/train code/Flick/makeup_canmake\\\\canmake makeup0000080.jpg', 'G:/MKT/train code/Flick/makeup_canmake\\\\canmake makeup0000081.jpg', 'G:/MKT/train code/Flick/makeup_canmake\\\\canmake makeup0000082.jpg', 'G:/MKT/train code/Flick/makeup_canmake\\\\canmake makeup0000083.jpg', 'G:/MKT/train code/Flick/makeup_canmake\\\\canmake makeup0000084.jpg']\n"
     ]
    }
   ],
   "source": [
    "import os\n",
    "\n",
    "def traverse_dir_files(root_dir, ext=None):\n",
    "#\"\"\"\n",
    "#列出文件夹中的文件, 深度遍历\n",
    "#:param root_dir: 根目录\n",
    "#:param ext: 后缀名\n",
    "#:param is_sorted: 是否排序，耗时较长\n",
    "#:return: [文件路径列表, 文件名称列表]\n",
    "#\"\"\"\n",
    "    paths_list = []\n",
    "    full_list = []\n",
    "    for parent, _, fileNames in os.walk(root_dir):\n",
    "        for name in fileNames:\n",
    "            if name.startswith('.') :  # 去除隐藏文件\n",
    "                continue\n",
    "            if ext:  # 根据后缀名搜索\n",
    "                if name.endswith(tuple(ext)):\n",
    "                    paths_list.append(parent)\n",
    "                    full_list.append(os.path.join(parent, name))\n",
    "            else:\n",
    "                paths_list.append(parent)\n",
    "                full_list.append(os.path.join(parent, name))\n",
    "    return paths_list,full_list\n",
    "\n",
    "p_list,f13_list = traverse_dir_files('G:/MKT/train code/Flick/makeup_canmake','.jpg')\n",
    "\n",
    "print(f13_list)"
   ]
  },
  {
   "cell_type": "code",
   "execution_count": 149,
   "id": "3bb9e188",
   "metadata": {},
   "outputs": [
    {
     "name": "stdout",
     "output_type": "stream",
     "text": [
      "[47.025734073444966, 27.43846773932888, 41.14365493959504, 35.18254458854793, 37.234045603180085, 26.497701156438318, 24.724710995887882, 31.754468048891635, 51.209098211722136, 36.26124517755389, 28.58460414281796, 21.4394531629114, 21.264773149524014, 31.860031991353896, 50.07852653402479, 22.429540476864236, 43.14007480052637, 29.43888937822251, 30.1089469995106, 26.297255642583117, 37.909975331657414, 29.10807379841821, 25.202319886676033, 23.24594705849599, 30.666421357271496, 29.558168634185293, 22.946481696532466, 62.14985244679045, 25.804895801956647, 50.32377964995363, 13.293024744591676, 12.624530884139595, 0.57922101185055, 44.686612802030545, 44.70810665484169, 34.97551940792861, 29.713482051445183, 38.60812074910365, 51.731109836226324, 35.590240873011695, 32.57864820781445, 41.50367544541258, 38.51158571191984, 41.58488699118455, 17.063404578127198, 42.23160759718493, 59.08956615469836, 54.00521020692989, 26.2586838748511, 34.051202721010114, 30.57945952961201, 35.46869179756041, 22.029810394073458, 32.95464704521875, 29.738730438886805, 32.27603189025494, 35.652192949431225, 26.192188972594025, 29.305916822899153, 24.39297217206736, 47.18392386237342, 28.85779102480169, 49.30996153232682, 49.1907470487648, 15.678249895843669, 42.10178682964923, 48.208167833240566, 63.54070342388285, 53.97374342258145, 66.90842701686478, 69.18023198711495, 31.70283183011663, 73.60853417667016, 27.31964680138305, 40.11979146869676, 15.645794706533678, 40.682328098957804, 55.07761075003447, 54.10728154268133, 33.420690247542844, 34.221412561786124]\n"
     ]
    }
   ],
   "source": [
    "import cv2\n",
    "import numpy as np\n",
    "\n",
    "def image_colorfulness(image):\n",
    "    #将图片分为B,G,R三部分（注意，这里得到的R、G、B为向量而不是标量）\n",
    "    (B, G, R) = cv2.split(image.astype(\"float\"))\n",
    " \n",
    "    #rg = R - G\n",
    "    rg = np.absolute(R - G)\n",
    " \n",
    "    #yb = 0.5 * (R + G) - B\n",
    "    yb = np.absolute(0.5 * (R + G) - B)\n",
    " \n",
    "    #计算rg和yb的平均值和标准差\n",
    "    (rbMean, rbStd) = (np.mean(rg), np.std(rg))\n",
    "    (ybMean, ybStd) = (np.mean(yb), np.std(yb))\n",
    " \n",
    "    #计算rgyb的标准差和平均值\n",
    "    stdRoot = np.sqrt((rbStd ** 2) + (ybStd ** 2))\n",
    "    meanRoot = np.sqrt((rbMean ** 2) + (ybMean ** 2))\n",
    " \n",
    "    # 返回颜色丰富度C\n",
    "    return stdRoot + (0.3 * meanRoot)\n",
    "color13 = []\n",
    "for i in range(len(f13_list)):\n",
    "    image = cv2.imread(f13_list[i])  \n",
    "    color13.append(image_colorfulness(image))\n",
    "print(color13)"
   ]
  },
  {
   "cell_type": "code",
   "execution_count": 150,
   "id": "e8e4f69b",
   "metadata": {},
   "outputs": [],
   "source": [
    "import pandas as pd\n",
    "df_1 = pd.read_csv(\"G:/MKT/train code/+quality+keywords/canmake makeup.csv\")\n",
    "\n",
    "df_1.insert(loc=len(df_1.columns), column='colorful', value=color13)\n",
    "\n",
    "df_1.to_csv(\"G:/MKT/train code/canmake makeup.csv\",encoding = 'utf-8')"
   ]
  },
  {
   "cell_type": "code",
   "execution_count": 151,
   "id": "8f61ec13",
   "metadata": {},
   "outputs": [
    {
     "name": "stdout",
     "output_type": "stream",
     "text": [
      "[1, 0, 1, 1, 1, 1, 1, 1, 1, 1, 1, 1, 1, 1, 1, 1, 0, 0, 0, 1, 0, 1, 0, 0, 0, 0, 1, 1, 1, 0, 0, 0, 0, 1, 0, 0, 0, 0, 0, 1, 0, 0, 0, 0, 0, 1, 0, 0, 1, 0, 0, 0, 0, 1, 0, 1, 0, 0, 0, 0, 0, 0, 0, 1, 0, 0, 1, 1, 1, 1, 1, 0, 1, 0, 1, 1, 1, 1, 0, 0, 0]\n"
     ]
    }
   ],
   "source": [
    "import cv2\n",
    "import matplotlib.pyplot as plt # 用于绘制图像\n",
    "face_cascade = cv2.CascadeClassifier(r'C:/Users/wsy/Documents/WeChat Files/wxid_0kkdf1pnvtqf22/FileStorage/File/2022-11/haarcascade_frontalface_default.xml')\n",
    "# 读取输入图像\n",
    "l = []\n",
    "for i in range(len(f13_list)):\n",
    "    img = cv2.imread(f13_list[i])\n",
    "    # 检测人脸\n",
    "    faces = face_cascade.detectMultiScale(image = img, scaleFactor = 1.1, minNeighbors = 5)\n",
    "        # 显示图像中检测到的人脸数量\n",
    "    if(len(faces) < 1):\n",
    "        l.append(0)\n",
    "    else:\n",
    "        l.append(1)\n",
    "print(l)"
   ]
  },
  {
   "cell_type": "code",
   "execution_count": 152,
   "id": "4a0963de",
   "metadata": {},
   "outputs": [],
   "source": [
    "import pandas as pd\n",
    "df_1 = pd.read_csv(\"G:/MKT/train code/canmake makeup.csv\")\n",
    "\n",
    "df_1.insert(loc=len(df_1.columns), column='face', value=l)\n",
    "\n",
    "df_1.to_csv(\"G:/MKT/train code/latest training data/canmake makeup.csv\",encoding = 'utf-8')"
   ]
  }
 ],
 "metadata": {
  "kernelspec": {
   "display_name": "Python 3 (ipykernel)",
   "language": "python",
   "name": "python3"
  },
  "language_info": {
   "codemirror_mode": {
    "name": "ipython",
    "version": 3
   },
   "file_extension": ".py",
   "mimetype": "text/x-python",
   "name": "python",
   "nbconvert_exporter": "python",
   "pygments_lexer": "ipython3",
   "version": "3.9.7"
  }
 },
 "nbformat": 4,
 "nbformat_minor": 5
}
